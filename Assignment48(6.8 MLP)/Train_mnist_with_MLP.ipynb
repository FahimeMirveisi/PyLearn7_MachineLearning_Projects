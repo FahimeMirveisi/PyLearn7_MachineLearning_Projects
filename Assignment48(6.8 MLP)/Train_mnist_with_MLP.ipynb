{
 "nbformat": 4,
 "nbformat_minor": 0,
 "metadata": {
  "colab": {
   "provenance": []
  },
  "kernelspec": {
   "name": "python3",
   "display_name": "Python 3"
  },
  "language_info": {
   "name": "python"
  }
 },
 "cells": [
  {
   "cell_type": "code",
   "execution_count": 1,
   "metadata": {
    "id": "Ud3_4_ffb5qU"
   },
   "outputs": [],
   "source": [
    "import numpy as np\n",
    "import matplotlib.pyplot as plt\n",
    "from sklearn.datasets import load_digits\n",
    "from sklearn.model_selection import train_test_split"
   ]
  },
  {
   "cell_type": "code",
   "source": [
    "dataset = load_digits()\n",
    "dataset"
   ],
   "metadata": {
    "id": "2WlEQQhSctX3",
    "outputId": "6e1ececd-48f4-4a7e-b684-509b642236c4",
    "colab": {
     "base_uri": "https://localhost:8080/"
    }
   },
   "execution_count": 2,
   "outputs": [
    {
     "data": {
      "text/plain": "{'data': array([[ 0.,  0.,  5., ...,  0.,  0.,  0.],\n        [ 0.,  0.,  0., ..., 10.,  0.,  0.],\n        [ 0.,  0.,  0., ..., 16.,  9.,  0.],\n        ...,\n        [ 0.,  0.,  1., ...,  6.,  0.,  0.],\n        [ 0.,  0.,  2., ..., 12.,  0.,  0.],\n        [ 0.,  0., 10., ..., 12.,  1.,  0.]]),\n 'target': array([0, 1, 2, ..., 8, 9, 8]),\n 'frame': None,\n 'feature_names': ['pixel_0_0',\n  'pixel_0_1',\n  'pixel_0_2',\n  'pixel_0_3',\n  'pixel_0_4',\n  'pixel_0_5',\n  'pixel_0_6',\n  'pixel_0_7',\n  'pixel_1_0',\n  'pixel_1_1',\n  'pixel_1_2',\n  'pixel_1_3',\n  'pixel_1_4',\n  'pixel_1_5',\n  'pixel_1_6',\n  'pixel_1_7',\n  'pixel_2_0',\n  'pixel_2_1',\n  'pixel_2_2',\n  'pixel_2_3',\n  'pixel_2_4',\n  'pixel_2_5',\n  'pixel_2_6',\n  'pixel_2_7',\n  'pixel_3_0',\n  'pixel_3_1',\n  'pixel_3_2',\n  'pixel_3_3',\n  'pixel_3_4',\n  'pixel_3_5',\n  'pixel_3_6',\n  'pixel_3_7',\n  'pixel_4_0',\n  'pixel_4_1',\n  'pixel_4_2',\n  'pixel_4_3',\n  'pixel_4_4',\n  'pixel_4_5',\n  'pixel_4_6',\n  'pixel_4_7',\n  'pixel_5_0',\n  'pixel_5_1',\n  'pixel_5_2',\n  'pixel_5_3',\n  'pixel_5_4',\n  'pixel_5_5',\n  'pixel_5_6',\n  'pixel_5_7',\n  'pixel_6_0',\n  'pixel_6_1',\n  'pixel_6_2',\n  'pixel_6_3',\n  'pixel_6_4',\n  'pixel_6_5',\n  'pixel_6_6',\n  'pixel_6_7',\n  'pixel_7_0',\n  'pixel_7_1',\n  'pixel_7_2',\n  'pixel_7_3',\n  'pixel_7_4',\n  'pixel_7_5',\n  'pixel_7_6',\n  'pixel_7_7'],\n 'target_names': array([0, 1, 2, 3, 4, 5, 6, 7, 8, 9]),\n 'images': array([[[ 0.,  0.,  5., ...,  1.,  0.,  0.],\n         [ 0.,  0., 13., ..., 15.,  5.,  0.],\n         [ 0.,  3., 15., ..., 11.,  8.,  0.],\n         ...,\n         [ 0.,  4., 11., ..., 12.,  7.,  0.],\n         [ 0.,  2., 14., ..., 12.,  0.,  0.],\n         [ 0.,  0.,  6., ...,  0.,  0.,  0.]],\n \n        [[ 0.,  0.,  0., ...,  5.,  0.,  0.],\n         [ 0.,  0.,  0., ...,  9.,  0.,  0.],\n         [ 0.,  0.,  3., ...,  6.,  0.,  0.],\n         ...,\n         [ 0.,  0.,  1., ...,  6.,  0.,  0.],\n         [ 0.,  0.,  1., ...,  6.,  0.,  0.],\n         [ 0.,  0.,  0., ..., 10.,  0.,  0.]],\n \n        [[ 0.,  0.,  0., ..., 12.,  0.,  0.],\n         [ 0.,  0.,  3., ..., 14.,  0.,  0.],\n         [ 0.,  0.,  8., ..., 16.,  0.,  0.],\n         ...,\n         [ 0.,  9., 16., ...,  0.,  0.,  0.],\n         [ 0.,  3., 13., ..., 11.,  5.,  0.],\n         [ 0.,  0.,  0., ..., 16.,  9.,  0.]],\n \n        ...,\n \n        [[ 0.,  0.,  1., ...,  1.,  0.,  0.],\n         [ 0.,  0., 13., ...,  2.,  1.,  0.],\n         [ 0.,  0., 16., ..., 16.,  5.,  0.],\n         ...,\n         [ 0.,  0., 16., ..., 15.,  0.,  0.],\n         [ 0.,  0., 15., ..., 16.,  0.,  0.],\n         [ 0.,  0.,  2., ...,  6.,  0.,  0.]],\n \n        [[ 0.,  0.,  2., ...,  0.,  0.,  0.],\n         [ 0.,  0., 14., ..., 15.,  1.,  0.],\n         [ 0.,  4., 16., ..., 16.,  7.,  0.],\n         ...,\n         [ 0.,  0.,  0., ..., 16.,  2.,  0.],\n         [ 0.,  0.,  4., ..., 16.,  2.,  0.],\n         [ 0.,  0.,  5., ..., 12.,  0.,  0.]],\n \n        [[ 0.,  0., 10., ...,  1.,  0.,  0.],\n         [ 0.,  2., 16., ...,  1.,  0.,  0.],\n         [ 0.,  0., 15., ..., 15.,  0.,  0.],\n         ...,\n         [ 0.,  4., 16., ..., 16.,  6.,  0.],\n         [ 0.,  8., 16., ..., 16.,  8.,  0.],\n         [ 0.,  1.,  8., ..., 12.,  1.,  0.]]]),\n 'DESCR': \".. _digits_dataset:\\n\\nOptical recognition of handwritten digits dataset\\n--------------------------------------------------\\n\\n**Data Set Characteristics:**\\n\\n    :Number of Instances: 1797\\n    :Number of Attributes: 64\\n    :Attribute Information: 8x8 image of integer pixels in the range 0..16.\\n    :Missing Attribute Values: None\\n    :Creator: E. Alpaydin (alpaydin '@' boun.edu.tr)\\n    :Date: July; 1998\\n\\nThis is a copy of the test set of the UCI ML hand-written digits datasets\\nhttps://archive.ics.uci.edu/ml/datasets/Optical+Recognition+of+Handwritten+Digits\\n\\nThe data set contains images of hand-written digits: 10 classes where\\neach class refers to a digit.\\n\\nPreprocessing programs made available by NIST were used to extract\\nnormalized bitmaps of handwritten digits from a preprinted form. From a\\ntotal of 43 people, 30 contributed to the training set and different 13\\nto the test set. 32x32 bitmaps are divided into nonoverlapping blocks of\\n4x4 and the number of on pixels are counted in each block. This generates\\nan input matrix of 8x8 where each element is an integer in the range\\n0..16. This reduces dimensionality and gives invariance to small\\ndistortions.\\n\\nFor info on NIST preprocessing routines, see M. D. Garris, J. L. Blue, G.\\nT. Candela, D. L. Dimmick, J. Geist, P. J. Grother, S. A. Janet, and C.\\nL. Wilson, NIST Form-Based Handprint Recognition System, NISTIR 5469,\\n1994.\\n\\n.. topic:: References\\n\\n  - C. Kaynak (1995) Methods of Combining Multiple Classifiers and Their\\n    Applications to Handwritten Digit Recognition, MSc Thesis, Institute of\\n    Graduate Studies in Science and Engineering, Bogazici University.\\n  - E. Alpaydin, C. Kaynak (1998) Cascading Classifiers, Kybernetika.\\n  - Ken Tang and Ponnuthurai N. Suganthan and Xi Yao and A. Kai Qin.\\n    Linear dimensionalityreduction using relevance weighted LDA. School of\\n    Electrical and Electronic Engineering Nanyang Technological University.\\n    2005.\\n  - Claudio Gentile. A New Approximate Maximal Margin Classification\\n    Algorithm. NIPS. 2000.\\n\"}"
     },
     "execution_count": 2,
     "metadata": {},
     "output_type": "execute_result"
    }
   ]
  },
  {
   "cell_type": "code",
   "source": [
    "dataset.data.shape"
   ],
   "metadata": {
    "id": "XOjXi9Qac-Po",
    "outputId": "7ddae076-4409-484c-8f0b-3384fb9fe6e4",
    "colab": {
     "base_uri": "https://localhost:8080/"
    }
   },
   "execution_count": 3,
   "outputs": [
    {
     "data": {
      "text/plain": "(1797, 64)"
     },
     "execution_count": 3,
     "metadata": {},
     "output_type": "execute_result"
    }
   ]
  },
  {
   "cell_type": "code",
   "source": [
    "dataset.images.shape"
   ],
   "metadata": {
    "id": "Gw_dwrmcdHGh",
    "outputId": "418ff09c-c569-4c32-f040-84b7420e5691",
    "colab": {
     "base_uri": "https://localhost:8080/"
    }
   },
   "execution_count": 4,
   "outputs": [
    {
     "data": {
      "text/plain": "(1797, 8, 8)"
     },
     "execution_count": 4,
     "metadata": {},
     "output_type": "execute_result"
    }
   ]
  },
  {
   "cell_type": "code",
   "source": [
    "plt.imshow(dataset.images[89])"
   ],
   "metadata": {
    "id": "dJWTQro8Bhsz",
    "colab": {
     "base_uri": "https://localhost:8080/",
     "height": 447
    },
    "outputId": "438bae45-31e7-4678-cec1-18daafe4cd7b"
   },
   "execution_count": 5,
   "outputs": [
    {
     "data": {
      "text/plain": "<matplotlib.image.AxesImage at 0x1c3d4be7010>"
     },
     "execution_count": 5,
     "metadata": {},
     "output_type": "execute_result"
    },
    {
     "data": {
      "text/plain": "<Figure size 640x480 with 1 Axes>",
      "image/png": "[encoded data removed]"
     },
     "metadata": {},
     "output_type": "display_data"
    }
   ]
  },
  {
   "cell_type": "code",
   "source": [
    "print(dataset.target.shape)\n",
    "print(dataset.target[89])"
   ],
   "metadata": {
    "id": "lh2N58wtdK6C",
    "colab": {
     "base_uri": "https://localhost:8080/"
    },
    "outputId": "cf63ef60-aa5c-4b69-8ba9-f630ef60d952"
   },
   "execution_count": 6,
   "outputs": [
    {
     "name": "stdout",
     "output_type": "stream",
     "text": [
      "(1797,)\n",
      "3\n"
     ]
    }
   ]
  },
  {
   "cell_type": "code",
   "source": [
    "X = dataset.data\n",
    "Y = dataset.target\n",
    "Y = np.eye(10)[Y]  #one hot\n",
    "\n",
    "X_train, X_test, Y_train, Y_test = train_test_split(X, Y, test_size=0.2)\n",
    "X_train.shape, X_test.shape, Y_train.shape, Y_test.shape"
   ],
   "metadata": {
    "id": "uyuD1chXePR-",
    "colab": {
     "base_uri": "https://localhost:8080/"
    },
    "outputId": "d576182d-153b-4fcb-d880-d919d990b6e8"
   },
   "execution_count": 7,
   "outputs": [
    {
     "data": {
      "text/plain": "((1437, 64), (360, 64), (1437, 10), (360, 10))"
     },
     "execution_count": 7,
     "metadata": {},
     "output_type": "execute_result"
    }
   ]
  },
  {
   "cell_type": "code",
   "source": [
    "print(Y_train)\n",
    "print(np.unique(Y_train))\n",
    "print(len(np.unique(Y_train)))"
   ],
   "metadata": {
    "colab": {
     "base_uri": "https://localhost:8080/"
    },
    "id": "JCdysaJHhvgM",
    "outputId": "959fc3f2-9cae-4198-b22b-5703853a2654"
   },
   "execution_count": 8,
   "outputs": [
    {
     "name": "stdout",
     "output_type": "stream",
     "text": [
      "[[1. 0. 0. ... 0. 0. 0.]\n",
      " [0. 0. 1. ... 0. 0. 0.]\n",
      " [0. 1. 0. ... 0. 0. 0.]\n",
      " ...\n",
      " [0. 0. 0. ... 0. 0. 1.]\n",
      " [0. 0. 0. ... 1. 0. 0.]\n",
      " [0. 0. 1. ... 0. 0. 0.]]\n",
      "[0. 1.]\n",
      "2\n"
     ]
    }
   ]
  },
  {
   "cell_type": "code",
   "source": [
    "def sigmoid(X):\n",
    "  return 1 / (1 + np.exp(-X))\n",
    "\n",
    "def softmax(X):\n",
    "  return np.exp(X) / np.sum(np.exp(X))\n",
    "\n",
    "def root_mean_square_error(Y_gt, Y_pred):\n",
    "  return np.sqrt(np.mean((Y_gt - Y_pred) ** 2))"
   ],
   "metadata": {
    "id": "sQUaWYNbF1cs"
   },
   "execution_count": 9,
   "outputs": []
  },
  {
   "cell_type": "code",
   "source": [
    "epochs = 80\n",
    "η = 0.001   #learning rate\n",
    "\n",
    "D_in = X_train.shape[1]\n",
    "H1 = 128\n",
    "H2 = 32\n",
    "#D_out = len(np.unique(Y_train))\n",
    "D_out = Y_train.shape[1]"
   ],
   "metadata": {
    "id": "PvH8rV-rIpA2"
   },
   "execution_count": 10,
   "outputs": []
  },
  {
   "cell_type": "code",
   "source": [
    "W1 = np.random.randn(D_in, H1)\n",
    "W2 = np.random.randn(H1, H2)\n",
    "W3 = np.random.randn(H2, D_out)\n",
    "\n",
    "B1 = np.random.randn(1, H1)\n",
    "B2 = np.random.randn(1, H2)\n",
    "B3 = np.random.randn(1, D_out)"
   ],
   "metadata": {
    "id": "k_qzNeIgiWRW"
   },
   "execution_count": 11,
   "outputs": []
  },
  {
   "cell_type": "code",
   "source": [
    "for epoch in range(epochs):\n",
    "\n",
    "  #train\n",
    "\n",
    "  Y_pred_train = []\n",
    "  for x,y in zip(X_train, Y_train):\n",
    "\n",
    "    x = x.reshape(-1, 1)\n",
    "    #print('x:',x,'x.shape:',x.shape)\n",
    "    #print('y:',y,'y.shape:', y.shape)\n",
    "    #forward\n",
    "\n",
    "    #layer1\n",
    "    out1 = sigmoid(x.T @ W1 + B1)\n",
    "    #print('out1.shape:', out1.shape)\n",
    "\n",
    "    #layer2\n",
    "    out2 = sigmoid(out1 @ W2 + B2)\n",
    "    #print('out2.shape:', out2.shape)\n",
    "\n",
    "    #layer3\n",
    "    out3 = softmax(out2 @ W3 + B3)\n",
    "    #print('out3.shape:', out3.shape)\n",
    "\n",
    "    y_pred = out3\n",
    "    Y_pred_train.append(y_pred)\n",
    "\n",
    "    #error = y - y_pred\n",
    "\n",
    "    #backward - باید همش مشتق بگیریم\n",
    "\n",
    "    #layer3\n",
    "    error = -2 * (y - y_pred) # error dar vaghe hamman grad_error yani moshtagh error hast\n",
    "    grad_B3 = error\n",
    "    grad_W3 = out2.T @ error\n",
    "\n",
    "    #layer2\n",
    "    error = error @ W3.T * out2 * (1 - out2)\n",
    "    grad_B2 = error\n",
    "    grad_W2 = out1.T @ error\n",
    "\n",
    "    #layer1\n",
    "    error = error @ W2.T * out1 * (1 - out1)\n",
    "    grad_B1 = error\n",
    "    grad_W1 = x @ error\n",
    "\n",
    "\n",
    "\n",
    "    #update\n",
    "\n",
    "    #layer1\n",
    "    W1 -= η * grad_W1\n",
    "    B1 -= η * grad_B1\n",
    "\n",
    "    #layer2\n",
    "    W2 -= η * grad_W2\n",
    "    B2 -= η * grad_B2\n",
    "\n",
    "    #layer3\n",
    "    W3 -= η * grad_W3\n",
    "    B3 -= η * grad_B3\n",
    "\n",
    "  Y_pred_test = []\n",
    "  for x,y in zip(X_test, Y_test):\n",
    "\n",
    "    x = x.reshape(-1, 1)\n",
    "    #print('x:',x,'x.shape:',x.shape)\n",
    "    #print('y:',y,'y.shape:', y.shape)\n",
    "    #forward\n",
    "\n",
    "    #layer1\n",
    "    out1 = sigmoid(x.T @ W1 + B1)\n",
    "    #print('out1.shape:', out1.shape)\n",
    "\n",
    "    #layer2\n",
    "    out2 = sigmoid(out1 @ W2 + B2)\n",
    "    #print('out2.shape:', out2.shape)\n",
    "\n",
    "    #layer3\n",
    "    out3 = softmax(out2 @ W3 + B3)\n",
    "    #print('out3.shape:', out3.shape)\n",
    "\n",
    "    y_pred = out3\n",
    "    Y_pred_test.append(y_pred)\n",
    "\n",
    "  Y_pred_train = np.array(Y_pred_train).reshape(-1, 10)\n",
    "\n",
    "  loss_train = root_mean_square_error(Y_train, Y_pred_train)\n",
    "  accuracy_train = np.sum(np.argmax(Y_train, axis=1) == np.argmax(Y_pred_train, axis=1)) / len(Y_train)\n",
    "  print('----------------------------epoch:', epoch,'--------------------------------------------')\n",
    "  print('loss train:',loss_train)\n",
    "  print('accuracy train:',accuracy_train)\n",
    "\n",
    "  Y_pred_test = np.array(Y_pred_test).reshape(-1, 10)\n",
    "\n",
    "  loss_test = root_mean_square_error(Y_test, Y_pred_test)\n",
    "  accuracy_test = np.sum(np.argmax(Y_test, axis=1) == np.argmax(Y_pred_test, axis=1)) / len(Y_test)\n",
    "\n",
    "  print('loss test:',loss_test)\n",
    "  print('accuracy test:',accuracy_test)"
   ],
   "metadata": {
    "id": "brvvkjzjj53Y"
   },
   "execution_count": 12,
   "outputs": [
    {
     "name": "stdout",
     "output_type": "stream",
     "text": [
      "----------------------------epoch: 0 --------------------------------------------\n",
      "loss train: 0.31963182129211243\n",
      "accuracy train: 0.17954070981210857\n",
      "loss test: 0.2996682322976206\n",
      "accuracy test: 0.25\n",
      "----------------------------epoch: 1 --------------------------------------------\n",
      "loss train: 0.2798590721345495\n",
      "accuracy train: 0.3653444676409186\n",
      "loss test: 0.27236890985482376\n",
      "accuracy test: 0.4083333333333333\n",
      "----------------------------epoch: 2 --------------------------------------------\n",
      "loss train: 0.25497235935286683\n",
      "accuracy train: 0.5031315240083507\n",
      "loss test: 0.25534251180835554\n",
      "accuracy test: 0.5027777777777778\n",
      "----------------------------epoch: 3 --------------------------------------------\n",
      "loss train: 0.23719643023987774\n",
      "accuracy train: 0.6005567153792624\n",
      "loss test: 0.242232221280028\n",
      "accuracy test: 0.5833333333333334\n",
      "----------------------------epoch: 4 --------------------------------------------\n",
      "loss train: 0.22306062099295934\n",
      "accuracy train: 0.6701461377870563\n",
      "loss test: 0.23138246350743907\n",
      "accuracy test: 0.6222222222222222\n",
      "----------------------------epoch: 5 --------------------------------------------\n",
      "loss train: 0.21113820994752322\n",
      "accuracy train: 0.721642310368824\n",
      "loss test: 0.22308278083322014\n",
      "accuracy test: 0.6666666666666666\n",
      "----------------------------epoch: 6 --------------------------------------------\n",
      "loss train: 0.20102233794603283\n",
      "accuracy train: 0.7571329157967989\n",
      "loss test: 0.21671200121820883\n",
      "accuracy test: 0.6888888888888889\n",
      "----------------------------epoch: 7 --------------------------------------------\n",
      "loss train: 0.19212901057331774\n",
      "accuracy train: 0.7780097425191371\n",
      "loss test: 0.21108632176867456\n",
      "accuracy test: 0.7138888888888889\n",
      "----------------------------epoch: 8 --------------------------------------------\n",
      "loss train: 0.1839053925595648\n",
      "accuracy train: 0.8016701461377871\n",
      "loss test: 0.2054495121025586\n",
      "accuracy test: 0.7166666666666667\n",
      "----------------------------epoch: 9 --------------------------------------------\n",
      "loss train: 0.17657584858419045\n",
      "accuracy train: 0.8218510786360473\n",
      "loss test: 0.20027198741262434\n",
      "accuracy test: 0.7305555555555555\n",
      "----------------------------epoch: 10 --------------------------------------------\n",
      "loss train: 0.17004822379228363\n",
      "accuracy train: 0.8399443284620738\n",
      "loss test: 0.1958280244751402\n",
      "accuracy test: 0.7527777777777778\n",
      "----------------------------epoch: 11 --------------------------------------------\n",
      "loss train: 0.16432363993055932\n",
      "accuracy train: 0.8503827418232429\n",
      "loss test: 0.19181286384696966\n",
      "accuracy test: 0.7722222222222223\n",
      "----------------------------epoch: 12 --------------------------------------------\n",
      "loss train: 0.15903948350545924\n",
      "accuracy train: 0.8629088378566457\n",
      "loss test: 0.18827142299754346\n",
      "accuracy test: 0.7805555555555556\n",
      "----------------------------epoch: 13 --------------------------------------------\n",
      "loss train: 0.15400563055974015\n",
      "accuracy train: 0.8761308281141267\n",
      "loss test: 0.1850912619264255\n",
      "accuracy test: 0.7833333333333333\n",
      "----------------------------epoch: 14 --------------------------------------------\n",
      "loss train: 0.14933016824169637\n",
      "accuracy train: 0.8844815588030619\n",
      "loss test: 0.182030409367318\n",
      "accuracy test: 0.7916666666666666\n",
      "----------------------------epoch: 15 --------------------------------------------\n",
      "loss train: 0.1451575344286773\n",
      "accuracy train: 0.8935281837160751\n",
      "loss test: 0.17920309182410063\n",
      "accuracy test: 0.7944444444444444\n",
      "----------------------------epoch: 16 --------------------------------------------\n",
      "loss train: 0.141249138590993\n",
      "accuracy train: 0.8990953375086986\n",
      "loss test: 0.17646641812712682\n",
      "accuracy test: 0.8083333333333333\n",
      "----------------------------epoch: 17 --------------------------------------------\n",
      "loss train: 0.13760510164514378\n",
      "accuracy train: 0.9032707028531664\n",
      "loss test: 0.17370608995712428\n",
      "accuracy test: 0.8083333333333333\n",
      "----------------------------epoch: 18 --------------------------------------------\n",
      "loss train: 0.13427680982513288\n",
      "accuracy train: 0.9102296450939458\n",
      "loss test: 0.17115806850845047\n",
      "accuracy test: 0.8111111111111111\n",
      "----------------------------epoch: 19 --------------------------------------------\n",
      "loss train: 0.1310968667486535\n",
      "accuracy train: 0.9137091162143354\n",
      "loss test: 0.1688216773347867\n",
      "accuracy test: 0.8166666666666667\n",
      "----------------------------epoch: 20 --------------------------------------------\n",
      "loss train: 0.12786981529585506\n",
      "accuracy train: 0.919276270006959\n",
      "loss test: 0.16654714563449444\n",
      "accuracy test: 0.8166666666666667\n",
      "----------------------------epoch: 21 --------------------------------------------\n",
      "loss train: 0.12479968590855961\n",
      "accuracy train: 0.9234516353514266\n",
      "loss test: 0.1642994954730936\n",
      "accuracy test: 0.8222222222222222\n",
      "----------------------------epoch: 22 --------------------------------------------\n",
      "loss train: 0.12200146119925742\n",
      "accuracy train: 0.9283228949199722\n",
      "loss test: 0.16215659800343793\n",
      "accuracy test: 0.8277777777777777\n",
      "----------------------------epoch: 23 --------------------------------------------\n",
      "loss train: 0.11941680687662097\n",
      "accuracy train: 0.9324982602644398\n",
      "loss test: 0.16013578053060715\n",
      "accuracy test: 0.8361111111111111\n",
      "----------------------------epoch: 24 --------------------------------------------\n",
      "loss train: 0.11701073928199969\n",
      "accuracy train: 0.9345859429366736\n",
      "loss test: 0.15822428439261887\n",
      "accuracy test: 0.8388888888888889\n",
      "----------------------------epoch: 25 --------------------------------------------\n",
      "loss train: 0.11474249533198555\n",
      "accuracy train: 0.9387613082811412\n",
      "loss test: 0.1564221833731959\n",
      "accuracy test: 0.8416666666666667\n",
      "----------------------------epoch: 26 --------------------------------------------\n",
      "loss train: 0.1126108066864876\n",
      "accuracy train: 0.941544885177453\n",
      "loss test: 0.15475546376972632\n",
      "accuracy test: 0.8472222222222222\n",
      "----------------------------epoch: 27 --------------------------------------------\n",
      "loss train: 0.11060801094027375\n",
      "accuracy train: 0.942240779401531\n",
      "loss test: 0.15322380783784315\n",
      "accuracy test: 0.85\n",
      "----------------------------epoch: 28 --------------------------------------------\n",
      "loss train: 0.10871470893220221\n",
      "accuracy train: 0.9443284620737648\n",
      "loss test: 0.15181500132643808\n",
      "accuracy test: 0.85\n",
      "----------------------------epoch: 29 --------------------------------------------\n",
      "loss train: 0.10690378552740512\n",
      "accuracy train: 0.9457202505219207\n",
      "loss test: 0.15049984455979207\n",
      "accuracy test: 0.8555555555555555\n",
      "----------------------------epoch: 30 --------------------------------------------\n",
      "loss train: 0.10516346384570995\n",
      "accuracy train: 0.9491997216423104\n",
      "loss test: 0.14922623877744262\n",
      "accuracy test: 0.8555555555555555\n",
      "----------------------------epoch: 31 --------------------------------------------\n",
      "loss train: 0.10349068824539412\n",
      "accuracy train: 0.9526791927627001\n",
      "loss test: 0.1479736791522406\n",
      "accuracy test: 0.8611111111111112\n",
      "----------------------------epoch: 32 --------------------------------------------\n",
      "loss train: 0.10190888536429321\n",
      "accuracy train: 0.9526791927627001\n",
      "loss test: 0.14676547898520806\n",
      "accuracy test: 0.8583333333333333\n",
      "----------------------------epoch: 33 --------------------------------------------\n",
      "loss train: 0.10029763696062942\n",
      "accuracy train: 0.953375086986778\n",
      "loss test: 0.14553686628633186\n",
      "accuracy test: 0.8666666666666667\n",
      "----------------------------epoch: 34 --------------------------------------------\n",
      "loss train: 0.09880537171512292\n",
      "accuracy train: 0.9547668754349339\n",
      "loss test: 0.14437657471845414\n",
      "accuracy test: 0.8722222222222222\n",
      "----------------------------epoch: 35 --------------------------------------------\n",
      "loss train: 0.09740718504741258\n",
      "accuracy train: 0.9554627696590118\n",
      "loss test: 0.14324873025904633\n",
      "accuracy test: 0.8722222222222222\n",
      "----------------------------epoch: 36 --------------------------------------------\n",
      "loss train: 0.09606743128186106\n",
      "accuracy train: 0.9547668754349339\n",
      "loss test: 0.14211667736292588\n",
      "accuracy test: 0.875\n",
      "----------------------------epoch: 37 --------------------------------------------\n",
      "loss train: 0.09475676937361259\n",
      "accuracy train: 0.9575504523312457\n",
      "loss test: 0.14100366805641032\n",
      "accuracy test: 0.875\n",
      "----------------------------epoch: 38 --------------------------------------------\n",
      "loss train: 0.09345640495232604\n",
      "accuracy train: 0.9589422407794015\n",
      "loss test: 0.14004755823394227\n",
      "accuracy test: 0.8805555555555555\n",
      "----------------------------epoch: 39 --------------------------------------------\n",
      "loss train: 0.09205453499393668\n",
      "accuracy train: 0.9596381350034795\n",
      "loss test: 0.1392147306015769\n",
      "accuracy test: 0.8805555555555555\n",
      "----------------------------epoch: 40 --------------------------------------------\n",
      "loss train: 0.0907200939889009\n",
      "accuracy train: 0.9624217118997912\n",
      "loss test: 0.1384395545043046\n",
      "accuracy test: 0.8805555555555555\n",
      "----------------------------epoch: 41 --------------------------------------------\n",
      "loss train: 0.08951841336343111\n",
      "accuracy train: 0.9638135003479471\n",
      "loss test: 0.13773998242029956\n",
      "accuracy test: 0.8833333333333333\n",
      "----------------------------epoch: 42 --------------------------------------------\n",
      "loss train: 0.08835764247067317\n",
      "accuracy train: 0.965205288796103\n",
      "loss test: 0.13712430363973058\n",
      "accuracy test: 0.8805555555555555\n",
      "----------------------------epoch: 43 --------------------------------------------\n",
      "loss train: 0.08721661683198749\n",
      "accuracy train: 0.9659011830201809\n",
      "loss test: 0.13659296931117498\n",
      "accuracy test: 0.8805555555555555\n",
      "----------------------------epoch: 44 --------------------------------------------\n",
      "loss train: 0.08607810268259744\n",
      "accuracy train: 0.9665970772442589\n",
      "loss test: 0.13609388871253045\n",
      "accuracy test: 0.8777777777777778\n",
      "----------------------------epoch: 45 --------------------------------------------\n",
      "loss train: 0.08496149466164316\n",
      "accuracy train: 0.9665970772442589\n",
      "loss test: 0.13556208276914045\n",
      "accuracy test: 0.8777777777777778\n",
      "----------------------------epoch: 46 --------------------------------------------\n",
      "loss train: 0.0838898855799951\n",
      "accuracy train: 0.9665970772442589\n",
      "loss test: 0.13505454904410288\n",
      "accuracy test: 0.8805555555555555\n",
      "----------------------------epoch: 47 --------------------------------------------\n",
      "loss train: 0.08284631113987716\n",
      "accuracy train: 0.9672929714683368\n",
      "loss test: 0.13454071151559235\n",
      "accuracy test: 0.8805555555555555\n",
      "----------------------------epoch: 48 --------------------------------------------\n",
      "loss train: 0.08184076207260578\n",
      "accuracy train: 0.9672929714683368\n",
      "loss test: 0.1339862281801436\n",
      "accuracy test: 0.8805555555555555\n",
      "----------------------------epoch: 49 --------------------------------------------\n",
      "loss train: 0.08088334803666897\n",
      "accuracy train: 0.9679888656924147\n",
      "loss test: 0.13337747771106553\n",
      "accuracy test: 0.8805555555555555\n",
      "----------------------------epoch: 50 --------------------------------------------\n",
      "loss train: 0.07997549076962976\n",
      "accuracy train: 0.9686847599164927\n",
      "loss test: 0.13275827627382789\n",
      "accuracy test: 0.8805555555555555\n",
      "----------------------------epoch: 51 --------------------------------------------\n",
      "loss train: 0.07910637205510493\n",
      "accuracy train: 0.9693806541405706\n",
      "loss test: 0.13215255493377118\n",
      "accuracy test: 0.8805555555555555\n",
      "----------------------------epoch: 52 --------------------------------------------\n",
      "loss train: 0.07826347935615133\n",
      "accuracy train: 0.9693806541405706\n",
      "loss test: 0.13156469939977605\n",
      "accuracy test: 0.8888888888888888\n",
      "----------------------------epoch: 53 --------------------------------------------\n",
      "loss train: 0.07743555843887198\n",
      "accuracy train: 0.9700765483646486\n",
      "loss test: 0.1309959181878306\n",
      "accuracy test: 0.8916666666666667\n",
      "----------------------------epoch: 54 --------------------------------------------\n",
      "loss train: 0.07661365047150294\n",
      "accuracy train: 0.9707724425887265\n",
      "loss test: 0.13044480684327936\n",
      "accuracy test: 0.8916666666666667\n",
      "----------------------------epoch: 55 --------------------------------------------\n",
      "loss train: 0.0757929874013935\n",
      "accuracy train: 0.9707724425887265\n",
      "loss test: 0.1298977592799396\n",
      "accuracy test: 0.8944444444444445\n",
      "----------------------------epoch: 56 --------------------------------------------\n",
      "loss train: 0.07496622216040243\n",
      "accuracy train: 0.9721642310368824\n",
      "loss test: 0.12929781575574648\n",
      "accuracy test: 0.8944444444444445\n",
      "----------------------------epoch: 57 --------------------------------------------\n",
      "loss train: 0.07408765771995726\n",
      "accuracy train: 0.9728601252609603\n",
      "loss test: 0.1285257817969094\n",
      "accuracy test: 0.8916666666666667\n",
      "----------------------------epoch: 58 --------------------------------------------\n",
      "loss train: 0.07315631924080289\n",
      "accuracy train: 0.9742519137091162\n",
      "loss test: 0.12790749363130724\n",
      "accuracy test: 0.8916666666666667\n",
      "----------------------------epoch: 59 --------------------------------------------\n",
      "loss train: 0.0723014036142131\n",
      "accuracy train: 0.9742519137091162\n",
      "loss test: 0.1274683629791684\n",
      "accuracy test: 0.8944444444444445\n",
      "----------------------------epoch: 60 --------------------------------------------\n",
      "loss train: 0.07148256572490329\n",
      "accuracy train: 0.9742519137091162\n",
      "loss test: 0.1270655865056464\n",
      "accuracy test: 0.8972222222222223\n",
      "----------------------------epoch: 61 --------------------------------------------\n",
      "loss train: 0.07068570169625837\n",
      "accuracy train: 0.9749478079331941\n",
      "loss test: 0.12668447629768106\n",
      "accuracy test: 0.8972222222222223\n",
      "----------------------------epoch: 62 --------------------------------------------\n",
      "loss train: 0.06990790249867115\n",
      "accuracy train: 0.9749478079331941\n",
      "loss test: 0.12632337931549031\n",
      "accuracy test: 0.9\n",
      "----------------------------epoch: 63 --------------------------------------------\n",
      "loss train: 0.06914450476579387\n",
      "accuracy train: 0.9756437021572721\n",
      "loss test: 0.12597559420722268\n",
      "accuracy test: 0.9027777777777778\n",
      "----------------------------epoch: 64 --------------------------------------------\n",
      "loss train: 0.06839623330421381\n",
      "accuracy train: 0.97633959638135\n",
      "loss test: 0.12563857249666124\n",
      "accuracy test: 0.9027777777777778\n",
      "----------------------------epoch: 65 --------------------------------------------\n",
      "loss train: 0.06766852675043193\n",
      "accuracy train: 0.97633959638135\n",
      "loss test: 0.12531278607067062\n",
      "accuracy test: 0.9055555555555556\n",
      "----------------------------epoch: 66 --------------------------------------------\n",
      "loss train: 0.0669625853732023\n",
      "accuracy train: 0.977731384829506\n",
      "loss test: 0.12499305971609112\n",
      "accuracy test: 0.9083333333333333\n",
      "----------------------------epoch: 67 --------------------------------------------\n",
      "loss train: 0.06627726336328103\n",
      "accuracy train: 0.9784272790535838\n",
      "loss test: 0.12467235001786653\n",
      "accuracy test: 0.9083333333333333\n",
      "----------------------------epoch: 68 --------------------------------------------\n",
      "loss train: 0.06560884340992158\n",
      "accuracy train: 0.9791231732776617\n",
      "loss test: 0.12434553545485602\n",
      "accuracy test: 0.9055555555555556\n",
      "----------------------------epoch: 69 --------------------------------------------\n",
      "loss train: 0.0649455372440802\n",
      "accuracy train: 0.9791231732776617\n",
      "loss test: 0.12400457969236457\n",
      "accuracy test: 0.9055555555555556\n",
      "----------------------------epoch: 70 --------------------------------------------\n",
      "loss train: 0.06427727260189892\n",
      "accuracy train: 0.9791231732776617\n",
      "loss test: 0.12362541238243038\n",
      "accuracy test: 0.9083333333333333\n",
      "----------------------------epoch: 71 --------------------------------------------\n",
      "loss train: 0.06364551145579772\n",
      "accuracy train: 0.9798190675017397\n",
      "loss test: 0.12321619035822107\n",
      "accuracy test: 0.9083333333333333\n",
      "----------------------------epoch: 72 --------------------------------------------\n",
      "loss train: 0.06305369707470593\n",
      "accuracy train: 0.9805149617258176\n",
      "loss test: 0.12280418386441544\n",
      "accuracy test: 0.9083333333333333\n",
      "----------------------------epoch: 73 --------------------------------------------\n",
      "loss train: 0.06248158824722757\n",
      "accuracy train: 0.9805149617258176\n",
      "loss test: 0.1223985252069635\n",
      "accuracy test: 0.9083333333333333\n",
      "----------------------------epoch: 74 --------------------------------------------\n",
      "loss train: 0.061909399513636436\n",
      "accuracy train: 0.9805149617258176\n",
      "loss test: 0.12200268159610322\n",
      "accuracy test: 0.9083333333333333\n",
      "----------------------------epoch: 75 --------------------------------------------\n",
      "loss train: 0.06133576967044587\n",
      "accuracy train: 0.9812108559498957\n",
      "loss test: 0.12161569510112737\n",
      "accuracy test: 0.9111111111111111\n",
      "----------------------------epoch: 76 --------------------------------------------\n",
      "loss train: 0.06078221886739313\n",
      "accuracy train: 0.9812108559498957\n",
      "loss test: 0.12123751945595106\n",
      "accuracy test: 0.9111111111111111\n",
      "----------------------------epoch: 77 --------------------------------------------\n",
      "loss train: 0.06024638403968978\n",
      "accuracy train: 0.9819067501739736\n",
      "loss test: 0.12086882959587282\n",
      "accuracy test: 0.9111111111111111\n",
      "----------------------------epoch: 78 --------------------------------------------\n",
      "loss train: 0.05972142181852596\n",
      "accuracy train: 0.9826026443980515\n",
      "loss test: 0.1205105029356433\n",
      "accuracy test: 0.9111111111111111\n",
      "----------------------------epoch: 79 --------------------------------------------\n",
      "loss train: 0.05920105635374069\n",
      "accuracy train: 0.9826026443980515\n",
      "loss test: 0.12016487871491445\n",
      "accuracy test: 0.9111111111111111\n"
     ]
    }
   ]
  },
  {
   "cell_type": "code",
   "source": [
    "import cv2\n",
    "\n",
    "image = cv2.imread(\"num2.png\")\n",
    "image = cv2.cvtColor(image, cv2.COLOR_BGR2GRAY)\n",
    "image = image.reshape(64, 1)\n",
    "\n",
    "x = image\n",
    "#forward\n",
    "\n",
    "#layer1\n",
    "out1 = sigmoid(x.T @ W1 + B1)\n",
    "\n",
    "#layer2\n",
    "out2 = sigmoid(out1 @ W2 + B2)\n",
    "\n",
    "#layer3\n",
    "out3 = softmax(out2 @ W3 + B3)\n",
    "y_pred = out3\n",
    "print(np.argmax(y_pred))"
   ],
   "metadata": {
    "colab": {
     "base_uri": "https://localhost:8080/"
    },
    "id": "anpZ0GmHqQUA",
    "outputId": "eff04f37-0ca5-40dc-950f-dd77b1b2ec7a"
   },
   "execution_count": 20,
   "outputs": [
    {
     "name": "stdout",
     "output_type": "stream",
     "text": [
      "2\n"
     ]
    }
   ]
  },
  {
   "cell_type": "code",
   "source": [],
   "metadata": {
    "id": "9-ZBohpgqURq"
   },
   "execution_count": 13,
   "outputs": []
  }
 ]
}