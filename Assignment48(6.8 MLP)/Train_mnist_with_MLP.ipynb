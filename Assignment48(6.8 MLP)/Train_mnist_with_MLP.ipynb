{
 "nbformat": 4,
 "nbformat_minor": 0,
 "metadata": {
  "colab": {
   "provenance": []
  },
  "kernelspec": {
   "name": "python3",
   "display_name": "Python 3"
  },
  "language_info": {
   "name": "python"
  }
 },
 "cells": [
  {
   "cell_type": "code",
   "execution_count": 1,
   "metadata": {
    "id": "Ud3_4_ffb5qU"
   },
   "outputs": [],
   "source": [
    "import numpy as np\n",
    "import matplotlib.pyplot as plt\n",
    "from sklearn.datasets import load_digits\n",
    "from sklearn.model_selection import train_test_split"
   ]
  },
  {
   "cell_type": "code",
   "source": [
    "dataset = load_digits()\n",
    "dataset"
   ],
   "metadata": {
    "id": "2WlEQQhSctX3",
    "outputId": "6e1ececd-48f4-4a7e-b684-509b642236c4",
    "colab": {
     "base_uri": "https://localhost:8080/"
    }
   },
   "execution_count": 2,
   "outputs": [
    {
     "data": {
      "text/plain": "{'data': array([[ 0.,  0.,  5., ...,  0.,  0.,  0.],\n        [ 0.,  0.,  0., ..., 10.,  0.,  0.],\n        [ 0.,  0.,  0., ..., 16.,  9.,  0.],\n        ...,\n        [ 0.,  0.,  1., ...,  6.,  0.,  0.],\n        [ 0.,  0.,  2., ..., 12.,  0.,  0.],\n        [ 0.,  0., 10., ..., 12.,  1.,  0.]]),\n 'target': array([0, 1, 2, ..., 8, 9, 8]),\n 'frame': None,\n 'feature_names': ['pixel_0_0',\n  'pixel_0_1',\n  'pixel_0_2',\n  'pixel_0_3',\n  'pixel_0_4',\n  'pixel_0_5',\n  'pixel_0_6',\n  'pixel_0_7',\n  'pixel_1_0',\n  'pixel_1_1',\n  'pixel_1_2',\n  'pixel_1_3',\n  'pixel_1_4',\n  'pixel_1_5',\n  'pixel_1_6',\n  'pixel_1_7',\n  'pixel_2_0',\n  'pixel_2_1',\n  'pixel_2_2',\n  'pixel_2_3',\n  'pixel_2_4',\n  'pixel_2_5',\n  'pixel_2_6',\n  'pixel_2_7',\n  'pixel_3_0',\n  'pixel_3_1',\n  'pixel_3_2',\n  'pixel_3_3',\n  'pixel_3_4',\n  'pixel_3_5',\n  'pixel_3_6',\n  'pixel_3_7',\n  'pixel_4_0',\n  'pixel_4_1',\n  'pixel_4_2',\n  'pixel_4_3',\n  'pixel_4_4',\n  'pixel_4_5',\n  'pixel_4_6',\n  'pixel_4_7',\n  'pixel_5_0',\n  'pixel_5_1',\n  'pixel_5_2',\n  'pixel_5_3',\n  'pixel_5_4',\n  'pixel_5_5',\n  'pixel_5_6',\n  'pixel_5_7',\n  'pixel_6_0',\n  'pixel_6_1',\n  'pixel_6_2',\n  'pixel_6_3',\n  'pixel_6_4',\n  'pixel_6_5',\n  'pixel_6_6',\n  'pixel_6_7',\n  'pixel_7_0',\n  'pixel_7_1',\n  'pixel_7_2',\n  'pixel_7_3',\n  'pixel_7_4',\n  'pixel_7_5',\n  'pixel_7_6',\n  'pixel_7_7'],\n 'target_names': array([0, 1, 2, 3, 4, 5, 6, 7, 8, 9]),\n 'images': array([[[ 0.,  0.,  5., ...,  1.,  0.,  0.],\n         [ 0.,  0., 13., ..., 15.,  5.,  0.],\n         [ 0.,  3., 15., ..., 11.,  8.,  0.],\n         ...,\n         [ 0.,  4., 11., ..., 12.,  7.,  0.],\n         [ 0.,  2., 14., ..., 12.,  0.,  0.],\n         [ 0.,  0.,  6., ...,  0.,  0.,  0.]],\n \n        [[ 0.,  0.,  0., ...,  5.,  0.,  0.],\n         [ 0.,  0.,  0., ...,  9.,  0.,  0.],\n         [ 0.,  0.,  3., ...,  6.,  0.,  0.],\n         ...,\n         [ 0.,  0.,  1., ...,  6.,  0.,  0.],\n         [ 0.,  0.,  1., ...,  6.,  0.,  0.],\n         [ 0.,  0.,  0., ..., 10.,  0.,  0.]],\n \n        [[ 0.,  0.,  0., ..., 12.,  0.,  0.],\n         [ 0.,  0.,  3., ..., 14.,  0.,  0.],\n         [ 0.,  0.,  8., ..., 16.,  0.,  0.],\n         ...,\n         [ 0.,  9., 16., ...,  0.,  0.,  0.],\n         [ 0.,  3., 13., ..., 11.,  5.,  0.],\n         [ 0.,  0.,  0., ..., 16.,  9.,  0.]],\n \n        ...,\n \n        [[ 0.,  0.,  1., ...,  1.,  0.,  0.],\n         [ 0.,  0., 13., ...,  2.,  1.,  0.],\n         [ 0.,  0., 16., ..., 16.,  5.,  0.],\n         ...,\n         [ 0.,  0., 16., ..., 15.,  0.,  0.],\n         [ 0.,  0., 15., ..., 16.,  0.,  0.],\n         [ 0.,  0.,  2., ...,  6.,  0.,  0.]],\n \n        [[ 0.,  0.,  2., ...,  0.,  0.,  0.],\n         [ 0.,  0., 14., ..., 15.,  1.,  0.],\n         [ 0.,  4., 16., ..., 16.,  7.,  0.],\n         ...,\n         [ 0.,  0.,  0., ..., 16.,  2.,  0.],\n         [ 0.,  0.,  4., ..., 16.,  2.,  0.],\n         [ 0.,  0.,  5., ..., 12.,  0.,  0.]],\n \n        [[ 0.,  0., 10., ...,  1.,  0.,  0.],\n         [ 0.,  2., 16., ...,  1.,  0.,  0.],\n         [ 0.,  0., 15., ..., 15.,  0.,  0.],\n         ...,\n         [ 0.,  4., 16., ..., 16.,  6.,  0.],\n         [ 0.,  8., 16., ..., 16.,  8.,  0.],\n         [ 0.,  1.,  8., ..., 12.,  1.,  0.]]]),\n 'DESCR': \".. _digits_dataset:\\n\\nOptical recognition of handwritten digits dataset\\n--------------------------------------------------\\n\\n**Data Set Characteristics:**\\n\\n    :Number of Instances: 1797\\n    :Number of Attributes: 64\\n    :Attribute Information: 8x8 image of integer pixels in the range 0..16.\\n    :Missing Attribute Values: None\\n    :Creator: E. Alpaydin (alpaydin '@' boun.edu.tr)\\n    :Date: July; 1998\\n\\nThis is a copy of the test set of the UCI ML hand-written digits datasets\\nhttps://archive.ics.uci.edu/ml/datasets/Optical+Recognition+of+Handwritten+Digits\\n\\nThe data set contains images of hand-written digits: 10 classes where\\neach class refers to a digit.\\n\\nPreprocessing programs made available by NIST were used to extract\\nnormalized bitmaps of handwritten digits from a preprinted form. From a\\ntotal of 43 people, 30 contributed to the training set and different 13\\nto the test set. 32x32 bitmaps are divided into nonoverlapping blocks of\\n4x4 and the number of on pixels are counted in each block. This generates\\nan input matrix of 8x8 where each element is an integer in the range\\n0..16. This reduces dimensionality and gives invariance to small\\ndistortions.\\n\\nFor info on NIST preprocessing routines, see M. D. Garris, J. L. Blue, G.\\nT. Candela, D. L. Dimmick, J. Geist, P. J. Grother, S. A. Janet, and C.\\nL. Wilson, NIST Form-Based Handprint Recognition System, NISTIR 5469,\\n1994.\\n\\n.. topic:: References\\n\\n  - C. Kaynak (1995) Methods of Combining Multiple Classifiers and Their\\n    Applications to Handwritten Digit Recognition, MSc Thesis, Institute of\\n    Graduate Studies in Science and Engineering, Bogazici University.\\n  - E. Alpaydin, C. Kaynak (1998) Cascading Classifiers, Kybernetika.\\n  - Ken Tang and Ponnuthurai N. Suganthan and Xi Yao and A. Kai Qin.\\n    Linear dimensionalityreduction using relevance weighted LDA. School of\\n    Electrical and Electronic Engineering Nanyang Technological University.\\n    2005.\\n  - Claudio Gentile. A New Approximate Maximal Margin Classification\\n    Algorithm. NIPS. 2000.\\n\"}"
     },
     "execution_count": 2,
     "metadata": {},
     "output_type": "execute_result"
    }
   ]
  },
  {
   "cell_type": "code",
   "source": [
    "dataset.data.shape"
   ],
   "metadata": {
    "id": "XOjXi9Qac-Po",
    "outputId": "7ddae076-4409-484c-8f0b-3384fb9fe6e4",
    "colab": {
     "base_uri": "https://localhost:8080/"
    }
   },
   "execution_count": 3,
   "outputs": [
    {
     "data": {
      "text/plain": "(1797, 64)"
     },
     "execution_count": 3,
     "metadata": {},
     "output_type": "execute_result"
    }
   ]
  },
  {
   "cell_type": "code",
   "source": [
    "dataset.images.shape"
   ],
   "metadata": {
    "id": "Gw_dwrmcdHGh",
    "outputId": "418ff09c-c569-4c32-f040-84b7420e5691",
    "colab": {
     "base_uri": "https://localhost:8080/"
    }
   },
   "execution_count": 4,
   "outputs": [
    {
     "data": {
      "text/plain": "(1797, 8, 8)"
     },
     "execution_count": 4,
     "metadata": {},
     "output_type": "execute_result"
    }
   ]
  },
  {
   "cell_type": "code",
   "source": [
    "plt.imshow(dataset.images[89])"
   ],
   "metadata": {
    "id": "dJWTQro8Bhsz",
    "colab": {
     "base_uri": "https://localhost:8080/",
     "height": 447
    },
    "outputId": "438bae45-31e7-4678-cec1-18daafe4cd7b"
   },
   "execution_count": 5,
   "outputs": [
    {
     "data": {
      "text/plain": "<matplotlib.image.AxesImage at 0x2a4ba54b190>"
     },
     "execution_count": 5,
     "metadata": {},
     "output_type": "execute_result"
    },
    {
     "data": {
      "text/plain": "<Figure size 640x480 with 1 Axes>",
      "image/png": "[encoded data removed]"
     },
     "metadata": {},
     "output_type": "display_data"
    }
   ]
  },
  {
   "cell_type": "code",
   "source": [
    "print(dataset.target.shape)\n",
    "print(dataset.target[89])"
   ],
   "metadata": {
    "id": "lh2N58wtdK6C",
    "colab": {
     "base_uri": "https://localhost:8080/"
    },
    "outputId": "cf63ef60-aa5c-4b69-8ba9-f630ef60d952"
   },
   "execution_count": 6,
   "outputs": [
    {
     "name": "stdout",
     "output_type": "stream",
     "text": [
      "(1797,)\n",
      "3\n"
     ]
    }
   ]
  },
  {
   "cell_type": "code",
   "source": [
    "X = dataset.data\n",
    "Y = dataset.target\n",
    "Y = np.eye(10)[Y]  #one hot\n",
    "\n",
    "X_train, X_test, Y_train, Y_test = train_test_split(X, Y, test_size=0.2)\n",
    "X_train.shape, X_test.shape, Y_train.shape, Y_test.shape"
   ],
   "metadata": {
    "id": "uyuD1chXePR-",
    "colab": {
     "base_uri": "https://localhost:8080/"
    },
    "outputId": "d576182d-153b-4fcb-d880-d919d990b6e8"
   },
   "execution_count": 7,
   "outputs": [
    {
     "data": {
      "text/plain": "((1437, 64), (360, 64), (1437, 10), (360, 10))"
     },
     "execution_count": 7,
     "metadata": {},
     "output_type": "execute_result"
    }
   ]
  },
  {
   "cell_type": "code",
   "source": [
    "print(Y_train)\n",
    "print(np.unique(Y_train))\n",
    "print(len(np.unique(Y_train)))"
   ],
   "metadata": {
    "colab": {
     "base_uri": "https://localhost:8080/"
    },
    "id": "JCdysaJHhvgM",
    "outputId": "959fc3f2-9cae-4198-b22b-5703853a2654"
   },
   "execution_count": 8,
   "outputs": [
    {
     "name": "stdout",
     "output_type": "stream",
     "text": [
      "[[0. 0. 0. ... 0. 0. 0.]\n",
      " [0. 0. 0. ... 1. 0. 0.]\n",
      " [0. 0. 0. ... 0. 1. 0.]\n",
      " ...\n",
      " [0. 0. 0. ... 0. 0. 0.]\n",
      " [0. 0. 0. ... 0. 0. 0.]\n",
      " [0. 0. 0. ... 0. 0. 1.]]\n",
      "[0. 1.]\n",
      "2\n"
     ]
    }
   ]
  },
  {
   "cell_type": "code",
   "source": [
    "def sigmoid(X):\n",
    "  return 1 / (1 + np.exp(-X))\n",
    "\n",
    "def softmax(X):\n",
    "  return np.exp(X) / np.sum(np.exp(X))\n",
    "\n",
    "def root_mean_square_error(Y_gt, Y_pred):\n",
    "  return np.sqrt(np.mean((Y_gt - Y_pred) ** 2))"
   ],
   "metadata": {
    "id": "sQUaWYNbF1cs"
   },
   "execution_count": 9,
   "outputs": []
  },
  {
   "cell_type": "code",
   "source": [
    "epochs = 80\n",
    "η = 0.001   #learning rate\n",
    "\n",
    "D_in = X_train.shape[1]\n",
    "H1 = 128\n",
    "H2 = 32\n",
    "#D_out = len(np.unique(Y_train))\n",
    "D_out = Y_train.shape[1]"
   ],
   "metadata": {
    "id": "PvH8rV-rIpA2"
   },
   "execution_count": 10,
   "outputs": []
  },
  {
   "cell_type": "code",
   "source": [
    "W1 = np.random.randn(D_in, H1)\n",
    "W2 = np.random.randn(H1, H2)\n",
    "W3 = np.random.randn(H2, D_out)\n",
    "\n",
    "B1 = np.random.randn(1, H1)\n",
    "B2 = np.random.randn(1, H2)\n",
    "B3 = np.random.randn(1, D_out)"
   ],
   "metadata": {
    "id": "k_qzNeIgiWRW"
   },
   "execution_count": 11,
   "outputs": []
  },
  {
   "cell_type": "code",
   "source": [
    "for epoch in range(epochs):\n",
    "\n",
    "  #train\n",
    "\n",
    "  Y_pred_train = []\n",
    "  for x,y in zip(X_train, Y_train):\n",
    "\n",
    "    x = x.reshape(-1, 1)\n",
    "    #print('x:',x,'x.shape:',x.shape)\n",
    "    #print('y:',y,'y.shape:', y.shape)\n",
    "    #forward\n",
    "\n",
    "    #layer1\n",
    "    out1 = sigmoid(x.T @ W1 + B1)\n",
    "    #print('out1.shape:', out1.shape)\n",
    "\n",
    "    #layer2\n",
    "    out2 = sigmoid(out1 @ W2 + B2)\n",
    "    #print('out2.shape:', out2.shape)\n",
    "\n",
    "    #layer3\n",
    "    out3 = softmax(out2 @ W3 + B3)\n",
    "    #print('out3.shape:', out3.shape)\n",
    "\n",
    "    y_pred = out3\n",
    "    Y_pred_train.append(y_pred)\n",
    "\n",
    "    #error = y - y_pred\n",
    "\n",
    "    #backward - باید همش مشتق بگیریم\n",
    "\n",
    "    #layer3\n",
    "    error = -2 * (y - y_pred) # error dar vaghe hamman grad_error yani moshtagh error hast\n",
    "    grad_B3 = error\n",
    "    grad_W3 = out2.T @ error\n",
    "\n",
    "    #layer2\n",
    "    error = error @ W3.T * out2 * (1 - out2)\n",
    "    grad_B2 = error\n",
    "    grad_W2 = out1.T @ error\n",
    "\n",
    "    #layer1\n",
    "    error = error @ W2.T * out1 * (1 - out1)\n",
    "    grad_B1 = error\n",
    "    grad_W1 = x @ error\n",
    "\n",
    "\n",
    "\n",
    "    #update\n",
    "\n",
    "    #layer1\n",
    "    W1 -= η * grad_W1\n",
    "    B1 -= η * grad_B1\n",
    "\n",
    "    #layer2\n",
    "    W2 -= η * grad_W2\n",
    "    B2 -= η * grad_B2\n",
    "\n",
    "    #layer3\n",
    "    W3 -= η * grad_W3\n",
    "    B3 -= η * grad_B3\n",
    "\n",
    "  Y_pred_test = []\n",
    "  for x,y in zip(X_test, Y_test):\n",
    "\n",
    "    x = x.reshape(-1, 1)\n",
    "    #print('x:',x,'x.shape:',x.shape)\n",
    "    #print('y:',y,'y.shape:', y.shape)\n",
    "    #forward\n",
    "\n",
    "    #layer1\n",
    "    out1 = sigmoid(x.T @ W1 + B1)\n",
    "    #print('out1.shape:', out1.shape)\n",
    "\n",
    "    #layer2\n",
    "    out2 = sigmoid(out1 @ W2 + B2)\n",
    "    #print('out2.shape:', out2.shape)\n",
    "\n",
    "    #layer3\n",
    "    out3 = softmax(out2 @ W3 + B3)\n",
    "    #print('out3.shape:', out3.shape)\n",
    "\n",
    "    y_pred = out3\n",
    "    Y_pred_test.append(y_pred)\n",
    "\n",
    "  Y_pred_train = np.array(Y_pred_train).reshape(-1, 10)\n",
    "\n",
    "  loss_train = root_mean_square_error(Y_train, Y_pred_train)\n",
    "  accuracy_train = np.sum(np.argmax(Y_train, axis=1) == np.argmax(Y_pred_train, axis=1)) / len(Y_train)\n",
    "  print('----------------------------epoch:', epoch,'--------------------------------------------')\n",
    "  print('loss train:',loss_train)\n",
    "  print('accuracy train:',accuracy_train)\n",
    "\n",
    "  Y_pred_test = np.array(Y_pred_test).reshape(-1, 10)\n",
    "\n",
    "  loss_test = root_mean_square_error(Y_test, Y_pred_test)\n",
    "  accuracy_test = np.sum(np.argmax(Y_test, axis=1) == np.argmax(Y_pred_test, axis=1)) / len(Y_test)\n",
    "\n",
    "  print('loss test:',loss_test)\n",
    "  print('accuracy test:',accuracy_test)"
   ],
   "metadata": {
    "id": "brvvkjzjj53Y"
   },
   "execution_count": 12,
   "outputs": [
    {
     "name": "stdout",
     "output_type": "stream",
     "text": [
      "----------------------------epoch: 0 --------------------------------------------\n",
      "loss train: 0.32118073324668706\n",
      "accuracy train: 0.12804453723034098\n",
      "loss test: 0.30227091600967476\n",
      "accuracy test: 0.175\n",
      "----------------------------epoch: 1 --------------------------------------------\n",
      "loss train: 0.29321536190387115\n",
      "accuracy train: 0.24634655532359082\n",
      "loss test: 0.2904722464307624\n",
      "accuracy test: 0.2861111111111111\n",
      "----------------------------epoch: 2 --------------------------------------------\n",
      "loss train: 0.279482052801164\n",
      "accuracy train: 0.36256089074460685\n",
      "loss test: 0.27963562330798286\n",
      "accuracy test: 0.3472222222222222\n",
      "----------------------------epoch: 3 --------------------------------------------\n",
      "loss train: 0.26704270669177155\n",
      "accuracy train: 0.45441892832289493\n",
      "loss test: 0.26932038363944777\n",
      "accuracy test: 0.4305555555555556\n",
      "----------------------------epoch: 4 --------------------------------------------\n",
      "loss train: 0.25747593150081644\n",
      "accuracy train: 0.5128740431454419\n",
      "loss test: 0.26165404944719056\n",
      "accuracy test: 0.4861111111111111\n",
      "----------------------------epoch: 5 --------------------------------------------\n",
      "loss train: 0.24846381784808083\n",
      "accuracy train: 0.5685455810716771\n",
      "loss test: 0.2533327810112413\n",
      "accuracy test: 0.5305555555555556\n",
      "----------------------------epoch: 6 --------------------------------------------\n",
      "loss train: 0.23989862104587073\n",
      "accuracy train: 0.6137787056367432\n",
      "loss test: 0.24612899568257482\n",
      "accuracy test: 0.55\n",
      "----------------------------epoch: 7 --------------------------------------------\n",
      "loss train: 0.23183461946263917\n",
      "accuracy train: 0.6464857341684064\n",
      "loss test: 0.23945116878066455\n",
      "accuracy test: 0.6055555555555555\n",
      "----------------------------epoch: 8 --------------------------------------------\n",
      "loss train: 0.22439118711332723\n",
      "accuracy train: 0.6784968684759917\n",
      "loss test: 0.23248927980317832\n",
      "accuracy test: 0.6277777777777778\n",
      "----------------------------epoch: 9 --------------------------------------------\n",
      "loss train: 0.21669069480527567\n",
      "accuracy train: 0.7077244258872651\n",
      "loss test: 0.22587348093364026\n",
      "accuracy test: 0.6555555555555556\n",
      "----------------------------epoch: 10 --------------------------------------------\n",
      "loss train: 0.20894137647940744\n",
      "accuracy train: 0.732776617954071\n",
      "loss test: 0.2209823571725174\n",
      "accuracy test: 0.6638888888888889\n",
      "----------------------------epoch: 11 --------------------------------------------\n",
      "loss train: 0.20170853175686387\n",
      "accuracy train: 0.7578288100208769\n",
      "loss test: 0.2158418688810868\n",
      "accuracy test: 0.6861111111111111\n",
      "----------------------------epoch: 12 --------------------------------------------\n",
      "loss train: 0.19483124108873526\n",
      "accuracy train: 0.7780097425191371\n",
      "loss test: 0.21046295814223073\n",
      "accuracy test: 0.7\n",
      "----------------------------epoch: 13 --------------------------------------------\n",
      "loss train: 0.18837387141084622\n",
      "accuracy train: 0.7933194154488518\n",
      "loss test: 0.20554248827111\n",
      "accuracy test: 0.7083333333333334\n",
      "----------------------------epoch: 14 --------------------------------------------\n",
      "loss train: 0.1824725672836869\n",
      "accuracy train: 0.8100208768267223\n",
      "loss test: 0.2011018519420042\n",
      "accuracy test: 0.725\n",
      "----------------------------epoch: 15 --------------------------------------------\n",
      "loss train: 0.177193869500845\n",
      "accuracy train: 0.826026443980515\n",
      "loss test: 0.1975350390107369\n",
      "accuracy test: 0.7444444444444445\n",
      "----------------------------epoch: 16 --------------------------------------------\n",
      "loss train: 0.17239136083882256\n",
      "accuracy train: 0.8406402226861517\n",
      "loss test: 0.19432045101518083\n",
      "accuracy test: 0.75\n",
      "----------------------------epoch: 17 --------------------------------------------\n",
      "loss train: 0.16792280989177913\n",
      "accuracy train: 0.848295059151009\n",
      "loss test: 0.19134644390703412\n",
      "accuracy test: 0.7527777777777778\n",
      "----------------------------epoch: 18 --------------------------------------------\n",
      "loss train: 0.16369702399121455\n",
      "accuracy train: 0.860125260960334\n",
      "loss test: 0.18856551475674593\n",
      "accuracy test: 0.7583333333333333\n",
      "----------------------------epoch: 19 --------------------------------------------\n",
      "loss train: 0.15961188208982396\n",
      "accuracy train: 0.8705636743215032\n",
      "loss test: 0.1860450011127659\n",
      "accuracy test: 0.7638888888888888\n",
      "----------------------------epoch: 20 --------------------------------------------\n",
      "loss train: 0.1556170810174172\n",
      "accuracy train: 0.8761308281141267\n",
      "loss test: 0.1838262667935623\n",
      "accuracy test: 0.7666666666666667\n",
      "----------------------------epoch: 21 --------------------------------------------\n",
      "loss train: 0.1518318715142927\n",
      "accuracy train: 0.8823938761308281\n",
      "loss test: 0.1816511505020355\n",
      "accuracy test: 0.7694444444444445\n",
      "----------------------------epoch: 22 --------------------------------------------\n",
      "loss train: 0.14833853386852655\n",
      "accuracy train: 0.8900487125956854\n",
      "loss test: 0.17962116831984995\n",
      "accuracy test: 0.7722222222222223\n",
      "----------------------------epoch: 23 --------------------------------------------\n",
      "loss train: 0.14513432363504236\n",
      "accuracy train: 0.8983994432846207\n",
      "loss test: 0.17776195772689943\n",
      "accuracy test: 0.775\n",
      "----------------------------epoch: 24 --------------------------------------------\n",
      "loss train: 0.14207034231258808\n",
      "accuracy train: 0.9011830201809325\n",
      "loss test: 0.17599862252599188\n",
      "accuracy test: 0.7805555555555556\n",
      "----------------------------epoch: 25 --------------------------------------------\n",
      "loss train: 0.13915565116855141\n",
      "accuracy train: 0.9053583855254002\n",
      "loss test: 0.1742984581795135\n",
      "accuracy test: 0.7944444444444444\n",
      "----------------------------epoch: 26 --------------------------------------------\n",
      "loss train: 0.13627513068442654\n",
      "accuracy train: 0.907446068197634\n",
      "loss test: 0.1726203066670186\n",
      "accuracy test: 0.8027777777777778\n",
      "----------------------------epoch: 27 --------------------------------------------\n",
      "loss train: 0.13353717129538956\n",
      "accuracy train: 0.9130132219902575\n",
      "loss test: 0.17100431140593841\n",
      "accuracy test: 0.8055555555555556\n",
      "----------------------------epoch: 28 --------------------------------------------\n",
      "loss train: 0.13095276596770508\n",
      "accuracy train: 0.919276270006959\n",
      "loss test: 0.1694564003748138\n",
      "accuracy test: 0.8138888888888889\n",
      "----------------------------epoch: 29 --------------------------------------------\n",
      "loss train: 0.12851199167062968\n",
      "accuracy train: 0.9220598469032707\n",
      "loss test: 0.16792260684244004\n",
      "accuracy test: 0.8166666666666667\n",
      "----------------------------epoch: 30 --------------------------------------------\n",
      "loss train: 0.12619014371540058\n",
      "accuracy train: 0.9248434237995825\n",
      "loss test: 0.16638595392354438\n",
      "accuracy test: 0.8138888888888889\n",
      "----------------------------epoch: 31 --------------------------------------------\n",
      "loss train: 0.12395198048417903\n",
      "accuracy train: 0.930410577592206\n",
      "loss test: 0.1648848978926988\n",
      "accuracy test: 0.8222222222222222\n",
      "----------------------------epoch: 32 --------------------------------------------\n",
      "loss train: 0.12177642665473927\n",
      "accuracy train: 0.9324982602644398\n",
      "loss test: 0.16345573406919545\n",
      "accuracy test: 0.8305555555555556\n",
      "----------------------------epoch: 33 --------------------------------------------\n",
      "loss train: 0.11964083515143709\n",
      "accuracy train: 0.9345859429366736\n",
      "loss test: 0.16208401768556932\n",
      "accuracy test: 0.8305555555555556\n",
      "----------------------------epoch: 34 --------------------------------------------\n",
      "loss train: 0.1175360338175376\n",
      "accuracy train: 0.9380654140570633\n",
      "loss test: 0.16074331163161373\n",
      "accuracy test: 0.8305555555555556\n",
      "----------------------------epoch: 35 --------------------------------------------\n",
      "loss train: 0.11541934192535468\n",
      "accuracy train: 0.940848990953375\n",
      "loss test: 0.15949576283100114\n",
      "accuracy test: 0.8361111111111111\n",
      "----------------------------epoch: 36 --------------------------------------------\n",
      "loss train: 0.1133629558632091\n",
      "accuracy train: 0.9443284620737648\n",
      "loss test: 0.15836457264623802\n",
      "accuracy test: 0.8361111111111111\n",
      "----------------------------epoch: 37 --------------------------------------------\n",
      "loss train: 0.11145444725713186\n",
      "accuracy train: 0.9464161447459986\n",
      "loss test: 0.15730974749850374\n",
      "accuracy test: 0.8361111111111111\n",
      "----------------------------epoch: 38 --------------------------------------------\n",
      "loss train: 0.10966095413536968\n",
      "accuracy train: 0.9491997216423104\n",
      "loss test: 0.15632760563843606\n",
      "accuracy test: 0.8361111111111111\n",
      "----------------------------epoch: 39 --------------------------------------------\n",
      "loss train: 0.10795440829542052\n",
      "accuracy train: 0.9512874043145442\n",
      "loss test: 0.15541005597618168\n",
      "accuracy test: 0.8388888888888889\n",
      "----------------------------epoch: 40 --------------------------------------------\n",
      "loss train: 0.10627923463842652\n",
      "accuracy train: 0.9519832985386222\n",
      "loss test: 0.15454478441379452\n",
      "accuracy test: 0.8416666666666667\n",
      "----------------------------epoch: 41 --------------------------------------------\n",
      "loss train: 0.10455238346354064\n",
      "accuracy train: 0.9519832985386222\n",
      "loss test: 0.15372494044263368\n",
      "accuracy test: 0.8416666666666667\n",
      "----------------------------epoch: 42 --------------------------------------------\n",
      "loss train: 0.1028794661689804\n",
      "accuracy train: 0.954070981210856\n",
      "loss test: 0.15293898863996017\n",
      "accuracy test: 0.8416666666666667\n",
      "----------------------------epoch: 43 --------------------------------------------\n",
      "loss train: 0.10129213834080998\n",
      "accuracy train: 0.9568545581071677\n",
      "loss test: 0.15218505839213947\n",
      "accuracy test: 0.8416666666666667\n",
      "----------------------------epoch: 44 --------------------------------------------\n",
      "loss train: 0.09977215465534474\n",
      "accuracy train: 0.9589422407794015\n",
      "loss test: 0.15146165622854887\n",
      "accuracy test: 0.8444444444444444\n",
      "----------------------------epoch: 45 --------------------------------------------\n",
      "loss train: 0.09829885385018329\n",
      "accuracy train: 0.9596381350034795\n",
      "loss test: 0.15077062034634522\n",
      "accuracy test: 0.8444444444444444\n",
      "----------------------------epoch: 46 --------------------------------------------\n",
      "loss train: 0.09684583562995036\n",
      "accuracy train: 0.9610299234516354\n",
      "loss test: 0.15011674057467916\n",
      "accuracy test: 0.85\n",
      "----------------------------epoch: 47 --------------------------------------------\n",
      "loss train: 0.09542459682196103\n",
      "accuracy train: 0.9617258176757133\n",
      "loss test: 0.14948989598325735\n",
      "accuracy test: 0.8527777777777777\n",
      "----------------------------epoch: 48 --------------------------------------------\n",
      "loss train: 0.09405124942009496\n",
      "accuracy train: 0.9624217118997912\n",
      "loss test: 0.14890923939787004\n",
      "accuracy test: 0.8583333333333333\n",
      "----------------------------epoch: 49 --------------------------------------------\n",
      "loss train: 0.09269109146292517\n",
      "accuracy train: 0.9638135003479471\n",
      "loss test: 0.14834241766380707\n",
      "accuracy test: 0.8638888888888889\n",
      "----------------------------epoch: 50 --------------------------------------------\n",
      "loss train: 0.09133317437147129\n",
      "accuracy train: 0.9638135003479471\n",
      "loss test: 0.14772880517447587\n",
      "accuracy test: 0.8638888888888889\n",
      "----------------------------epoch: 51 --------------------------------------------\n",
      "loss train: 0.08998906584021382\n",
      "accuracy train: 0.9659011830201809\n",
      "loss test: 0.147049010088933\n",
      "accuracy test: 0.8638888888888889\n",
      "----------------------------epoch: 52 --------------------------------------------\n",
      "loss train: 0.08864517049850061\n",
      "accuracy train: 0.9672929714683368\n",
      "loss test: 0.1464250790681888\n",
      "accuracy test: 0.8666666666666667\n",
      "----------------------------epoch: 53 --------------------------------------------\n",
      "loss train: 0.08735218452408854\n",
      "accuracy train: 0.9700765483646486\n",
      "loss test: 0.1458236380463112\n",
      "accuracy test: 0.8666666666666667\n",
      "----------------------------epoch: 54 --------------------------------------------\n",
      "loss train: 0.08614848385394201\n",
      "accuracy train: 0.9707724425887265\n",
      "loss test: 0.1452348722850935\n",
      "accuracy test: 0.8666666666666667\n",
      "----------------------------epoch: 55 --------------------------------------------\n",
      "loss train: 0.08500373408350008\n",
      "accuracy train: 0.9721642310368824\n",
      "loss test: 0.14466286710334567\n",
      "accuracy test: 0.8666666666666667\n",
      "----------------------------epoch: 56 --------------------------------------------\n",
      "loss train: 0.08389122057527601\n",
      "accuracy train: 0.9735560194850382\n",
      "loss test: 0.14410792772642683\n",
      "accuracy test: 0.8666666666666667\n",
      "----------------------------epoch: 57 --------------------------------------------\n",
      "loss train: 0.0827965866525742\n",
      "accuracy train: 0.9749478079331941\n",
      "loss test: 0.1435686671761649\n",
      "accuracy test: 0.8694444444444445\n",
      "----------------------------epoch: 58 --------------------------------------------\n",
      "loss train: 0.08171410413468323\n",
      "accuracy train: 0.9749478079331941\n",
      "loss test: 0.1430267440972727\n",
      "accuracy test: 0.8666666666666667\n",
      "----------------------------epoch: 59 --------------------------------------------\n",
      "loss train: 0.0806553355510862\n",
      "accuracy train: 0.9749478079331941\n",
      "loss test: 0.1424715183482807\n",
      "accuracy test: 0.8666666666666667\n",
      "----------------------------epoch: 60 --------------------------------------------\n",
      "loss train: 0.07962669887209299\n",
      "accuracy train: 0.977731384829506\n",
      "loss test: 0.14192922099087968\n",
      "accuracy test: 0.8694444444444445\n",
      "----------------------------epoch: 61 --------------------------------------------\n",
      "loss train: 0.07862395619455465\n",
      "accuracy train: 0.977731384829506\n",
      "loss test: 0.14139216739020238\n",
      "accuracy test: 0.8666666666666667\n",
      "----------------------------epoch: 62 --------------------------------------------\n",
      "loss train: 0.07763405616862051\n",
      "accuracy train: 0.977731384829506\n",
      "loss test: 0.14085281964418375\n",
      "accuracy test: 0.8666666666666667\n",
      "----------------------------epoch: 63 --------------------------------------------\n",
      "loss train: 0.07661313226479928\n",
      "accuracy train: 0.9784272790535838\n",
      "loss test: 0.1403391572535293\n",
      "accuracy test: 0.8694444444444445\n",
      "----------------------------epoch: 64 --------------------------------------------\n",
      "loss train: 0.07555847559483021\n",
      "accuracy train: 0.977731384829506\n",
      "loss test: 0.13990213982456845\n",
      "accuracy test: 0.8666666666666667\n",
      "----------------------------epoch: 65 --------------------------------------------\n",
      "loss train: 0.07455649984496712\n",
      "accuracy train: 0.9791231732776617\n",
      "loss test: 0.13953569345539035\n",
      "accuracy test: 0.8666666666666667\n",
      "----------------------------epoch: 66 --------------------------------------------\n",
      "loss train: 0.07360214690482929\n",
      "accuracy train: 0.9798190675017397\n",
      "loss test: 0.13919585569662546\n",
      "accuracy test: 0.8666666666666667\n",
      "----------------------------epoch: 67 --------------------------------------------\n",
      "loss train: 0.07267753768299139\n",
      "accuracy train: 0.9805149617258176\n",
      "loss test: 0.13888294676419513\n",
      "accuracy test: 0.8694444444444445\n",
      "----------------------------epoch: 68 --------------------------------------------\n",
      "loss train: 0.07177660148686368\n",
      "accuracy train: 0.9812108559498957\n",
      "loss test: 0.13859091616504343\n",
      "accuracy test: 0.8722222222222222\n",
      "----------------------------epoch: 69 --------------------------------------------\n",
      "loss train: 0.07089247248949385\n",
      "accuracy train: 0.9819067501739736\n",
      "loss test: 0.13831008316275498\n",
      "accuracy test: 0.8722222222222222\n",
      "----------------------------epoch: 70 --------------------------------------------\n",
      "loss train: 0.07002043963534958\n",
      "accuracy train: 0.9826026443980515\n",
      "loss test: 0.138032921353778\n",
      "accuracy test: 0.8722222222222222\n",
      "----------------------------epoch: 71 --------------------------------------------\n",
      "loss train: 0.06915948881766501\n",
      "accuracy train: 0.9826026443980515\n",
      "loss test: 0.1377528651280297\n",
      "accuracy test: 0.8722222222222222\n",
      "----------------------------epoch: 72 --------------------------------------------\n",
      "loss train: 0.06830975805043904\n",
      "accuracy train: 0.9846903270702854\n",
      "loss test: 0.13746300392208663\n",
      "accuracy test: 0.8694444444444445\n",
      "----------------------------epoch: 73 --------------------------------------------\n",
      "loss train: 0.0674725211143587\n",
      "accuracy train: 0.9853862212943633\n",
      "loss test: 0.13715605894153093\n",
      "accuracy test: 0.8694444444444445\n",
      "----------------------------epoch: 74 --------------------------------------------\n",
      "loss train: 0.0666507315987025\n",
      "accuracy train: 0.9860821155184412\n",
      "loss test: 0.13682767508412552\n",
      "accuracy test: 0.8694444444444445\n",
      "----------------------------epoch: 75 --------------------------------------------\n",
      "loss train: 0.06584605698048096\n",
      "accuracy train: 0.9874739039665971\n",
      "loss test: 0.13648379325706828\n",
      "accuracy test: 0.8694444444444445\n",
      "----------------------------epoch: 76 --------------------------------------------\n",
      "loss train: 0.06505714548616134\n",
      "accuracy train: 0.988169798190675\n",
      "loss test: 0.1361414756842915\n",
      "accuracy test: 0.8694444444444445\n",
      "----------------------------epoch: 77 --------------------------------------------\n",
      "loss train: 0.06428298017556579\n",
      "accuracy train: 0.988169798190675\n",
      "loss test: 0.13581907429254134\n",
      "accuracy test: 0.875\n",
      "----------------------------epoch: 78 --------------------------------------------\n",
      "loss train: 0.0635278483753072\n",
      "accuracy train: 0.988169798190675\n",
      "loss test: 0.13552527233212217\n",
      "accuracy test: 0.875\n",
      "----------------------------epoch: 79 --------------------------------------------\n",
      "loss train: 0.0627956571685492\n",
      "accuracy train: 0.988169798190675\n",
      "loss test: 0.13525723427563116\n",
      "accuracy test: 0.875\n"
     ]
    }
   ]
  },
  {
   "cell_type": "code",
   "source": [
    "import cv2\n",
    "\n",
    "image = cv2.imread(\"num2.png\")\n",
    "image = cv2.cvtColor(image, cv2.COLOR_BGR2GRAY)\n",
    "image = image.reshape(64, 1)\n",
    "\n",
    "x = image\n",
    "#forward\n",
    "\n",
    "#layer1\n",
    "out1 = sigmoid(x.T @ W1 + B1)\n",
    "\n",
    "#layer2\n",
    "out2 = sigmoid(out1 @ W2 + B2)\n",
    "\n",
    "#layer3\n",
    "out3 = softmax(out2 @ W3 + B3)\n",
    "y_pred = out3\n",
    "print(np.argmax(y_pred))"
   ],
   "metadata": {
    "colab": {
     "base_uri": "https://localhost:8080/"
    },
    "id": "anpZ0GmHqQUA",
    "outputId": "eff04f37-0ca5-40dc-950f-dd77b1b2ec7a"
   },
   "execution_count": 13,
   "outputs": [
    {
     "name": "stdout",
     "output_type": "stream",
     "text": [
      "2\n"
     ]
    }
   ]
  },
  {
   "cell_type": "code",
   "source": [],
   "metadata": {
    "id": "9-ZBohpgqURq"
   },
   "execution_count": 13,
   "outputs": []
  }
 ]
}