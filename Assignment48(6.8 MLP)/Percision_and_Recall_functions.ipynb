{
 "cells": [
  {
   "cell_type": "code",
   "execution_count": 7,
   "metadata": {
    "collapsed": true
   },
   "outputs": [],
   "source": [
    "import numpy as np\n",
    "from sklearn.metrics import precision_score, recall_score"
   ]
  },
  {
   "cell_type": "code",
   "source": [
    "labels = np.random.randint(2, size=100)\n",
    "print('labels list:', labels)\n",
    "\n",
    "predictions = np.random.randint(2, size=100)\n",
    "print('prediction list:', predictions)"
   ],
   "metadata": {
    "collapsed": false,
    "pycharm": {
     "name": "#%%\n"
    }
   },
   "execution_count": 8,
   "outputs": [
    {
     "name": "stdout",
     "output_type": "stream",
     "text": [
      "labels list: [1 0 1 1 0 0 0 0 1 1 1 0 0 1 0 0 1 1 0 0 1 1 0 0 1 0 0 0 0 0 1 0 0 1 1 0 0\n",
      " 1 1 1 0 0 1 1 1 1 0 0 0 1 0 0 0 1 0 1 1 0 0 1 1 0 1 1 1 0 0 1 0 1 1 0 1 1\n",
      " 1 1 0 1 1 0 1 0 1 0 1 0 1 1 1 0 1 0 1 1 1 1 0 0 1 1]\n",
      "prediction list: [0 1 1 1 0 1 0 0 1 0 1 0 0 0 0 1 0 1 0 1 1 0 1 1 0 1 1 0 1 0 1 0 0 0 1 1 1\n",
      " 1 0 0 0 1 0 1 0 0 0 1 1 1 1 0 1 1 0 0 1 0 1 0 1 0 1 1 0 0 0 0 1 0 0 1 0 0\n",
      " 0 0 0 0 1 1 0 0 0 1 1 0 0 0 0 0 1 1 0 1 0 0 0 0 1 0]\n"
     ]
    }
   ]
  },
  {
   "cell_type": "code",
   "execution_count": 9,
   "outputs": [],
   "source": [
    "def precision_calculator(labels, predictions):\n",
    "\n",
    "    true_positives = 0\n",
    "    false_positives = 0\n",
    "\n",
    "    for l,p in zip(labels, predictions):\n",
    "        if l == 1 and p == 1:\n",
    "                true_positives += 1\n",
    "        elif l == 0 and p == 1:\n",
    "                false_positives += 1\n",
    "\n",
    "    print('true_positives: ',true_positives)\n",
    "    print('false_positives: ',false_positives)\n",
    "\n",
    "    return true_positives / (true_positives + false_positives)"
   ],
   "metadata": {
    "collapsed": false,
    "pycharm": {
     "name": "#%%\n"
    }
   }
  },
  {
   "cell_type": "code",
   "execution_count": 10,
   "outputs": [
    {
     "name": "stdout",
     "output_type": "stream",
     "text": [
      "true_positives:  21\n",
      "false_positives:  22\n",
      "My precision: 0.4883720930232558\n",
      "Sk learn precision: 0.4883720930232558\n"
     ]
    }
   ],
   "source": [
    "# My precision calculator and  compare with Sklearn precision_score\n",
    "\n",
    "print('My precision:', precision_calculator(labels, predictions))\n",
    "print('Sk learn precision:', precision_score(labels, predictions))"
   ],
   "metadata": {
    "collapsed": false,
    "pycharm": {
     "name": "#%%\n"
    }
   }
  },
  {
   "cell_type": "code",
   "execution_count": 11,
   "outputs": [],
   "source": [
    "def recall_calculator(labels, predictions):\n",
    "\n",
    "    true_positives = 0\n",
    "    false_negatives = 0\n",
    "\n",
    "    for l,p in zip(labels, predictions):\n",
    "        if l == 1 and p == 1:\n",
    "                true_positives += 1\n",
    "        elif l == 1 and p == 0:\n",
    "                false_negatives += 1\n",
    "\n",
    "    print('true_positives: ',true_positives)\n",
    "    print('false_negatives: ',false_negatives)\n",
    "\n",
    "    return true_positives / (true_positives + false_negatives)"
   ],
   "metadata": {
    "collapsed": false,
    "pycharm": {
     "name": "#%%\n"
    }
   }
  },
  {
   "cell_type": "code",
   "execution_count": 12,
   "outputs": [
    {
     "name": "stdout",
     "output_type": "stream",
     "text": [
      "true_positives:  21\n",
      "false_negatives:  32\n",
      "My recall: 0.39622641509433965\n",
      "Sk learn recall: 0.39622641509433965\n"
     ]
    }
   ],
   "source": [
    "# My recall calculator and  compare with Sklearn recall_score\n",
    "print('My recall:', recall_calculator(labels, predictions))\n",
    "print('Sk learn recall:', recall_score(labels, predictions))"
   ],
   "metadata": {
    "collapsed": false,
    "pycharm": {
     "name": "#%%\n"
    }
   }
  }
 ],
 "metadata": {
  "kernelspec": {
   "display_name": "Python 3",
   "language": "python",
   "name": "python3"
  },
  "language_info": {
   "codemirror_mode": {
    "name": "ipython",
    "version": 2
   },
   "file_extension": ".py",
   "mimetype": "text/x-python",
   "name": "python",
   "nbconvert_exporter": "python",
   "pygments_lexer": "ipython2",
   "version": "2.7.6"
  }
 },
 "nbformat": 4,
 "nbformat_minor": 0
}