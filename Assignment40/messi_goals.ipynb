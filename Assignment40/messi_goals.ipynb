{
 "cells": [
  {
   "cell_type": "code",
   "execution_count": 1,
   "metadata": {
    "collapsed": true
   },
   "outputs": [],
   "source": [
    "import numpy as np\n",
    "import pandas as pd\n",
    "import matplotlib.pyplot as plt"
   ]
  },
  {
   "cell_type": "code",
   "execution_count": 2,
   "outputs": [
    {
     "data": {
      "text/plain": "                           Date Competition Name          Home team  \\\n0        samedi 16 f�vrier 2019             Liga       FC Barcelona   \n1      dimanche 13 janvier 2019             Liga       FC Barcelona   \n2       samedi 22 d�cembre 2018             Liga       FC Barcelona   \n3        samedi 20 octobre 2018             Liga       FC Barcelona   \n4    dimanche 23 septembre 2018             Liga       FC Barcelona   \n..                          ...              ...                ...   \n646       dimanche 17 juin 2007             Liga          Gimn�stic   \n647        dimanche 20 mai 2007             Liga    Atl�tico Madrid   \n648        dimanche 20 mai 2007             Liga    Atl�tico Madrid   \n649         samedi 17 mars 2007             Liga  Recreativo Huelva   \n650    dimanche 29 janvier 2006             Liga      Real Mallorca   \n\n              Opponent        Away team Minute  \\\n0      Real Valladolid  Real Valladolid     43   \n1                Eibar            Eibar     53   \n2        Celta de Vigo    Celta de Vigo     45   \n3              Sevilla          Sevilla     12   \n4               Girona           Girona     19   \n..                 ...              ...    ...   \n646          Gimn�stic     FC Barcelona     35   \n647    Atl�tico Madrid     FC Barcelona     80   \n648    Atl�tico Madrid     FC Barcelona     39   \n649  Recreativo Huelva     FC Barcelona     86   \n650      Real Mallorca     FC Barcelona     81   \n\n     Score Home Team - When Messi Scored  Score Away Team - When Messi Scored  \\\n0                                      1                                    0   \n1                                      2                                    0   \n2                                      2                                    0   \n3                                      2                                    0   \n4                                      1                                    0   \n..                                   ...                                  ...   \n646                                    0                                    2   \n647                                    0                                    5   \n648                                    0                                    1   \n649                                    0                                    4   \n650                                    0                                    3   \n\n      Goal Type Goal Method Final Game Result  \n0       Penalty   Left foot               Won  \n1    Field goal   Left foot               Won  \n2    Field goal   Left foot               Won  \n3    Field goal   Left foot               Won  \n4    Field goal   Left foot              Draw  \n..          ...         ...               ...  \n646         NaN   Left foot               Won  \n647         NaN   Left foot               Won  \n648         NaN   Left foot               Won  \n649         NaN   Left foot               Won  \n650         NaN   Left foot               Won  \n\n[651 rows x 11 columns]",
      "text/html": "<div>\n<style scoped>\n    .dataframe tbody tr th:only-of-type {\n        vertical-align: middle;\n    }\n\n    .dataframe tbody tr th {\n        vertical-align: top;\n    }\n\n    .dataframe thead th {\n        text-align: right;\n    }\n</style>\n<table border=\"1\" class=\"dataframe\">\n  <thead>\n    <tr style=\"text-align: right;\">\n      <th></th>\n      <th>Date</th>\n      <th>Competition Name</th>\n      <th>Home team</th>\n      <th>Opponent</th>\n      <th>Away team</th>\n      <th>Minute</th>\n      <th>Score Home Team - When Messi Scored</th>\n      <th>Score Away Team - When Messi Scored</th>\n      <th>Goal Type</th>\n      <th>Goal Method</th>\n      <th>Final Game Result</th>\n    </tr>\n  </thead>\n  <tbody>\n    <tr>\n      <th>0</th>\n      <td>samedi 16 f�vrier 2019</td>\n      <td>Liga</td>\n      <td>FC Barcelona</td>\n      <td>Real Valladolid</td>\n      <td>Real Valladolid</td>\n      <td>43</td>\n      <td>1</td>\n      <td>0</td>\n      <td>Penalty</td>\n      <td>Left foot</td>\n      <td>Won</td>\n    </tr>\n    <tr>\n      <th>1</th>\n      <td>dimanche 13 janvier 2019</td>\n      <td>Liga</td>\n      <td>FC Barcelona</td>\n      <td>Eibar</td>\n      <td>Eibar</td>\n      <td>53</td>\n      <td>2</td>\n      <td>0</td>\n      <td>Field goal</td>\n      <td>Left foot</td>\n      <td>Won</td>\n    </tr>\n    <tr>\n      <th>2</th>\n      <td>samedi 22 d�cembre 2018</td>\n      <td>Liga</td>\n      <td>FC Barcelona</td>\n      <td>Celta de Vigo</td>\n      <td>Celta de Vigo</td>\n      <td>45</td>\n      <td>2</td>\n      <td>0</td>\n      <td>Field goal</td>\n      <td>Left foot</td>\n      <td>Won</td>\n    </tr>\n    <tr>\n      <th>3</th>\n      <td>samedi 20 octobre 2018</td>\n      <td>Liga</td>\n      <td>FC Barcelona</td>\n      <td>Sevilla</td>\n      <td>Sevilla</td>\n      <td>12</td>\n      <td>2</td>\n      <td>0</td>\n      <td>Field goal</td>\n      <td>Left foot</td>\n      <td>Won</td>\n    </tr>\n    <tr>\n      <th>4</th>\n      <td>dimanche 23 septembre 2018</td>\n      <td>Liga</td>\n      <td>FC Barcelona</td>\n      <td>Girona</td>\n      <td>Girona</td>\n      <td>19</td>\n      <td>1</td>\n      <td>0</td>\n      <td>Field goal</td>\n      <td>Left foot</td>\n      <td>Draw</td>\n    </tr>\n    <tr>\n      <th>...</th>\n      <td>...</td>\n      <td>...</td>\n      <td>...</td>\n      <td>...</td>\n      <td>...</td>\n      <td>...</td>\n      <td>...</td>\n      <td>...</td>\n      <td>...</td>\n      <td>...</td>\n      <td>...</td>\n    </tr>\n    <tr>\n      <th>646</th>\n      <td>dimanche 17 juin 2007</td>\n      <td>Liga</td>\n      <td>Gimn�stic</td>\n      <td>Gimn�stic</td>\n      <td>FC Barcelona</td>\n      <td>35</td>\n      <td>0</td>\n      <td>2</td>\n      <td>NaN</td>\n      <td>Left foot</td>\n      <td>Won</td>\n    </tr>\n    <tr>\n      <th>647</th>\n      <td>dimanche 20 mai 2007</td>\n      <td>Liga</td>\n      <td>Atl�tico Madrid</td>\n      <td>Atl�tico Madrid</td>\n      <td>FC Barcelona</td>\n      <td>80</td>\n      <td>0</td>\n      <td>5</td>\n      <td>NaN</td>\n      <td>Left foot</td>\n      <td>Won</td>\n    </tr>\n    <tr>\n      <th>648</th>\n      <td>dimanche 20 mai 2007</td>\n      <td>Liga</td>\n      <td>Atl�tico Madrid</td>\n      <td>Atl�tico Madrid</td>\n      <td>FC Barcelona</td>\n      <td>39</td>\n      <td>0</td>\n      <td>1</td>\n      <td>NaN</td>\n      <td>Left foot</td>\n      <td>Won</td>\n    </tr>\n    <tr>\n      <th>649</th>\n      <td>samedi 17 mars 2007</td>\n      <td>Liga</td>\n      <td>Recreativo Huelva</td>\n      <td>Recreativo Huelva</td>\n      <td>FC Barcelona</td>\n      <td>86</td>\n      <td>0</td>\n      <td>4</td>\n      <td>NaN</td>\n      <td>Left foot</td>\n      <td>Won</td>\n    </tr>\n    <tr>\n      <th>650</th>\n      <td>dimanche 29 janvier 2006</td>\n      <td>Liga</td>\n      <td>Real Mallorca</td>\n      <td>Real Mallorca</td>\n      <td>FC Barcelona</td>\n      <td>81</td>\n      <td>0</td>\n      <td>3</td>\n      <td>NaN</td>\n      <td>Left foot</td>\n      <td>Won</td>\n    </tr>\n  </tbody>\n</table>\n<p>651 rows × 11 columns</p>\n</div>"
     },
     "execution_count": 2,
     "metadata": {},
     "output_type": "execute_result"
    }
   ],
   "source": [
    "data = pd.read_csv('Lionel Messi Goals.csv')\n",
    "data"
   ],
   "metadata": {
    "collapsed": false,
    "pycharm": {
     "name": "#%%\n"
    }
   }
  },
  {
   "cell_type": "code",
   "execution_count": null,
   "outputs": [],
   "source": [],
   "metadata": {
    "collapsed": false,
    "pycharm": {
     "name": "#%%\n"
    }
   }
  }
 ],
 "metadata": {
  "kernelspec": {
   "display_name": "Python 3",
   "language": "python",
   "name": "python3"
  },
  "language_info": {
   "codemirror_mode": {
    "name": "ipython",
    "version": 2
   },
   "file_extension": ".py",
   "mimetype": "text/x-python",
   "name": "python",
   "nbconvert_exporter": "python",
   "pygments_lexer": "ipython2",
   "version": "2.7.6"
  }
 },
 "nbformat": 4,
 "nbformat_minor": 0
}