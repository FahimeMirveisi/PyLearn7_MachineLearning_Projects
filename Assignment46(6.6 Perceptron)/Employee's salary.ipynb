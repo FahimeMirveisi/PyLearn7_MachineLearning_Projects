{
 "cells": [
  {
   "cell_type": "code",
   "execution_count": 1,
   "metadata": {
    "collapsed": true
   },
   "outputs": [],
   "source": [
    "import numpy as np\n",
    "import pandas as pd\n",
    "import matplotlib.pyplot as plt\n",
    "import matplotlib; matplotlib.use(\"TkAgg\")\n",
    "from perceptron_notgood import Perceptron\n",
    "from sklearn.model_selection import train_test_split\n",
    "from sklearn.datasets import make_regression"
   ]
  },
  {
   "cell_type": "markdown",
   "source": [
    "### Make a linear dataset using scikit-learn library"
   ],
   "metadata": {
    "collapsed": false,
    "pycharm": {
     "name": "#%% md\n"
    }
   }
  },
  {
   "cell_type": "code",
   "execution_count": 2,
   "outputs": [
    {
     "data": {
      "text/plain": "Text(0.5, 1.0, 'Experience and Salary')"
     },
     "execution_count": 2,
     "metadata": {},
     "output_type": "execute_result"
    }
   ],
   "source": [
    "#Generate data\n",
    "X, Y, coef = make_regression(n_samples=200, # number of samples\n",
    "                             n_features=1, # number of features\n",
    "                             n_informative=1, # number of useful features\n",
    "                             noise=45, # bias and standard deviation of the guassian noise\n",
    "                             coef=True, # true coefficient used to generated the data\n",
    "                             random_state=0) # set for same data points for each run\n",
    "\n",
    "# Scale feature x (years of experience) to range 0 to 30\n",
    "X = np.interp(X, (X.min(), X.max()), (0,20))\n",
    "\n",
    "# Scale target y (salary) to range 5 to 200 (Million Toman)\n",
    "Y = np.interp(Y, (Y.min(), Y.max()), (5, 200))\n",
    "\n",
    "# plt.ion() #interactive plot on\n",
    "plt.plot(X, Y, '.', label='training data')\n",
    "plt.xlabel('Years of experience')\n",
    "plt.ylabel('Salary (Million Toman)')\n",
    "plt.title('Experience and Salary')"
   ],
   "metadata": {
    "collapsed": false,
    "pycharm": {
     "name": "#%%\n"
    }
   }
  },
  {
   "cell_type": "markdown",
   "source": [
    "### Split data to train and test datasets"
   ],
   "metadata": {
    "collapsed": false,
    "pycharm": {
     "name": "#%% md\n"
    }
   }
  },
  {
   "cell_type": "code",
   "execution_count": 3,
   "outputs": [
    {
     "name": "stdout",
     "output_type": "stream",
     "text": [
      "(160, 1)\n",
      "(40, 1)\n",
      "(160, 1)\n",
      "(40, 1)\n"
     ]
    }
   ],
   "source": [
    "X_train, X_test, Y_train, Y_test = train_test_split(X, Y, shuffle=True, test_size=0.2)\n",
    "\n",
    "X_train = X_train.reshape(-1, 1)\n",
    "X_test = X_test.reshape(-1, 1)\n",
    "Y_train = Y_train.reshape(-1, 1)\n",
    "Y_test = Y_test.reshape(-1, 1)\n",
    "\n",
    "print(X_train.shape)\n",
    "print(X_test.shape)\n",
    "print(Y_train.shape)\n",
    "print(Y_test.shape)"
   ],
   "metadata": {
    "collapsed": false,
    "pycharm": {
     "name": "#%%\n"
    }
   }
  },
  {
   "cell_type": "markdown",
   "source": [
    "### Implement the perceptron algorithm as a class\n",
    "### Fit your model on the employee's salary dataset"
   ],
   "metadata": {
    "collapsed": false,
    "pycharm": {
     "name": "#%% md\n"
    }
   }
  },
  {
   "cell_type": "code",
   "execution_count": 4,
   "outputs": [],
   "source": [
    "perceptron = Perceptron(0.001, 0.01, 20)\n",
    "\n",
    "X_train_losses, X_train_losses_epoch = perceptron.fit_and_loss(X_train, Y_train)\n",
    "\n",
    "#X_test_losses = perceptron.evaluate(X_test, Y_test)\n",
    "\n",
    "Y_pred_X_train = perceptron.predict(X_train)"
   ],
   "metadata": {
    "collapsed": false,
    "pycharm": {
     "name": "#%%\n"
    }
   }
  },
  {
   "cell_type": "markdown",
   "source": [
    "### Plot data graph and loss graph as 2 subplots in 1 window"
   ],
   "metadata": {
    "collapsed": false
   }
  },
  {
   "cell_type": "code",
   "execution_count": 5,
   "outputs": [],
   "source": [
    "fig, (ax1, ax2, ax3) = plt.subplots(1, 3, figsize=(10, 10))\n",
    "\n",
    "ax1.clear()\n",
    "ax1.scatter(X_train, Y_train, color = \"blue\")\n",
    "ax1.plot(X_train, Y_pred_X_train, color = \"red\")\n",
    "ax1.set_xlabel('Years of experience')\n",
    "ax1.set_ylabel('Salary (Million Toman)')\n",
    "ax1.set_title('Experience and Salary')\n",
    "\n",
    "ax2.clear()\n",
    "ax2.plot(X_train_losses, color =\"cyan\")\n",
    "ax2.set_xlabel(\"each data train\")\n",
    "ax2.set_ylabel(\"Loss\")\n",
    "ax2.set_title('Loss and each data train')\n",
    "\n",
    "ax3.clear()\n",
    "ax3.plot(X_train_losses_epoch, color =\"yellow\")\n",
    "ax3.set_xlabel(\"epochs\")\n",
    "ax3.set_ylabel(\"Loss\")\n",
    "ax3.set_title('Loss and epochs')\n",
    "plt.pause(0.01)"
   ],
   "metadata": {
    "collapsed": false,
    "pycharm": {
     "name": "#%%\n"
    }
   }
  }
 ],
 "metadata": {
  "kernelspec": {
   "name": "pycharm-935c16f4",
   "language": "python",
   "display_name": "PyCharm (PyLearn7_MachineLearning_Projects)"
  },
  "language_info": {
   "codemirror_mode": {
    "name": "ipython",
    "version": 2
   },
   "file_extension": ".py",
   "mimetype": "text/x-python",
   "name": "python",
   "nbconvert_exporter": "python",
   "pygments_lexer": "ipython2",
   "version": "2.7.6"
  }
 },
 "nbformat": 4,
 "nbformat_minor": 0
}