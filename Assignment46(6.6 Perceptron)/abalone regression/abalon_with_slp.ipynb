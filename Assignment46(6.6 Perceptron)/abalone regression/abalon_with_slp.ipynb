{
 "cells": [
  {
   "cell_type": "code",
   "execution_count": 52,
   "metadata": {
    "collapsed": true
   },
   "outputs": [
    {
     "name": "stderr",
     "output_type": "stream",
     "text": [
      "UsageError: Line magic function `%` not found.\n"
     ]
    }
   ],
   "source": [
    "import numpy as np\n",
    "import pandas as pd\n",
    "import matplotlib.pyplot as plt\n",
    "import matplotlib; matplotlib.use(\"TkAgg\")\n",
    "from sklearn.model_selection import train_test_split\n",
    "from perceptron_version3 import Perceptron"
   ]
  },
  {
   "cell_type": "code",
   "execution_count": 51,
   "outputs": [
    {
     "data": {
      "text/plain": "  Sex  Length  Diameter  Height  Whole weight  Shucked weight  Viscera weight  \\\n0   M   0.455     0.365   0.095        0.5140          0.2245          0.1010   \n1   M   0.350     0.265   0.090        0.2255          0.0995          0.0485   \n2   F   0.530     0.420   0.135        0.6770          0.2565          0.1415   \n3   M   0.440     0.365   0.125        0.5160          0.2155          0.1140   \n4   I   0.330     0.255   0.080        0.2050          0.0895          0.0395   \n\n   Shell weight  Rings  \n0         0.150     15  \n1         0.070      7  \n2         0.210      9  \n3         0.155     10  \n4         0.055      7  ",
      "text/html": "<div>\n<style scoped>\n    .dataframe tbody tr th:only-of-type {\n        vertical-align: middle;\n    }\n\n    .dataframe tbody tr th {\n        vertical-align: top;\n    }\n\n    .dataframe thead th {\n        text-align: right;\n    }\n</style>\n<table border=\"1\" class=\"dataframe\">\n  <thead>\n    <tr style=\"text-align: right;\">\n      <th></th>\n      <th>Sex</th>\n      <th>Length</th>\n      <th>Diameter</th>\n      <th>Height</th>\n      <th>Whole weight</th>\n      <th>Shucked weight</th>\n      <th>Viscera weight</th>\n      <th>Shell weight</th>\n      <th>Rings</th>\n    </tr>\n  </thead>\n  <tbody>\n    <tr>\n      <th>0</th>\n      <td>M</td>\n      <td>0.455</td>\n      <td>0.365</td>\n      <td>0.095</td>\n      <td>0.5140</td>\n      <td>0.2245</td>\n      <td>0.1010</td>\n      <td>0.150</td>\n      <td>15</td>\n    </tr>\n    <tr>\n      <th>1</th>\n      <td>M</td>\n      <td>0.350</td>\n      <td>0.265</td>\n      <td>0.090</td>\n      <td>0.2255</td>\n      <td>0.0995</td>\n      <td>0.0485</td>\n      <td>0.070</td>\n      <td>7</td>\n    </tr>\n    <tr>\n      <th>2</th>\n      <td>F</td>\n      <td>0.530</td>\n      <td>0.420</td>\n      <td>0.135</td>\n      <td>0.6770</td>\n      <td>0.2565</td>\n      <td>0.1415</td>\n      <td>0.210</td>\n      <td>9</td>\n    </tr>\n    <tr>\n      <th>3</th>\n      <td>M</td>\n      <td>0.440</td>\n      <td>0.365</td>\n      <td>0.125</td>\n      <td>0.5160</td>\n      <td>0.2155</td>\n      <td>0.1140</td>\n      <td>0.155</td>\n      <td>10</td>\n    </tr>\n    <tr>\n      <th>4</th>\n      <td>I</td>\n      <td>0.330</td>\n      <td>0.255</td>\n      <td>0.080</td>\n      <td>0.2050</td>\n      <td>0.0895</td>\n      <td>0.0395</td>\n      <td>0.055</td>\n      <td>7</td>\n    </tr>\n  </tbody>\n</table>\n</div>"
     },
     "execution_count": 51,
     "metadata": {},
     "output_type": "execute_result"
    }
   ],
   "source": [
    "data = pd.read_csv('data/abalone.csv')\n",
    "data.head()"
   ],
   "metadata": {
    "collapsed": false,
    "pycharm": {
     "name": "#%%\n"
    }
   }
  },
  {
   "cell_type": "code",
   "execution_count": null,
   "outputs": [],
   "source": [
    "data[\"Sex\"] = data[\"Sex\"].replace([\"F\", \"M\", \"I\"], [0, 1, 2])"
   ],
   "metadata": {
    "collapsed": false,
    "pycharm": {
     "name": "#%%\n"
    }
   }
  },
  {
   "cell_type": "code",
   "execution_count": null,
   "outputs": [],
   "source": [
    "data.corr()"
   ],
   "metadata": {
    "collapsed": false,
    "pycharm": {
     "name": "#%%\n"
    }
   }
  },
  {
   "cell_type": "code",
   "execution_count": null,
   "outputs": [],
   "source": [
    "plt.scatter(data['Length'], data['Height'])\n",
    "plt.xlabel('Length of abalon')\n",
    "plt.ylabel('Height of abalon')\n",
    "plt.title('Length and Height of abalone')\n",
    "plt.show()"
   ],
   "metadata": {
    "collapsed": false,
    "pycharm": {
     "name": "#%%\n"
    }
   }
  },
  {
   "cell_type": "markdown",
   "source": [
    "### Train with single layer perceptron"
   ],
   "metadata": {
    "collapsed": false,
    "pycharm": {
     "name": "#%% md\n"
    }
   }
  },
  {
   "cell_type": "code",
   "execution_count": null,
   "outputs": [],
   "source": [
    "X = np.array(data[\"Length\"])\n",
    "Y = np.array(data[\"Height\"])\n",
    "\n",
    "print(X.shape)\n",
    "print(Y.shape)"
   ],
   "metadata": {
    "collapsed": false,
    "pycharm": {
     "name": "#%%\n"
    }
   }
  },
  {
   "cell_type": "code",
   "execution_count": null,
   "outputs": [],
   "source": [
    "X_train, X_test, Y_train, Y_test = train_test_split(X, Y, shuffle=True, test_size=0.2)"
   ],
   "metadata": {
    "collapsed": false,
    "pycharm": {
     "name": "#%%\n"
    }
   }
  },
  {
   "cell_type": "code",
   "execution_count": null,
   "outputs": [],
   "source": [
    "X_train = X_train.reshape(-1, 1)\n",
    "X_test = X_test.reshape(-1, 1)\n",
    "Y_train = Y_train.reshape(-1, 1)\n",
    "Y_test = Y_test.reshape(-1, 1)\n",
    "\n",
    "print(X_train.shape)\n",
    "print(X_test.shape)\n",
    "print(Y_train.shape)\n",
    "print(Y_test.shape)"
   ],
   "metadata": {
    "collapsed": false,
    "pycharm": {
     "name": "#%%\n"
    }
   }
  },
  {
   "cell_type": "code",
   "execution_count": null,
   "outputs": [],
   "source": [
    "perceptron = Perceptron(1, 0.001, 0.01, 20)\n",
    "\n",
    "#X_train_losses, X_train_losses_epoch = perceptron.fit_and_loss(X_train, Y_train)\n",
    "X_train_losses, X_train_losses_epoch = perceptron.fit_and_losses(X_train, Y_train)\n",
    "#print(X_train_losses)\n",
    "#print(X_train_losses_epoch)\n",
    "X_test_losses = perceptron.evaluate(X_test, Y_test)\n",
    "print(\"X_test_losses: \",X_test_losses)\n",
    "\n",
    "Y_pred_X_train = perceptron.predict(X_train)\n",
    "print(\"Y_pred_X_train: \",Y_pred_X_train)"
   ],
   "metadata": {
    "collapsed": false,
    "pycharm": {
     "name": "#%%\n"
    }
   }
  },
  {
   "cell_type": "markdown",
   "source": [
    "perceptron = Perceptron(0.001, 0.01, 20)\n",
    "\n",
    "X_train_losses, X_train_losses_epoch = perceptron.fit_and_loss(X_train, Y_train)\n",
    "\n",
    "#X_test_losses = perceptron.evaluate(X_test, Y_test)\n",
    "\n",
    "Y_pred_X_train = perceptron.predict(X_train)"
   ],
   "metadata": {
    "collapsed": false,
    "pycharm": {
     "name": "#%% md\n"
    }
   }
  },
  {
   "cell_type": "markdown",
   "source": [
    "### Plot data graph and loss graph as 3 subplots in 1 window"
   ],
   "metadata": {
    "collapsed": false,
    "pycharm": {
     "name": "#%% md\n"
    }
   }
  },
  {
   "cell_type": "code",
   "execution_count": null,
   "outputs": [],
   "source": [
    "fig, (ax1, ax2, ax3) = plt.subplots(1, 3, figsize=(20, 10))\n",
    "\n",
    "ax1.clear()\n",
    "ax1.scatter(X_train, Y_train, color = \"blue\")\n",
    "ax1.plot(X_train, Y_pred_X_train, color = \"red\")\n",
    "ax1.set_xlabel('Length of abalon')\n",
    "ax1.set_ylabel('Height of abalon')\n",
    "ax1.set_title('Length and Height of abalone')\n",
    "\n",
    "ax2.clear()\n",
    "ax2.plot(X_train_losses, color =\"cyan\")\n",
    "ax2.set_xlabel(\"each data train\")\n",
    "ax2.set_ylabel(\"Loss\")\n",
    "ax2.set_title('Loss and each data train')\n",
    "\n",
    "ax3.clear()\n",
    "ax3.plot(X_train_losses_epoch, color =\"yellow\")\n",
    "ax3.set_xlabel(\"epochs\")\n",
    "ax3.set_ylabel(\"Loss\")\n",
    "ax3.set_title('Loss and epochs')\n",
    "plt.pause(0.01)"
   ],
   "metadata": {
    "collapsed": false,
    "pycharm": {
     "name": "#%%\n"
    }
   }
  },
  {
   "cell_type": "code",
   "execution_count": null,
   "outputs": [],
   "source": [],
   "metadata": {
    "collapsed": false,
    "pycharm": {
     "name": "#%%\n"
    }
   }
  }
 ],
 "metadata": {
  "kernelspec": {
   "display_name": "Python 3",
   "language": "python",
   "name": "python3"
  },
  "language_info": {
   "codemirror_mode": {
    "name": "ipython",
    "version": 2
   },
   "file_extension": ".py",
   "mimetype": "text/x-python",
   "name": "python",
   "nbconvert_exporter": "python",
   "pygments_lexer": "ipython2",
   "version": "2.7.6"
  }
 },
 "nbformat": 4,
 "nbformat_minor": 0
}