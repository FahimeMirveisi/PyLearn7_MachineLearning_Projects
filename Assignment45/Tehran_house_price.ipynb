{
 "cells": [
  {
   "cell_type": "code",
   "execution_count": 46,
   "metadata": {
    "collapsed": true
   },
   "outputs": [],
   "source": [
    "# import the standard libraries\n",
    "import numpy as np\n",
    "import pandas as pd\n",
    "import matplotlib.pyplot as plt\n",
    "\n",
    "from sklearn.model_selection import train_test_split\n",
    "from lls import LinearLeastSquare"
   ]
  },
  {
   "cell_type": "markdown",
   "source": [
    "## Data Loading"
   ],
   "metadata": {
    "collapsed": false,
    "pycharm": {
     "name": "#%% md\n"
    }
   }
  },
  {
   "cell_type": "code",
   "execution_count": 47,
   "outputs": [
    {
     "data": {
      "text/plain": "   Area  Room  Parking  Warehouse  Elevator         Address         Price  \\\n0    63     1     True       True      True         Shahran  1.850000e+09   \n1    60     1     True       True      True         Shahran  1.850000e+09   \n2    79     2     True       True      True          Pardis  5.500000e+08   \n3    95     2     True       True      True   Shahrake Qods  9.025000e+08   \n4   123     2     True       True      True  Shahrake Gharb  7.000000e+09   \n\n   Price(USD)  \n0    61666.67  \n1    61666.67  \n2    18333.33  \n3    30083.33  \n4   233333.33  ",
      "text/html": "<div>\n<style scoped>\n    .dataframe tbody tr th:only-of-type {\n        vertical-align: middle;\n    }\n\n    .dataframe tbody tr th {\n        vertical-align: top;\n    }\n\n    .dataframe thead th {\n        text-align: right;\n    }\n</style>\n<table border=\"1\" class=\"dataframe\">\n  <thead>\n    <tr style=\"text-align: right;\">\n      <th></th>\n      <th>Area</th>\n      <th>Room</th>\n      <th>Parking</th>\n      <th>Warehouse</th>\n      <th>Elevator</th>\n      <th>Address</th>\n      <th>Price</th>\n      <th>Price(USD)</th>\n    </tr>\n  </thead>\n  <tbody>\n    <tr>\n      <th>0</th>\n      <td>63</td>\n      <td>1</td>\n      <td>True</td>\n      <td>True</td>\n      <td>True</td>\n      <td>Shahran</td>\n      <td>1.850000e+09</td>\n      <td>61666.67</td>\n    </tr>\n    <tr>\n      <th>1</th>\n      <td>60</td>\n      <td>1</td>\n      <td>True</td>\n      <td>True</td>\n      <td>True</td>\n      <td>Shahran</td>\n      <td>1.850000e+09</td>\n      <td>61666.67</td>\n    </tr>\n    <tr>\n      <th>2</th>\n      <td>79</td>\n      <td>2</td>\n      <td>True</td>\n      <td>True</td>\n      <td>True</td>\n      <td>Pardis</td>\n      <td>5.500000e+08</td>\n      <td>18333.33</td>\n    </tr>\n    <tr>\n      <th>3</th>\n      <td>95</td>\n      <td>2</td>\n      <td>True</td>\n      <td>True</td>\n      <td>True</td>\n      <td>Shahrake Qods</td>\n      <td>9.025000e+08</td>\n      <td>30083.33</td>\n    </tr>\n    <tr>\n      <th>4</th>\n      <td>123</td>\n      <td>2</td>\n      <td>True</td>\n      <td>True</td>\n      <td>True</td>\n      <td>Shahrake Gharb</td>\n      <td>7.000000e+09</td>\n      <td>233333.33</td>\n    </tr>\n  </tbody>\n</table>\n</div>"
     },
     "execution_count": 47,
     "metadata": {},
     "output_type": "execute_result"
    }
   ],
   "source": [
    "# Load data\n",
    "data = pd.read_csv(\"data/HousePrice.csv\")\n",
    "data.head()"
   ],
   "metadata": {
    "collapsed": false,
    "pycharm": {
     "name": "#%%\n"
    }
   }
  },
  {
   "cell_type": "markdown",
   "source": [
    "## Data Preprocessing\n",
    "\n",
    "- In the data preprocessing phase, we first examined the shape of the data to understand its dimensions.\n",
    "- Next, we checked for null values in the dataset and removed them if any found.\n",
    "- Additionally, we performed a check for duplicate values and replaced them to ensure data integrity.\n",
    "- To gain insights into the relationships between different variables, we visualized the correlation map using a heatmap. This visualization allowed us to identify patterns and dependencies among the features in the dataset, helping us understand the interplay between various attribute."
   ],
   "metadata": {
    "collapsed": false,
    "pycharm": {
     "name": "#%% md\n"
    }
   }
  },
  {
   "cell_type": "code",
   "execution_count": 48,
   "outputs": [
    {
     "data": {
      "text/plain": "(3473, 8)"
     },
     "execution_count": 48,
     "metadata": {},
     "output_type": "execute_result"
    }
   ],
   "source": [
    "# shape of data before drop nulls\n",
    "data.shape"
   ],
   "metadata": {
    "collapsed": false,
    "pycharm": {
     "name": "#%%\n"
    }
   }
  },
  {
   "cell_type": "code",
   "execution_count": 49,
   "outputs": [
    {
     "data": {
      "text/plain": "Index(['Area', 'Room', 'Parking', 'Warehouse', 'Elevator', 'Address', 'Price',\n       'Price(USD)'],\n      dtype='object')"
     },
     "execution_count": 49,
     "metadata": {},
     "output_type": "execute_result"
    }
   ],
   "source": [
    "# colums of dataset\n",
    "data.columns"
   ],
   "metadata": {
    "collapsed": false,
    "pycharm": {
     "name": "#%%\n"
    }
   }
  },
  {
   "cell_type": "code",
   "execution_count": 50,
   "outputs": [
    {
     "name": "stdout",
     "output_type": "stream",
     "text": [
      "<class 'pandas.core.frame.DataFrame'>\n",
      "RangeIndex: 3473 entries, 0 to 3472\n",
      "Data columns (total 8 columns):\n",
      " #   Column      Non-Null Count  Dtype  \n",
      "---  ------      --------------  -----  \n",
      " 0   Area        3473 non-null   int64  \n",
      " 1   Room        3473 non-null   int64  \n",
      " 2   Parking     3473 non-null   bool   \n",
      " 3   Warehouse   3473 non-null   bool   \n",
      " 4   Elevator    3473 non-null   bool   \n",
      " 5   Address     3450 non-null   object \n",
      " 6   Price       3473 non-null   float64\n",
      " 7   Price(USD)  3473 non-null   float64\n",
      "dtypes: bool(3), float64(2), int64(2), object(1)\n",
      "memory usage: 146.0+ KB\n"
     ]
    }
   ],
   "source": [
    "data.info()"
   ],
   "metadata": {
    "collapsed": false,
    "pycharm": {
     "name": "#%%\n"
    }
   }
  },
  {
   "cell_type": "code",
   "execution_count": 51,
   "outputs": [
    {
     "data": {
      "text/plain": "<pandas.io.formats.style.Styler at 0x15edcde7340>",
      "text/html": "<style type=\"text/css\">\n#T_96c61_row0_col0, #T_96c61_row0_col1, #T_96c61_row7_col2, #T_96c61_row7_col3 {\n  background-color: #000000;\n  color: #f1f1f1;\n}\n#T_96c61_row0_col2, #T_96c61_row0_col3, #T_96c61_row1_col1, #T_96c61_row2_col1, #T_96c61_row3_col0, #T_96c61_row3_col1, #T_96c61_row3_col2, #T_96c61_row3_col3, #T_96c61_row4_col1, #T_96c61_row5_col1, #T_96c61_row6_col1, #T_96c61_row7_col1 {\n  background-color: #ffffff;\n  color: #000000;\n}\n#T_96c61_row1_col0 {\n  background-color: #f8fbfb;\n  color: #000000;\n}\n#T_96c61_row1_col2, #T_96c61_row1_col3 {\n  background-color: #ecf3f3;\n  color: #000000;\n}\n#T_96c61_row2_col0, #T_96c61_row4_col0 {\n  background-color: #fcfdfd;\n  color: #000000;\n}\n#T_96c61_row2_col2, #T_96c61_row2_col3 {\n  background-color: #e1ecec;\n  color: #000000;\n}\n#T_96c61_row4_col2, #T_96c61_row4_col3 {\n  background-color: #fbfcfc;\n  color: #000000;\n}\n#T_96c61_row5_col0 {\n  background-color: #fafcfb;\n  color: #000000;\n}\n#T_96c61_row5_col2, #T_96c61_row5_col3 {\n  background-color: #f5f9f9;\n  color: #000000;\n}\n#T_96c61_row6_col0 {\n  background-color: #f7fafa;\n  color: #000000;\n}\n#T_96c61_row6_col2, #T_96c61_row6_col3 {\n  background-color: #e9f1f1;\n  color: #000000;\n}\n#T_96c61_row7_col0 {\n  background-color: #a5c5c5;\n  color: #000000;\n}\n</style>\n<table id=\"T_96c61\">\n  <thead>\n    <tr>\n      <th class=\"blank level0\" >&nbsp;</th>\n      <th id=\"T_96c61_level0_col0\" class=\"col_heading level0 col0\" >Area</th>\n      <th id=\"T_96c61_level0_col1\" class=\"col_heading level0 col1\" >Room</th>\n      <th id=\"T_96c61_level0_col2\" class=\"col_heading level0 col2\" >Price</th>\n      <th id=\"T_96c61_level0_col3\" class=\"col_heading level0 col3\" >Price(USD)</th>\n    </tr>\n  </thead>\n  <tbody>\n    <tr>\n      <th id=\"T_96c61_level0_row0\" class=\"row_heading level0 row0\" >count</th>\n      <td id=\"T_96c61_row0_col0\" class=\"data row0 col0\" >3473.000000</td>\n      <td id=\"T_96c61_row0_col1\" class=\"data row0 col1\" >3473.000000</td>\n      <td id=\"T_96c61_row0_col2\" class=\"data row0 col2\" >3473.000000</td>\n      <td id=\"T_96c61_row0_col3\" class=\"data row0 col3\" >3473.000000</td>\n    </tr>\n    <tr>\n      <th id=\"T_96c61_level0_row1\" class=\"row_heading level0 row1\" >mean</th>\n      <td id=\"T_96c61_row1_col0\" class=\"data row1 col0\" >106.774547</td>\n      <td id=\"T_96c61_row1_col1\" class=\"data row1 col1\" >2.079758</td>\n      <td id=\"T_96c61_row1_col2\" class=\"data row1 col2\" >5354621367.719839</td>\n      <td id=\"T_96c61_row1_col3\" class=\"data row1 col3\" >178487.378978</td>\n    </tr>\n    <tr>\n      <th id=\"T_96c61_level0_row2\" class=\"row_heading level0 row2\" >std</th>\n      <td id=\"T_96c61_row2_col0\" class=\"data row2 col0\" >69.365567</td>\n      <td id=\"T_96c61_row2_col1\" class=\"data row2 col1\" >0.758764</td>\n      <td id=\"T_96c61_row2_col2\" class=\"data row2 col2\" >8104057560.444856</td>\n      <td id=\"T_96c61_row2_col3\" class=\"data row2 col3\" >270135.251944</td>\n    </tr>\n    <tr>\n      <th id=\"T_96c61_level0_row3\" class=\"row_heading level0 row3\" >min</th>\n      <td id=\"T_96c61_row3_col0\" class=\"data row3 col0\" >30.000000</td>\n      <td id=\"T_96c61_row3_col1\" class=\"data row3 col1\" >0.000000</td>\n      <td id=\"T_96c61_row3_col2\" class=\"data row3 col2\" >3600000.000000</td>\n      <td id=\"T_96c61_row3_col3\" class=\"data row3 col3\" >120.000000</td>\n    </tr>\n    <tr>\n      <th id=\"T_96c61_level0_row4\" class=\"row_heading level0 row4\" >25%</th>\n      <td id=\"T_96c61_row4_col0\" class=\"data row4 col0\" >69.000000</td>\n      <td id=\"T_96c61_row4_col1\" class=\"data row4 col1\" >2.000000</td>\n      <td id=\"T_96c61_row4_col2\" class=\"data row4 col2\" >1415000000.000000</td>\n      <td id=\"T_96c61_row4_col3\" class=\"data row4 col3\" >47166.670000</td>\n    </tr>\n    <tr>\n      <th id=\"T_96c61_level0_row5\" class=\"row_heading level0 row5\" >50%</th>\n      <td id=\"T_96c61_row5_col0\" class=\"data row5 col0\" >90.000000</td>\n      <td id=\"T_96c61_row5_col1\" class=\"data row5 col1\" >2.000000</td>\n      <td id=\"T_96c61_row5_col2\" class=\"data row5 col2\" >2880000000.000000</td>\n      <td id=\"T_96c61_row5_col3\" class=\"data row5 col3\" >96000.000000</td>\n    </tr>\n    <tr>\n      <th id=\"T_96c61_level0_row6\" class=\"row_heading level0 row6\" >75%</th>\n      <td id=\"T_96c61_row6_col0\" class=\"data row6 col0\" >120.000000</td>\n      <td id=\"T_96c61_row6_col1\" class=\"data row6 col1\" >2.000000</td>\n      <td id=\"T_96c61_row6_col2\" class=\"data row6 col2\" >6000000000.000000</td>\n      <td id=\"T_96c61_row6_col3\" class=\"data row6 col3\" >200000.000000</td>\n    </tr>\n    <tr>\n      <th id=\"T_96c61_level0_row7\" class=\"row_heading level0 row7\" >max</th>\n      <td id=\"T_96c61_row7_col0\" class=\"data row7 col0\" >929.000000</td>\n      <td id=\"T_96c61_row7_col1\" class=\"data row7 col1\" >5.000000</td>\n      <td id=\"T_96c61_row7_col2\" class=\"data row7 col2\" >92400000000.000000</td>\n      <td id=\"T_96c61_row7_col3\" class=\"data row7 col3\" >3080000.000000</td>\n    </tr>\n  </tbody>\n</table>\n"
     },
     "execution_count": 51,
     "metadata": {},
     "output_type": "execute_result"
    }
   ],
   "source": [
    "data.describe().style.background_gradient(cmap='bone_r')"
   ],
   "metadata": {
    "collapsed": false,
    "pycharm": {
     "name": "#%%\n"
    }
   }
  },
  {
   "cell_type": "code",
   "execution_count": 52,
   "outputs": [
    {
     "data": {
      "text/plain": "Area           0\nRoom           0\nParking        0\nWarehouse      0\nElevator       0\nAddress       23\nPrice          0\nPrice(USD)     0\ndtype: int64"
     },
     "execution_count": 52,
     "metadata": {},
     "output_type": "execute_result"
    }
   ],
   "source": [
    "# count houses with null address\n",
    "data.isna().sum()"
   ],
   "metadata": {
    "collapsed": false,
    "pycharm": {
     "name": "#%%\n"
    }
   }
  },
  {
   "cell_type": "code",
   "execution_count": 53,
   "outputs": [
    {
     "data": {
      "text/plain": "(3450, 8)"
     },
     "execution_count": 53,
     "metadata": {},
     "output_type": "execute_result"
    }
   ],
   "source": [
    "# drop 23 houses in dataset without address( their address was null)\n",
    "data = data.dropna()\n",
    "\n",
    "# shape of data after drop null address rows\n",
    "data.shape"
   ],
   "metadata": {
    "collapsed": false,
    "pycharm": {
     "name": "#%%\n"
    }
   }
  },
  {
   "cell_type": "code",
   "execution_count": 54,
   "outputs": [
    {
     "name": "stdout",
     "output_type": "stream",
     "text": [
      "The data contains 208 duplicate_values\n"
     ]
    }
   ],
   "source": [
    "# checking the duplicate values in the data\n",
    "\n",
    "duplicate_values = data.duplicated().sum()\n",
    "print(f'The data contains {duplicate_values} duplicate_values')"
   ],
   "metadata": {
    "collapsed": false,
    "pycharm": {
     "name": "#%%\n"
    }
   }
  },
  {
   "cell_type": "code",
   "execution_count": 55,
   "outputs": [
    {
     "data": {
      "text/plain": "(3242, 8)"
     },
     "execution_count": 55,
     "metadata": {},
     "output_type": "execute_result"
    }
   ],
   "source": [
    "# drop the duplicate values in the dataset\n",
    "data = data.drop_duplicates()\n",
    "data.shape"
   ],
   "metadata": {
    "collapsed": false,
    "pycharm": {
     "name": "#%%\n"
    }
   }
  },
  {
   "cell_type": "code",
   "execution_count": 56,
   "outputs": [
    {
     "data": {
      "text/plain": "'\\ndata[\"Parking\"].replace([\"True\", \"False\"], [1, 0], inplace=True)\\ndata[\"Warehouse\"].replace([\"True\", \"False\"], [1, 0], inplace=True)\\ndata[\"Elevator\"].replace([\"True\", \"False\"], [1, 0], inplace=True)\\ndata.head()\\n'"
     },
     "execution_count": 56,
     "metadata": {},
     "output_type": "execute_result"
    }
   ],
   "source": [
    "'''\n",
    "data[\"Parking\"].replace([\"True\", \"False\"], [1, 0], inplace=True)\n",
    "data[\"Warehouse\"].replace([\"True\", \"False\"], [1, 0], inplace=True)\n",
    "data[\"Elevator\"].replace([\"True\", \"False\"], [1, 0], inplace=True)\n",
    "data.head()\n",
    "'''"
   ],
   "metadata": {
    "collapsed": false,
    "pycharm": {
     "name": "#%%\n"
    }
   }
  },
  {
   "cell_type": "markdown",
   "source": [
    "## Update dollar price to july 2023"
   ],
   "metadata": {
    "collapsed": false,
    "pycharm": {
     "name": "#%% md\n"
    }
   }
  },
  {
   "cell_type": "code",
   "execution_count": null,
   "outputs": [],
   "source": [
    "data['Price(USD)'] = data['Price(USD)'].apply(lambda x: x / 30000 * 48000)\n",
    "# data['Price(USD)'] = pd.to_numeric(data[\"Price(USD)\"] , errors='coerce')\n",
    "data['Price(USD)']"
   ],
   "metadata": {
    "collapsed": false,
    "pycharm": {
     "name": "#%%\n"
    }
   }
  },
  {
   "cell_type": "code",
   "execution_count": 58,
   "outputs": [
    {
     "data": {
      "text/plain": "\"\\ndef update_dollar(x):\\n    return  (x / 30000) * 48000\\n\\ndata['Price(USD)'].apply(update_dollar)\\ndata['Price(USD)']\\n \\n\""
     },
     "execution_count": 58,
     "metadata": {},
     "output_type": "execute_result"
    }
   ],
   "source": [
    "'''\n",
    "def update_dollar(x):\n",
    "    return  (x / 30000) * 48000\n",
    "\n",
    "data['Price(USD)'].apply(update_dollar)\n",
    "data['Price(USD)']\n",
    "\n",
    "'''"
   ],
   "metadata": {
    "collapsed": false,
    "pycharm": {
     "name": "#%%\n"
    }
   }
  },
  {
   "cell_type": "code",
   "execution_count": 59,
   "outputs": [
    {
     "data": {
      "text/plain": "   Area  Room  Parking  Warehouse  Elevator         Address         Price  \\\n0    63     1     True       True      True         Shahran  1.850000e+09   \n1    60     1     True       True      True         Shahran  1.850000e+09   \n2    79     2     True       True      True          Pardis  5.500000e+08   \n3    95     2     True       True      True   Shahrake Qods  9.025000e+08   \n4   123     2     True       True      True  Shahrake Gharb  7.000000e+09   \n\n   Price(USD)  \n0   98666.672  \n1   98666.672  \n2   29333.328  \n3   48133.328  \n4  373333.328  ",
      "text/html": "<div>\n<style scoped>\n    .dataframe tbody tr th:only-of-type {\n        vertical-align: middle;\n    }\n\n    .dataframe tbody tr th {\n        vertical-align: top;\n    }\n\n    .dataframe thead th {\n        text-align: right;\n    }\n</style>\n<table border=\"1\" class=\"dataframe\">\n  <thead>\n    <tr style=\"text-align: right;\">\n      <th></th>\n      <th>Area</th>\n      <th>Room</th>\n      <th>Parking</th>\n      <th>Warehouse</th>\n      <th>Elevator</th>\n      <th>Address</th>\n      <th>Price</th>\n      <th>Price(USD)</th>\n    </tr>\n  </thead>\n  <tbody>\n    <tr>\n      <th>0</th>\n      <td>63</td>\n      <td>1</td>\n      <td>True</td>\n      <td>True</td>\n      <td>True</td>\n      <td>Shahran</td>\n      <td>1.850000e+09</td>\n      <td>98666.672</td>\n    </tr>\n    <tr>\n      <th>1</th>\n      <td>60</td>\n      <td>1</td>\n      <td>True</td>\n      <td>True</td>\n      <td>True</td>\n      <td>Shahran</td>\n      <td>1.850000e+09</td>\n      <td>98666.672</td>\n    </tr>\n    <tr>\n      <th>2</th>\n      <td>79</td>\n      <td>2</td>\n      <td>True</td>\n      <td>True</td>\n      <td>True</td>\n      <td>Pardis</td>\n      <td>5.500000e+08</td>\n      <td>29333.328</td>\n    </tr>\n    <tr>\n      <th>3</th>\n      <td>95</td>\n      <td>2</td>\n      <td>True</td>\n      <td>True</td>\n      <td>True</td>\n      <td>Shahrake Qods</td>\n      <td>9.025000e+08</td>\n      <td>48133.328</td>\n    </tr>\n    <tr>\n      <th>4</th>\n      <td>123</td>\n      <td>2</td>\n      <td>True</td>\n      <td>True</td>\n      <td>True</td>\n      <td>Shahrake Gharb</td>\n      <td>7.000000e+09</td>\n      <td>373333.328</td>\n    </tr>\n  </tbody>\n</table>\n</div>"
     },
     "execution_count": 59,
     "metadata": {},
     "output_type": "execute_result"
    }
   ],
   "source": [
    "data.head()"
   ],
   "metadata": {
    "collapsed": false,
    "pycharm": {
     "name": "#%%\n"
    }
   }
  },
  {
   "cell_type": "code",
   "execution_count": 60,
   "outputs": [
    {
     "name": "stderr",
     "output_type": "stream",
     "text": [
      "C:\\Users\\fahim\\AppData\\Local\\Temp\\ipykernel_14176\\1127400319.py:1: FutureWarning: The default value of numeric_only in DataFrame.corr is deprecated. In a future version, it will default to False. Select only valid columns or specify the value of numeric_only to silence this warning.\n",
      "  data.corr()\n"
     ]
    },
    {
     "data": {
      "text/plain": "                Area      Room   Parking  Warehouse  Elevator     Price  \\\nArea        1.000000  0.670121  0.200009   0.072364  0.047034  0.720935   \nRoom        0.670121  1.000000  0.278743   0.125894  0.181826  0.569738   \nParking     0.200009  0.278743  1.000000   0.429241  0.428801  0.193761   \nWarehouse   0.072364  0.125894  0.429241   1.000000  0.205098  0.109370   \nElevator    0.047034  0.181826  0.428801   0.205098  1.000000  0.110310   \nPrice       0.720935  0.569738  0.193761   0.109370  0.110310  1.000000   \nPrice(USD)  0.720935  0.569738  0.193761   0.109370  0.110310  1.000000   \n\n            Price(USD)  \nArea          0.720935  \nRoom          0.569738  \nParking       0.193761  \nWarehouse     0.109370  \nElevator      0.110310  \nPrice         1.000000  \nPrice(USD)    1.000000  ",
      "text/html": "<div>\n<style scoped>\n    .dataframe tbody tr th:only-of-type {\n        vertical-align: middle;\n    }\n\n    .dataframe tbody tr th {\n        vertical-align: top;\n    }\n\n    .dataframe thead th {\n        text-align: right;\n    }\n</style>\n<table border=\"1\" class=\"dataframe\">\n  <thead>\n    <tr style=\"text-align: right;\">\n      <th></th>\n      <th>Area</th>\n      <th>Room</th>\n      <th>Parking</th>\n      <th>Warehouse</th>\n      <th>Elevator</th>\n      <th>Price</th>\n      <th>Price(USD)</th>\n    </tr>\n  </thead>\n  <tbody>\n    <tr>\n      <th>Area</th>\n      <td>1.000000</td>\n      <td>0.670121</td>\n      <td>0.200009</td>\n      <td>0.072364</td>\n      <td>0.047034</td>\n      <td>0.720935</td>\n      <td>0.720935</td>\n    </tr>\n    <tr>\n      <th>Room</th>\n      <td>0.670121</td>\n      <td>1.000000</td>\n      <td>0.278743</td>\n      <td>0.125894</td>\n      <td>0.181826</td>\n      <td>0.569738</td>\n      <td>0.569738</td>\n    </tr>\n    <tr>\n      <th>Parking</th>\n      <td>0.200009</td>\n      <td>0.278743</td>\n      <td>1.000000</td>\n      <td>0.429241</td>\n      <td>0.428801</td>\n      <td>0.193761</td>\n      <td>0.193761</td>\n    </tr>\n    <tr>\n      <th>Warehouse</th>\n      <td>0.072364</td>\n      <td>0.125894</td>\n      <td>0.429241</td>\n      <td>1.000000</td>\n      <td>0.205098</td>\n      <td>0.109370</td>\n      <td>0.109370</td>\n    </tr>\n    <tr>\n      <th>Elevator</th>\n      <td>0.047034</td>\n      <td>0.181826</td>\n      <td>0.428801</td>\n      <td>0.205098</td>\n      <td>1.000000</td>\n      <td>0.110310</td>\n      <td>0.110310</td>\n    </tr>\n    <tr>\n      <th>Price</th>\n      <td>0.720935</td>\n      <td>0.569738</td>\n      <td>0.193761</td>\n      <td>0.109370</td>\n      <td>0.110310</td>\n      <td>1.000000</td>\n      <td>1.000000</td>\n    </tr>\n    <tr>\n      <th>Price(USD)</th>\n      <td>0.720935</td>\n      <td>0.569738</td>\n      <td>0.193761</td>\n      <td>0.109370</td>\n      <td>0.110310</td>\n      <td>1.000000</td>\n      <td>1.000000</td>\n    </tr>\n  </tbody>\n</table>\n</div>"
     },
     "execution_count": 60,
     "metadata": {},
     "output_type": "execute_result"
    }
   ],
   "source": [
    "data.corr()\n"
   ],
   "metadata": {
    "collapsed": false,
    "pycharm": {
     "name": "#%%\n"
    }
   }
  },
  {
   "cell_type": "code",
   "execution_count": 61,
   "outputs": [
    {
     "data": {
      "text/plain": "<Figure size 640x480 with 1 Axes>",
      "image/png": "[encoded data removed]"
     },
     "metadata": {},
     "output_type": "display_data"
    }
   ],
   "source": [
    "plt.scatter(data['Area'], data['Price'], marker='.')\n",
    "plt.xlabel(\"Area\")\n",
    "plt.ylabel(\"Price\")\n",
    "plt.legend([\"Data\"])\n",
    "plt.show()"
   ],
   "metadata": {
    "collapsed": false,
    "pycharm": {
     "name": "#%%\n"
    }
   }
  },
  {
   "cell_type": "markdown",
   "source": [
    "## Show the address of the 5 most expensive houses"
   ],
   "metadata": {
    "collapsed": false,
    "pycharm": {
     "name": "#%% md\n"
    }
   }
  },
  {
   "cell_type": "code",
   "execution_count": 1,
   "outputs": [
    {
     "ename": "NameError",
     "evalue": "name 'data' is not defined",
     "output_type": "error",
     "traceback": [
      "\u001B[1;31m---------------------------------------------------------------------------\u001B[0m",
      "\u001B[1;31mNameError\u001B[0m                                 Traceback (most recent call last)",
      "Cell \u001B[1;32mIn[1], line 1\u001B[0m\n\u001B[1;32m----> 1\u001B[0m \u001B[43mdata\u001B[49m\u001B[38;5;241m.\u001B[39msort_values(\u001B[38;5;124m'\u001B[39m\u001B[38;5;124mPrice\u001B[39m\u001B[38;5;124m'\u001B[39m,ascending\u001B[38;5;241m=\u001B[39m\u001B[38;5;28;01mFalse\u001B[39;00m)[[\u001B[38;5;124m'\u001B[39m\u001B[38;5;124mAddress\u001B[39m\u001B[38;5;124m'\u001B[39m]]\u001B[38;5;241m.\u001B[39mhead(\u001B[38;5;241m20\u001B[39m)\n",
      "\u001B[1;31mNameError\u001B[0m: name 'data' is not defined"
     ]
    }
   ],
   "source": [
    "data.sort_values('Price',ascending=False)[['Address']].head(20)"
   ],
   "metadata": {
    "collapsed": false,
    "pycharm": {
     "name": "#%%\n"
    }
   }
  },
  {
   "cell_type": "code",
   "execution_count": null,
   "outputs": [],
   "source": [
    "X = np.array(data[[\"Area\"]])\n",
    "Y = np.array(data[[\"Price\"]])\n",
    "\n",
    "print(X.shape)\n",
    "print(Y.shape)"
   ],
   "metadata": {
    "collapsed": false,
    "pycharm": {
     "name": "#%%\n"
    }
   }
  },
  {
   "cell_type": "code",
   "execution_count": 63,
   "outputs": [
    {
     "name": "stdout",
     "output_type": "stream",
     "text": [
      "(2431, 1)\n",
      "(811, 1)\n",
      "(2431, 1)\n",
      "(811, 1)\n"
     ]
    }
   ],
   "source": [
    "X_train, X_test, Y_train, Y_test = train_test_split(X, Y)\n",
    "\n",
    "print(X_train.shape)\n",
    "print(X_test.shape)\n",
    "print(Y_train.shape)\n",
    "print(Y_test.shape)"
   ],
   "metadata": {
    "collapsed": false,
    "pycharm": {
     "name": "#%%\n"
    }
   }
  },
  {
   "cell_type": "code",
   "execution_count": 64,
   "outputs": [],
   "source": [
    "lls = LinearLeastSquare()\n",
    "lls.fit(X_train, Y_train)\n",
    "\n",
    "Y_pred = lls.predict(X_test)"
   ],
   "metadata": {
    "collapsed": false,
    "pycharm": {
     "name": "#%%\n"
    }
   }
  },
  {
   "cell_type": "code",
   "execution_count": 65,
   "outputs": [
    {
     "data": {
      "text/plain": "<Figure size 640x480 with 1 Axes>",
      "image/png": "[encoded data removed]"
     },
     "metadata": {},
     "output_type": "display_data"
    }
   ],
   "source": [
    "plt.scatter(X_train, Y_train, marker='.')\n",
    "plt.scatter(X_test, Y_test, marker='.')\n",
    "plt.plot(X_test, Y_pred, color='green', lw=2)\n",
    "\n",
    "plt.xlabel(\"Area\")\n",
    "plt.ylabel(\"Price\")\n",
    "plt.legend([\"Train data\", \"Test data\", \"AI linear regression\"], loc=\"upper left\")\n",
    "plt.show()"
   ],
   "metadata": {
    "collapsed": false,
    "pycharm": {
     "name": "#%%\n"
    }
   }
  },
  {
   "cell_type": "code",
   "execution_count": 66,
   "outputs": [
    {
     "data": {
      "text/plain": "3516679690.3333797"
     },
     "execution_count": 66,
     "metadata": {},
     "output_type": "execute_result"
    }
   ],
   "source": [
    "lls.evaluate(X_test, Y_test, 'mae')"
   ],
   "metadata": {
    "collapsed": false,
    "pycharm": {
     "name": "#%%\n"
    }
   }
  },
  {
   "cell_type": "code",
   "execution_count": 66,
   "outputs": [],
   "source": [],
   "metadata": {
    "collapsed": false,
    "pycharm": {
     "name": "#%%\n"
    }
   }
  }
 ],
 "metadata": {
  "kernelspec": {
   "name": "pycharm-935c16f4",
   "language": "python",
   "display_name": "PyCharm (PyLearn7_MachineLearning_Projects)"
  },
  "language_info": {
   "codemirror_mode": {
    "name": "ipython",
    "version": 2
   },
   "file_extension": ".py",
   "mimetype": "text/x-python",
   "name": "python",
   "nbconvert_exporter": "python",
   "pygments_lexer": "ipython2",
   "version": "2.7.6"
  }
 },
 "nbformat": 4,
 "nbformat_minor": 0
}