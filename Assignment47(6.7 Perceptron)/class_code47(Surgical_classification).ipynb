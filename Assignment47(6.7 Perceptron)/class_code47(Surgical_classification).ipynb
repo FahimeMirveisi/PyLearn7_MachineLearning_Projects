{
 "cells": [
  {
   "cell_type": "code",
   "execution_count": 1,
   "metadata": {
    "collapsed": true
   },
   "outputs": [],
   "source": [
    "import numpy as np\n",
    "import pandas as pd\n",
    "import matplotlib.pyplot as plt\n",
    "from sklearn.model_selection import train_test_split\n",
    "from perceptron import Perceptron"
   ]
  },
  {
   "cell_type": "code",
   "execution_count": 2,
   "outputs": [
    {
     "data": {
      "text/plain": "         bmi   Age  asa_status  baseline_cancer  baseline_charlson  \\\n0      19.31  59.2           1                1                  0   \n1      18.73  59.1           0                0                  0   \n2      21.85  59.0           0                0                  0   \n3      18.49  59.0           1                0                  1   \n4      19.70  59.0           1                0                  0   \n...      ...   ...         ...              ...                ...   \n14630  18.79  14.1           1                0                  1   \n14631  19.65  12.6           0                0                  0   \n14632  14.84  12.6           1                0                  0   \n14633  17.75   8.9           0                0                  1   \n14634  14.40   6.1           1                0                  1   \n\n       baseline_cvd  baseline_dementia  baseline_diabetes  baseline_digestive  \\\n0                 0                  0                  0                   0   \n1                 0                  0                  0                   0   \n2                 0                  0                  0                   0   \n3                 0                  0                  1                   1   \n4                 0                  0                  0                   0   \n...             ...                ...                ...                 ...   \n14630             0                  0                  0                   0   \n14631             0                  0                  0                   0   \n14632             0                  0                  0                   0   \n14633             0                  0                  0                   1   \n14634             0                  0                  0                   1   \n\n       baseline_osteoart  ...  complication_rsi  dow  gender   hour  month  \\\n0                      0  ...             -0.57    3       0   7.63      6   \n1                      0  ...              0.21    0       0  12.93      0   \n2                      0  ...              0.00    2       0   7.68      5   \n3                      0  ...             -0.65    2       1   7.58      4   \n4                      0  ...              0.00    0       0   7.88     11   \n...                  ...  ...               ...  ...     ...    ...    ...   \n14630                  0  ...             -0.54    1       0   7.78      0   \n14631                  0  ...             -1.42    4       0   8.40      6   \n14632                  0  ...              0.65    0       0  13.25      3   \n14633                  0  ...             -0.50    0       1   8.30      5   \n14634                  0  ...              0.78    2       0   7.65      4   \n\n       moonphase  mort30  mortality_rsi  race  complication  \n0              1       0          -0.43     1             0  \n1              1       0          -0.41     1             0  \n2              3       0           0.08     1             0  \n3              3       0          -0.32     1             0  \n4              0       0           0.00     1             0  \n...          ...     ...            ...   ...           ...  \n14630          1       0          -0.16     1             1  \n14631          1       0          -0.77     1             1  \n14632          3       0           0.99     1             1  \n14633          0       0           0.17     1             1  \n14634          1       0           1.06     0             1  \n\n[14635 rows x 25 columns]",
      "text/html": "<div>\n<style scoped>\n    .dataframe tbody tr th:only-of-type {\n        vertical-align: middle;\n    }\n\n    .dataframe tbody tr th {\n        vertical-align: top;\n    }\n\n    .dataframe thead th {\n        text-align: right;\n    }\n</style>\n<table border=\"1\" class=\"dataframe\">\n  <thead>\n    <tr style=\"text-align: right;\">\n      <th></th>\n      <th>bmi</th>\n      <th>Age</th>\n      <th>asa_status</th>\n      <th>baseline_cancer</th>\n      <th>baseline_charlson</th>\n      <th>baseline_cvd</th>\n      <th>baseline_dementia</th>\n      <th>baseline_diabetes</th>\n      <th>baseline_digestive</th>\n      <th>baseline_osteoart</th>\n      <th>...</th>\n      <th>complication_rsi</th>\n      <th>dow</th>\n      <th>gender</th>\n      <th>hour</th>\n      <th>month</th>\n      <th>moonphase</th>\n      <th>mort30</th>\n      <th>mortality_rsi</th>\n      <th>race</th>\n      <th>complication</th>\n    </tr>\n  </thead>\n  <tbody>\n    <tr>\n      <th>0</th>\n      <td>19.31</td>\n      <td>59.2</td>\n      <td>1</td>\n      <td>1</td>\n      <td>0</td>\n      <td>0</td>\n      <td>0</td>\n      <td>0</td>\n      <td>0</td>\n      <td>0</td>\n      <td>...</td>\n      <td>-0.57</td>\n      <td>3</td>\n      <td>0</td>\n      <td>7.63</td>\n      <td>6</td>\n      <td>1</td>\n      <td>0</td>\n      <td>-0.43</td>\n      <td>1</td>\n      <td>0</td>\n    </tr>\n    <tr>\n      <th>1</th>\n      <td>18.73</td>\n      <td>59.1</td>\n      <td>0</td>\n      <td>0</td>\n      <td>0</td>\n      <td>0</td>\n      <td>0</td>\n      <td>0</td>\n      <td>0</td>\n      <td>0</td>\n      <td>...</td>\n      <td>0.21</td>\n      <td>0</td>\n      <td>0</td>\n      <td>12.93</td>\n      <td>0</td>\n      <td>1</td>\n      <td>0</td>\n      <td>-0.41</td>\n      <td>1</td>\n      <td>0</td>\n    </tr>\n    <tr>\n      <th>2</th>\n      <td>21.85</td>\n      <td>59.0</td>\n      <td>0</td>\n      <td>0</td>\n      <td>0</td>\n      <td>0</td>\n      <td>0</td>\n      <td>0</td>\n      <td>0</td>\n      <td>0</td>\n      <td>...</td>\n      <td>0.00</td>\n      <td>2</td>\n      <td>0</td>\n      <td>7.68</td>\n      <td>5</td>\n      <td>3</td>\n      <td>0</td>\n      <td>0.08</td>\n      <td>1</td>\n      <td>0</td>\n    </tr>\n    <tr>\n      <th>3</th>\n      <td>18.49</td>\n      <td>59.0</td>\n      <td>1</td>\n      <td>0</td>\n      <td>1</td>\n      <td>0</td>\n      <td>0</td>\n      <td>1</td>\n      <td>1</td>\n      <td>0</td>\n      <td>...</td>\n      <td>-0.65</td>\n      <td>2</td>\n      <td>1</td>\n      <td>7.58</td>\n      <td>4</td>\n      <td>3</td>\n      <td>0</td>\n      <td>-0.32</td>\n      <td>1</td>\n      <td>0</td>\n    </tr>\n    <tr>\n      <th>4</th>\n      <td>19.70</td>\n      <td>59.0</td>\n      <td>1</td>\n      <td>0</td>\n      <td>0</td>\n      <td>0</td>\n      <td>0</td>\n      <td>0</td>\n      <td>0</td>\n      <td>0</td>\n      <td>...</td>\n      <td>0.00</td>\n      <td>0</td>\n      <td>0</td>\n      <td>7.88</td>\n      <td>11</td>\n      <td>0</td>\n      <td>0</td>\n      <td>0.00</td>\n      <td>1</td>\n      <td>0</td>\n    </tr>\n    <tr>\n      <th>...</th>\n      <td>...</td>\n      <td>...</td>\n      <td>...</td>\n      <td>...</td>\n      <td>...</td>\n      <td>...</td>\n      <td>...</td>\n      <td>...</td>\n      <td>...</td>\n      <td>...</td>\n      <td>...</td>\n      <td>...</td>\n      <td>...</td>\n      <td>...</td>\n      <td>...</td>\n      <td>...</td>\n      <td>...</td>\n      <td>...</td>\n      <td>...</td>\n      <td>...</td>\n      <td>...</td>\n    </tr>\n    <tr>\n      <th>14630</th>\n      <td>18.79</td>\n      <td>14.1</td>\n      <td>1</td>\n      <td>0</td>\n      <td>1</td>\n      <td>0</td>\n      <td>0</td>\n      <td>0</td>\n      <td>0</td>\n      <td>0</td>\n      <td>...</td>\n      <td>-0.54</td>\n      <td>1</td>\n      <td>0</td>\n      <td>7.78</td>\n      <td>0</td>\n      <td>1</td>\n      <td>0</td>\n      <td>-0.16</td>\n      <td>1</td>\n      <td>1</td>\n    </tr>\n    <tr>\n      <th>14631</th>\n      <td>19.65</td>\n      <td>12.6</td>\n      <td>0</td>\n      <td>0</td>\n      <td>0</td>\n      <td>0</td>\n      <td>0</td>\n      <td>0</td>\n      <td>0</td>\n      <td>0</td>\n      <td>...</td>\n      <td>-1.42</td>\n      <td>4</td>\n      <td>0</td>\n      <td>8.40</td>\n      <td>6</td>\n      <td>1</td>\n      <td>0</td>\n      <td>-0.77</td>\n      <td>1</td>\n      <td>1</td>\n    </tr>\n    <tr>\n      <th>14632</th>\n      <td>14.84</td>\n      <td>12.6</td>\n      <td>1</td>\n      <td>0</td>\n      <td>0</td>\n      <td>0</td>\n      <td>0</td>\n      <td>0</td>\n      <td>0</td>\n      <td>0</td>\n      <td>...</td>\n      <td>0.65</td>\n      <td>0</td>\n      <td>0</td>\n      <td>13.25</td>\n      <td>3</td>\n      <td>3</td>\n      <td>0</td>\n      <td>0.99</td>\n      <td>1</td>\n      <td>1</td>\n    </tr>\n    <tr>\n      <th>14633</th>\n      <td>17.75</td>\n      <td>8.9</td>\n      <td>0</td>\n      <td>0</td>\n      <td>1</td>\n      <td>0</td>\n      <td>0</td>\n      <td>0</td>\n      <td>1</td>\n      <td>0</td>\n      <td>...</td>\n      <td>-0.50</td>\n      <td>0</td>\n      <td>1</td>\n      <td>8.30</td>\n      <td>5</td>\n      <td>0</td>\n      <td>0</td>\n      <td>0.17</td>\n      <td>1</td>\n      <td>1</td>\n    </tr>\n    <tr>\n      <th>14634</th>\n      <td>14.40</td>\n      <td>6.1</td>\n      <td>1</td>\n      <td>0</td>\n      <td>1</td>\n      <td>0</td>\n      <td>0</td>\n      <td>0</td>\n      <td>1</td>\n      <td>0</td>\n      <td>...</td>\n      <td>0.78</td>\n      <td>2</td>\n      <td>0</td>\n      <td>7.65</td>\n      <td>4</td>\n      <td>1</td>\n      <td>0</td>\n      <td>1.06</td>\n      <td>0</td>\n      <td>1</td>\n    </tr>\n  </tbody>\n</table>\n<p>14635 rows × 25 columns</p>\n</div>"
     },
     "execution_count": 2,
     "metadata": {},
     "output_type": "execute_result"
    }
   ],
   "source": [
    "df = pd.read_csv(\"data/Surgical-deepnet.csv\")\n",
    "df"
   ],
   "metadata": {
    "collapsed": false,
    "pycharm": {
     "name": "#%%\n"
    }
   }
  },
  {
   "cell_type": "code",
   "execution_count": 3,
   "outputs": [
    {
     "data": {
      "text/plain": "bmi                    0\nAge                    0\nasa_status             0\nbaseline_cancer        0\nbaseline_charlson      0\nbaseline_cvd           0\nbaseline_dementia      0\nbaseline_diabetes      0\nbaseline_digestive     0\nbaseline_osteoart      0\nbaseline_psych         0\nbaseline_pulmonary     0\nahrq_ccs               0\nccsComplicationRate    0\nccsMort30Rate          0\ncomplication_rsi       0\ndow                    0\ngender                 0\nhour                   0\nmonth                  0\nmoonphase              0\nmort30                 0\nmortality_rsi          0\nrace                   0\ncomplication           0\ndtype: int64"
     },
     "execution_count": 3,
     "metadata": {},
     "output_type": "execute_result"
    }
   ],
   "source": [
    "df.isnull().sum()"
   ],
   "metadata": {
    "collapsed": false,
    "pycharm": {
     "name": "#%%\n"
    }
   }
  },
  {
   "cell_type": "code",
   "execution_count": 4,
   "outputs": [
    {
     "data": {
      "text/plain": "((11708, 24), (2927, 24), (11708,), (2927,))"
     },
     "execution_count": 4,
     "metadata": {},
     "output_type": "execute_result"
    }
   ],
   "source": [
    "X = df.drop(\"complication\", axis=1).copy().values\n",
    "Y = df[\"complication\"].copy().values\n",
    "\n",
    "# split the data into training and test set\n",
    "X_train, X_test, Y_train, Y_test = train_test_split(X, Y, test_size=0.2)\n",
    "X_train.shape, X_test.shape, Y_train.shape, Y_test.shape"
   ],
   "metadata": {
    "collapsed": false,
    "pycharm": {
     "name": "#%%\n"
    }
   }
  },
  {
   "cell_type": "code",
   "execution_count": 5,
   "outputs": [
    {
     "data": {
      "text/plain": "((11708, 1), (2927, 1))"
     },
     "execution_count": 5,
     "metadata": {},
     "output_type": "execute_result"
    }
   ],
   "source": [
    "# reshape Y_train and Y_test\n",
    "\n",
    "Y_train = Y_train.reshape(-1, 1)\n",
    "Y_test = Y_test.reshape(-1, 1)\n",
    "Y_train.shape, Y_test.shape"
   ],
   "metadata": {
    "collapsed": false,
    "pycharm": {
     "name": "#%%\n"
    }
   }
  },
  {
   "cell_type": "markdown",
   "source": [
    "### Fit an object oriented perceptron algorithm on the surgical dataset for classification"
   ],
   "metadata": {
    "collapsed": false,
    "pycharm": {
     "name": "#%% md\n"
    }
   }
  },
  {
   "cell_type": "code",
   "execution_count": 6,
   "outputs": [
    {
     "name": "stderr",
     "output_type": "stream",
     "text": [
      "  0%|          | 0/256 [08:38<?, ?it/s]\n"
     ]
    },
    {
     "ename": "KeyboardInterrupt",
     "evalue": "",
     "output_type": "error",
     "traceback": [
      "\u001B[1;31m---------------------------------------------------------------------------\u001B[0m",
      "\u001B[1;31mKeyboardInterrupt\u001B[0m                         Traceback (most recent call last)",
      "Cell \u001B[1;32mIn[6], line 2\u001B[0m\n\u001B[0;32m      1\u001B[0m model \u001B[38;5;241m=\u001B[39m Perceptron(learning_rate\u001B[38;5;241m=\u001B[39m\u001B[38;5;241m0.001\u001B[39m, input_length\u001B[38;5;241m=\u001B[39mX_train\u001B[38;5;241m.\u001B[39mshape[\u001B[38;5;241m1\u001B[39m], function\u001B[38;5;241m=\u001B[39m\u001B[38;5;124m'\u001B[39m\u001B[38;5;124msigmoid\u001B[39m\u001B[38;5;124m'\u001B[39m)\n\u001B[1;32m----> 2\u001B[0m loss_train, acc_train, loss_test, acc_test \u001B[38;5;241m=\u001B[39m \u001B[43mmodel\u001B[49m\u001B[38;5;241;43m.\u001B[39;49m\u001B[43mfit\u001B[49m\u001B[43m(\u001B[49m\u001B[43mX_train\u001B[49m\u001B[43m,\u001B[49m\u001B[43m \u001B[49m\u001B[43mY_train\u001B[49m\u001B[43m,\u001B[49m\u001B[43m \u001B[49m\u001B[43mX_test\u001B[49m\u001B[43m,\u001B[49m\u001B[43m \u001B[49m\u001B[43mY_test\u001B[49m\u001B[43m,\u001B[49m\u001B[43m \u001B[49m\u001B[43mepochs\u001B[49m\u001B[38;5;241;43m=\u001B[39;49m\u001B[38;5;241;43m256\u001B[39;49m\u001B[43m)\u001B[49m\n",
      "File \u001B[1;32mF:\\PyLearn7_MachineLearning_Projects\\Assignment47(6.7 Perceptron)\\perceptron.py:43\u001B[0m, in \u001B[0;36mPerceptron.fit\u001B[1;34m(self, X_train, Y_train, X_test, Y_test, epochs)\u001B[0m\n\u001B[0;32m     40\u001B[0m     \u001B[38;5;28mself\u001B[39m\u001B[38;5;241m.\u001B[39mbias \u001B[38;5;241m+\u001B[39m\u001B[38;5;241m=\u001B[39m error \u001B[38;5;241m*\u001B[39m \u001B[38;5;28mself\u001B[39m\u001B[38;5;241m.\u001B[39mlearning_rate\n\u001B[0;32m     42\u001B[0m     \u001B[38;5;66;03m# loss\u001B[39;00m\n\u001B[1;32m---> 43\u001B[0m     train_loss, train_acc \u001B[38;5;241m=\u001B[39m \u001B[38;5;28;43mself\u001B[39;49m\u001B[38;5;241;43m.\u001B[39;49m\u001B[43mevaluate\u001B[49m\u001B[43m(\u001B[49m\u001B[43mX_train\u001B[49m\u001B[43m,\u001B[49m\u001B[43m \u001B[49m\u001B[43mY_train\u001B[49m\u001B[43m)\u001B[49m\n\u001B[0;32m     44\u001B[0m     test_loss, test_acc \u001B[38;5;241m=\u001B[39m \u001B[38;5;28mself\u001B[39m\u001B[38;5;241m.\u001B[39mevaluate(X_test, Y_test)\n\u001B[0;32m     45\u001B[0m each_epoch_losses_train\u001B[38;5;241m.\u001B[39mappend(train_loss)\n",
      "File \u001B[1;32mF:\\PyLearn7_MachineLearning_Projects\\Assignment47(6.7 Perceptron)\\perceptron.py:80\u001B[0m, in \u001B[0;36mPerceptron.evaluate\u001B[1;34m(self, X_test, Y_test)\u001B[0m\n\u001B[0;32m     79\u001B[0m \u001B[38;5;28;01mdef\u001B[39;00m \u001B[38;5;21mevaluate\u001B[39m(\u001B[38;5;28mself\u001B[39m, X_test, Y_test):\n\u001B[1;32m---> 80\u001B[0m     loss \u001B[38;5;241m=\u001B[39m \u001B[38;5;28;43mself\u001B[39;49m\u001B[38;5;241;43m.\u001B[39;49m\u001B[43mcalculate_loss\u001B[49m\u001B[43m(\u001B[49m\u001B[43mX_test\u001B[49m\u001B[43m,\u001B[49m\u001B[43m \u001B[49m\u001B[43mY_test\u001B[49m\u001B[43m,\u001B[49m\u001B[43m \u001B[49m\u001B[38;5;124;43m'\u001B[39;49m\u001B[38;5;124;43mmse\u001B[39;49m\u001B[38;5;124;43m'\u001B[39;49m\u001B[43m)\u001B[49m\n\u001B[0;32m     81\u001B[0m     accuracy \u001B[38;5;241m=\u001B[39m \u001B[38;5;28mself\u001B[39m\u001B[38;5;241m.\u001B[39mcalculate_accuracy(X_test, Y_test)\n\u001B[0;32m     82\u001B[0m     \u001B[38;5;28;01mreturn\u001B[39;00m loss, accuracy\n",
      "File \u001B[1;32mF:\\PyLearn7_MachineLearning_Projects\\Assignment47(6.7 Perceptron)\\perceptron.py:56\u001B[0m, in \u001B[0;36mPerceptron.calculate_loss\u001B[1;34m(self, X_test, Y_test, metric)\u001B[0m\n\u001B[0;32m     55\u001B[0m \u001B[38;5;28;01mdef\u001B[39;00m \u001B[38;5;21mcalculate_loss\u001B[39m(\u001B[38;5;28mself\u001B[39m, X_test, Y_test, metric):\n\u001B[1;32m---> 56\u001B[0m     Y_pred \u001B[38;5;241m=\u001B[39m \u001B[38;5;28;43mself\u001B[39;49m\u001B[38;5;241;43m.\u001B[39;49m\u001B[43mpredict\u001B[49m\u001B[43m(\u001B[49m\u001B[43mX_test\u001B[49m\u001B[43m)\u001B[49m\n\u001B[0;32m     57\u001B[0m     \u001B[38;5;28;01mif\u001B[39;00m metric \u001B[38;5;241m==\u001B[39m \u001B[38;5;124m'\u001B[39m\u001B[38;5;124mmse\u001B[39m\u001B[38;5;124m'\u001B[39m:\n\u001B[0;32m     58\u001B[0m         \u001B[38;5;28;01mreturn\u001B[39;00m np\u001B[38;5;241m.\u001B[39mmean(np\u001B[38;5;241m.\u001B[39msquare(Y_test \u001B[38;5;241m-\u001B[39m Y_pred))\n",
      "File \u001B[1;32mF:\\PyLearn7_MachineLearning_Projects\\Assignment47(6.7 Perceptron)\\perceptron.py:76\u001B[0m, in \u001B[0;36mPerceptron.predict\u001B[1;34m(self, X_test)\u001B[0m\n\u001B[0;32m     74\u001B[0m     y_pred \u001B[38;5;241m=\u001B[39m x_test \u001B[38;5;241m@\u001B[39m \u001B[38;5;28mself\u001B[39m\u001B[38;5;241m.\u001B[39mweights \u001B[38;5;241m+\u001B[39m \u001B[38;5;28mself\u001B[39m\u001B[38;5;241m.\u001B[39mbias\n\u001B[0;32m     75\u001B[0m     y_pred \u001B[38;5;241m=\u001B[39m \u001B[38;5;28mself\u001B[39m\u001B[38;5;241m.\u001B[39mactivation(y_pred)\n\u001B[1;32m---> 76\u001B[0m     \u001B[43mY_pred\u001B[49m\u001B[38;5;241;43m.\u001B[39;49m\u001B[43mappend\u001B[49m\u001B[43m(\u001B[49m\u001B[43my_pred\u001B[49m\u001B[43m)\u001B[49m\n\u001B[0;32m     77\u001B[0m \u001B[38;5;28;01mreturn\u001B[39;00m np\u001B[38;5;241m.\u001B[39marray(Y_pred)\n",
      "\u001B[1;31mKeyboardInterrupt\u001B[0m: "
     ]
    }
   ],
   "source": [
    "model = Perceptron(learning_rate=0.001, input_length=X_train.shape[1], function='sigmoid')\n",
    "loss_train, acc_train, loss_test, acc_test = model.fit(X_train, Y_train, X_test, Y_test, epochs=256)"
   ],
   "metadata": {
    "collapsed": false,
    "pycharm": {
     "name": "#%%\n"
    }
   }
  },
  {
   "cell_type": "code",
   "execution_count": null,
   "outputs": [],
   "source": [
    "model.evaluate(X_test, Y_test)"
   ],
   "metadata": {
    "collapsed": false,
    "pycharm": {
     "name": "#%%\n"
    }
   }
  },
  {
   "cell_type": "code",
   "execution_count": null,
   "outputs": [],
   "source": [
    "Y_pred = model.predict(X_test)\n",
    "Y_pred = np.where(Y_pred > 0.5, 1, 0)"
   ],
   "metadata": {
    "collapsed": false,
    "pycharm": {
     "name": "#%%\n"
    }
   }
  },
  {
   "cell_type": "code",
   "execution_count": null,
   "outputs": [],
   "source": [
    "from sklearn.metrics import confusion_matrix\n",
    "confusion_matrix(Y_test, Y_pred)"
   ],
   "metadata": {
    "collapsed": false,
    "pycharm": {
     "name": "#%%\n"
    }
   }
  },
  {
   "cell_type": "markdown",
   "source": [
    "### Plot accuracy in each epoch for train and test data"
   ],
   "metadata": {
    "collapsed": false,
    "pycharm": {
     "name": "#%% md\n"
    }
   }
  },
  {
   "cell_type": "code",
   "execution_count": null,
   "outputs": [],
   "source": [
    "plt.plot(loss_train, '-', color='blue')\n",
    "plt.plot(loss_test, '-', color='green')\n",
    "plt.xlabel('epoch')\n",
    "plt.ylabel('loss')\n",
    "plt.legend(['Train', 'Test'])\n",
    "plt.title('Model loss (Activation function = sigmoid)')\n",
    "\n",
    "plt.show()"
   ],
   "metadata": {
    "collapsed": false,
    "pycharm": {
     "name": "#%%\n"
    }
   }
  },
  {
   "cell_type": "markdown",
   "source": [
    "### Plot loss in each epoch for train and test data"
   ],
   "metadata": {
    "collapsed": false
   }
  },
  {
   "cell_type": "code",
   "execution_count": null,
   "outputs": [],
   "source": [
    "plt.plot(acc_train, '-', color='blue')\n",
    "plt.plot(acc_test, '-', color='green')\n",
    "plt.xlabel('epoch')\n",
    "plt.ylabel('accuracy')\n",
    "plt.legend(['Train', 'Test'])\n",
    "plt.title('Model accuracy (Activation function = sigmoid)')\n",
    "\n",
    "plt.show()"
   ],
   "metadata": {
    "collapsed": false,
    "pycharm": {
     "name": "#%%\n"
    }
   }
  }
 ],
 "metadata": {
  "kernelspec": {
   "name": "pycharm-935c16f4",
   "language": "python",
   "display_name": "PyCharm (PyLearn7_MachineLearning_Projects)"
  },
  "language_info": {
   "codemirror_mode": {
    "name": "ipython",
    "version": 2
   },
   "file_extension": ".py",
   "mimetype": "text/x-python",
   "name": "python",
   "nbconvert_exporter": "python",
   "pygments_lexer": "ipython2",
   "version": "2.7.6"
  }
 },
 "nbformat": 4,
 "nbformat_minor": 0
}