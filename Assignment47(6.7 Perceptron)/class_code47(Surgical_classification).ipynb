{
 "cells": [
  {
   "cell_type": "code",
   "execution_count": 1,
   "metadata": {
    "collapsed": true
   },
   "outputs": [],
   "source": [
    "import numpy as np\n",
    "import pandas as pd\n",
    "import matplotlib.pyplot as plt\n",
    "from sklearn.model_selection import train_test_split\n",
    "from perceptron import Perceptron"
   ]
  },
  {
   "cell_type": "code",
   "execution_count": 2,
   "outputs": [
    {
     "data": {
      "text/plain": "         bmi   Age  asa_status  baseline_cancer  baseline_charlson  \\\n0      19.31  59.2           1                1                  0   \n1      18.73  59.1           0                0                  0   \n2      21.85  59.0           0                0                  0   \n3      18.49  59.0           1                0                  1   \n4      19.70  59.0           1                0                  0   \n...      ...   ...         ...              ...                ...   \n14630  18.79  14.1           1                0                  1   \n14631  19.65  12.6           0                0                  0   \n14632  14.84  12.6           1                0                  0   \n14633  17.75   8.9           0                0                  1   \n14634  14.40   6.1           1                0                  1   \n\n       baseline_cvd  baseline_dementia  baseline_diabetes  baseline_digestive  \\\n0                 0                  0                  0                   0   \n1                 0                  0                  0                   0   \n2                 0                  0                  0                   0   \n3                 0                  0                  1                   1   \n4                 0                  0                  0                   0   \n...             ...                ...                ...                 ...   \n14630             0                  0                  0                   0   \n14631             0                  0                  0                   0   \n14632             0                  0                  0                   0   \n14633             0                  0                  0                   1   \n14634             0                  0                  0                   1   \n\n       baseline_osteoart  ...  complication_rsi  dow  gender   hour  month  \\\n0                      0  ...             -0.57    3       0   7.63      6   \n1                      0  ...              0.21    0       0  12.93      0   \n2                      0  ...              0.00    2       0   7.68      5   \n3                      0  ...             -0.65    2       1   7.58      4   \n4                      0  ...              0.00    0       0   7.88     11   \n...                  ...  ...               ...  ...     ...    ...    ...   \n14630                  0  ...             -0.54    1       0   7.78      0   \n14631                  0  ...             -1.42    4       0   8.40      6   \n14632                  0  ...              0.65    0       0  13.25      3   \n14633                  0  ...             -0.50    0       1   8.30      5   \n14634                  0  ...              0.78    2       0   7.65      4   \n\n       moonphase  mort30  mortality_rsi  race  complication  \n0              1       0          -0.43     1             0  \n1              1       0          -0.41     1             0  \n2              3       0           0.08     1             0  \n3              3       0          -0.32     1             0  \n4              0       0           0.00     1             0  \n...          ...     ...            ...   ...           ...  \n14630          1       0          -0.16     1             1  \n14631          1       0          -0.77     1             1  \n14632          3       0           0.99     1             1  \n14633          0       0           0.17     1             1  \n14634          1       0           1.06     0             1  \n\n[14635 rows x 25 columns]",
      "text/html": "<div>\n<style scoped>\n    .dataframe tbody tr th:only-of-type {\n        vertical-align: middle;\n    }\n\n    .dataframe tbody tr th {\n        vertical-align: top;\n    }\n\n    .dataframe thead th {\n        text-align: right;\n    }\n</style>\n<table border=\"1\" class=\"dataframe\">\n  <thead>\n    <tr style=\"text-align: right;\">\n      <th></th>\n      <th>bmi</th>\n      <th>Age</th>\n      <th>asa_status</th>\n      <th>baseline_cancer</th>\n      <th>baseline_charlson</th>\n      <th>baseline_cvd</th>\n      <th>baseline_dementia</th>\n      <th>baseline_diabetes</th>\n      <th>baseline_digestive</th>\n      <th>baseline_osteoart</th>\n      <th>...</th>\n      <th>complication_rsi</th>\n      <th>dow</th>\n      <th>gender</th>\n      <th>hour</th>\n      <th>month</th>\n      <th>moonphase</th>\n      <th>mort30</th>\n      <th>mortality_rsi</th>\n      <th>race</th>\n      <th>complication</th>\n    </tr>\n  </thead>\n  <tbody>\n    <tr>\n      <th>0</th>\n      <td>19.31</td>\n      <td>59.2</td>\n      <td>1</td>\n      <td>1</td>\n      <td>0</td>\n      <td>0</td>\n      <td>0</td>\n      <td>0</td>\n      <td>0</td>\n      <td>0</td>\n      <td>...</td>\n      <td>-0.57</td>\n      <td>3</td>\n      <td>0</td>\n      <td>7.63</td>\n      <td>6</td>\n      <td>1</td>\n      <td>0</td>\n      <td>-0.43</td>\n      <td>1</td>\n      <td>0</td>\n    </tr>\n    <tr>\n      <th>1</th>\n      <td>18.73</td>\n      <td>59.1</td>\n      <td>0</td>\n      <td>0</td>\n      <td>0</td>\n      <td>0</td>\n      <td>0</td>\n      <td>0</td>\n      <td>0</td>\n      <td>0</td>\n      <td>...</td>\n      <td>0.21</td>\n      <td>0</td>\n      <td>0</td>\n      <td>12.93</td>\n      <td>0</td>\n      <td>1</td>\n      <td>0</td>\n      <td>-0.41</td>\n      <td>1</td>\n      <td>0</td>\n    </tr>\n    <tr>\n      <th>2</th>\n      <td>21.85</td>\n      <td>59.0</td>\n      <td>0</td>\n      <td>0</td>\n      <td>0</td>\n      <td>0</td>\n      <td>0</td>\n      <td>0</td>\n      <td>0</td>\n      <td>0</td>\n      <td>...</td>\n      <td>0.00</td>\n      <td>2</td>\n      <td>0</td>\n      <td>7.68</td>\n      <td>5</td>\n      <td>3</td>\n      <td>0</td>\n      <td>0.08</td>\n      <td>1</td>\n      <td>0</td>\n    </tr>\n    <tr>\n      <th>3</th>\n      <td>18.49</td>\n      <td>59.0</td>\n      <td>1</td>\n      <td>0</td>\n      <td>1</td>\n      <td>0</td>\n      <td>0</td>\n      <td>1</td>\n      <td>1</td>\n      <td>0</td>\n      <td>...</td>\n      <td>-0.65</td>\n      <td>2</td>\n      <td>1</td>\n      <td>7.58</td>\n      <td>4</td>\n      <td>3</td>\n      <td>0</td>\n      <td>-0.32</td>\n      <td>1</td>\n      <td>0</td>\n    </tr>\n    <tr>\n      <th>4</th>\n      <td>19.70</td>\n      <td>59.0</td>\n      <td>1</td>\n      <td>0</td>\n      <td>0</td>\n      <td>0</td>\n      <td>0</td>\n      <td>0</td>\n      <td>0</td>\n      <td>0</td>\n      <td>...</td>\n      <td>0.00</td>\n      <td>0</td>\n      <td>0</td>\n      <td>7.88</td>\n      <td>11</td>\n      <td>0</td>\n      <td>0</td>\n      <td>0.00</td>\n      <td>1</td>\n      <td>0</td>\n    </tr>\n    <tr>\n      <th>...</th>\n      <td>...</td>\n      <td>...</td>\n      <td>...</td>\n      <td>...</td>\n      <td>...</td>\n      <td>...</td>\n      <td>...</td>\n      <td>...</td>\n      <td>...</td>\n      <td>...</td>\n      <td>...</td>\n      <td>...</td>\n      <td>...</td>\n      <td>...</td>\n      <td>...</td>\n      <td>...</td>\n      <td>...</td>\n      <td>...</td>\n      <td>...</td>\n      <td>...</td>\n      <td>...</td>\n    </tr>\n    <tr>\n      <th>14630</th>\n      <td>18.79</td>\n      <td>14.1</td>\n      <td>1</td>\n      <td>0</td>\n      <td>1</td>\n      <td>0</td>\n      <td>0</td>\n      <td>0</td>\n      <td>0</td>\n      <td>0</td>\n      <td>...</td>\n      <td>-0.54</td>\n      <td>1</td>\n      <td>0</td>\n      <td>7.78</td>\n      <td>0</td>\n      <td>1</td>\n      <td>0</td>\n      <td>-0.16</td>\n      <td>1</td>\n      <td>1</td>\n    </tr>\n    <tr>\n      <th>14631</th>\n      <td>19.65</td>\n      <td>12.6</td>\n      <td>0</td>\n      <td>0</td>\n      <td>0</td>\n      <td>0</td>\n      <td>0</td>\n      <td>0</td>\n      <td>0</td>\n      <td>0</td>\n      <td>...</td>\n      <td>-1.42</td>\n      <td>4</td>\n      <td>0</td>\n      <td>8.40</td>\n      <td>6</td>\n      <td>1</td>\n      <td>0</td>\n      <td>-0.77</td>\n      <td>1</td>\n      <td>1</td>\n    </tr>\n    <tr>\n      <th>14632</th>\n      <td>14.84</td>\n      <td>12.6</td>\n      <td>1</td>\n      <td>0</td>\n      <td>0</td>\n      <td>0</td>\n      <td>0</td>\n      <td>0</td>\n      <td>0</td>\n      <td>0</td>\n      <td>...</td>\n      <td>0.65</td>\n      <td>0</td>\n      <td>0</td>\n      <td>13.25</td>\n      <td>3</td>\n      <td>3</td>\n      <td>0</td>\n      <td>0.99</td>\n      <td>1</td>\n      <td>1</td>\n    </tr>\n    <tr>\n      <th>14633</th>\n      <td>17.75</td>\n      <td>8.9</td>\n      <td>0</td>\n      <td>0</td>\n      <td>1</td>\n      <td>0</td>\n      <td>0</td>\n      <td>0</td>\n      <td>1</td>\n      <td>0</td>\n      <td>...</td>\n      <td>-0.50</td>\n      <td>0</td>\n      <td>1</td>\n      <td>8.30</td>\n      <td>5</td>\n      <td>0</td>\n      <td>0</td>\n      <td>0.17</td>\n      <td>1</td>\n      <td>1</td>\n    </tr>\n    <tr>\n      <th>14634</th>\n      <td>14.40</td>\n      <td>6.1</td>\n      <td>1</td>\n      <td>0</td>\n      <td>1</td>\n      <td>0</td>\n      <td>0</td>\n      <td>0</td>\n      <td>1</td>\n      <td>0</td>\n      <td>...</td>\n      <td>0.78</td>\n      <td>2</td>\n      <td>0</td>\n      <td>7.65</td>\n      <td>4</td>\n      <td>1</td>\n      <td>0</td>\n      <td>1.06</td>\n      <td>0</td>\n      <td>1</td>\n    </tr>\n  </tbody>\n</table>\n<p>14635 rows × 25 columns</p>\n</div>"
     },
     "execution_count": 2,
     "metadata": {},
     "output_type": "execute_result"
    }
   ],
   "source": [
    "df = pd.read_csv(\"data/Surgical-deepnet.csv\")\n",
    "df"
   ],
   "metadata": {
    "collapsed": false,
    "pycharm": {
     "name": "#%%\n"
    }
   }
  },
  {
   "cell_type": "code",
   "execution_count": 3,
   "outputs": [
    {
     "data": {
      "text/plain": "bmi                    0\nAge                    0\nasa_status             0\nbaseline_cancer        0\nbaseline_charlson      0\nbaseline_cvd           0\nbaseline_dementia      0\nbaseline_diabetes      0\nbaseline_digestive     0\nbaseline_osteoart      0\nbaseline_psych         0\nbaseline_pulmonary     0\nahrq_ccs               0\nccsComplicationRate    0\nccsMort30Rate          0\ncomplication_rsi       0\ndow                    0\ngender                 0\nhour                   0\nmonth                  0\nmoonphase              0\nmort30                 0\nmortality_rsi          0\nrace                   0\ncomplication           0\ndtype: int64"
     },
     "execution_count": 3,
     "metadata": {},
     "output_type": "execute_result"
    }
   ],
   "source": [
    "df.isnull().sum()"
   ],
   "metadata": {
    "collapsed": false,
    "pycharm": {
     "name": "#%%\n"
    }
   }
  },
  {
   "cell_type": "code",
   "execution_count": 4,
   "outputs": [
    {
     "data": {
      "text/plain": "((11708, 24), (2927, 24), (11708,), (2927,))"
     },
     "execution_count": 4,
     "metadata": {},
     "output_type": "execute_result"
    }
   ],
   "source": [
    "X = df.drop(\"complication\", axis=1).copy().values\n",
    "Y = df[\"complication\"].copy().values\n",
    "\n",
    "# split the data into training and test set\n",
    "X_train, X_test, Y_train, Y_test = train_test_split(X, Y, test_size=0.2)\n",
    "X_train.shape, X_test.shape, Y_train.shape, Y_test.shape"
   ],
   "metadata": {
    "collapsed": false,
    "pycharm": {
     "name": "#%%\n"
    }
   }
  },
  {
   "cell_type": "code",
   "execution_count": 5,
   "outputs": [
    {
     "data": {
      "text/plain": "((11708, 1), (2927, 1))"
     },
     "execution_count": 5,
     "metadata": {},
     "output_type": "execute_result"
    }
   ],
   "source": [
    "# reshape Y_train and Y_test\n",
    "\n",
    "Y_train = Y_train.reshape(-1, 1)\n",
    "Y_test = Y_test.reshape(-1, 1)\n",
    "Y_train.shape, Y_test.shape"
   ],
   "metadata": {
    "collapsed": false,
    "pycharm": {
     "name": "#%%\n"
    }
   }
  },
  {
   "cell_type": "markdown",
   "source": [
    "### Fit an object oriented perceptron algorithm on the surgical dataset for classification"
   ],
   "metadata": {
    "collapsed": false,
    "pycharm": {
     "name": "#%% md\n"
    }
   }
  },
  {
   "cell_type": "code",
   "execution_count": 6,
   "outputs": [
    {
     "name": "stderr",
     "output_type": "stream",
     "text": [
      "  0%|          | 0/256 [00:00<?, ?it/s]F:\\PyLearn7_MachineLearning_Projects\\Assignment47(6.7 Perceptron)\\perceptron.py:39: RuntimeWarning: overflow encountered in multiply\n",
      "  self.weights += error * x * self.learning_rate\n",
      "F:\\PyLearn7_MachineLearning_Projects\\Assignment47(6.7 Perceptron)\\perceptron.py:39: RuntimeWarning: invalid value encountered in multiply\n",
      "  self.weights += error * x * self.learning_rate\n",
      "F:\\PyLearn7_MachineLearning_Projects\\Assignment47(6.7 Perceptron)\\perceptron.py:39: RuntimeWarning: invalid value encountered in add\n",
      "  self.weights += error * x * self.learning_rate\n",
      "F:\\PyLearn7_MachineLearning_Projects\\Assignment47(6.7 Perceptron)\\perceptron.py:32: RuntimeWarning: invalid value encountered in matmul\n",
      "  y_pred = x @ self.weights + self.bias\n",
      "100%|██████████| 256/256 [01:10<00:00,  3.64it/s]\n"
     ]
    }
   ],
   "source": [
    "model = Perceptron(learning_rate=0.001, input_length=X_train.shape[1], function='linear')\n",
    "loss_train, acc_train, loss_test, acc_test = model.fit(X_train, Y_train, X_test, Y_test, epochs=256)"
   ],
   "metadata": {
    "collapsed": false,
    "pycharm": {
     "name": "#%%\n"
    }
   }
  },
  {
   "cell_type": "code",
   "execution_count": 7,
   "outputs": [
    {
     "data": {
      "text/plain": "(nan, 0.747523061154766)"
     },
     "execution_count": 7,
     "metadata": {},
     "output_type": "execute_result"
    }
   ],
   "source": [
    "model.evaluate(X_test, Y_test)"
   ],
   "metadata": {
    "collapsed": false,
    "pycharm": {
     "name": "#%%\n"
    }
   }
  },
  {
   "cell_type": "code",
   "execution_count": 8,
   "outputs": [],
   "source": [
    "Y_pred = model.predict(X_test)\n",
    "Y_pred = np.where(Y_pred > 0.5, 1, 0)"
   ],
   "metadata": {
    "collapsed": false,
    "pycharm": {
     "name": "#%%\n"
    }
   }
  },
  {
   "cell_type": "code",
   "execution_count": 9,
   "outputs": [
    {
     "data": {
      "text/plain": "array([[2188,    0],\n       [ 739,    0]], dtype=int64)"
     },
     "execution_count": 9,
     "metadata": {},
     "output_type": "execute_result"
    }
   ],
   "source": [
    "from sklearn.metrics import confusion_matrix\n",
    "confusion_matrix(Y_test, Y_pred)"
   ],
   "metadata": {
    "collapsed": false,
    "pycharm": {
     "name": "#%%\n"
    }
   }
  },
  {
   "cell_type": "markdown",
   "source": [
    "### Plot accuracy in each epoch for train and test data"
   ],
   "metadata": {
    "collapsed": false,
    "pycharm": {
     "name": "#%% md\n"
    }
   }
  },
  {
   "cell_type": "code",
   "execution_count": 10,
   "outputs": [
    {
     "data": {
      "text/plain": "<Figure size 640x480 with 1 Axes>",
      "image/png": "[encoded data removed]"
     },
     "metadata": {},
     "output_type": "display_data"
    }
   ],
   "source": [
    "plt.plot(loss_train, '-', color='blue')\n",
    "plt.plot(loss_test, '-', color='green')\n",
    "plt.xlabel('epoch')\n",
    "plt.ylabel('loss')\n",
    "plt.legend(['Train', 'Test'])\n",
    "plt.title('Model loss (Activation function = linear)')\n",
    "\n",
    "plt.show()"
   ],
   "metadata": {
    "collapsed": false,
    "pycharm": {
     "name": "#%%\n"
    }
   }
  },
  {
   "cell_type": "markdown",
   "source": [
    "### Plot loss in each epoch for train and test data"
   ],
   "metadata": {
    "collapsed": false
   }
  },
  {
   "cell_type": "code",
   "execution_count": 11,
   "outputs": [
    {
     "data": {
      "text/plain": "<Figure size 640x480 with 1 Axes>",
      "image/png": "[encoded data removed]"
     },
     "metadata": {},
     "output_type": "display_data"
    }
   ],
   "source": [
    "plt.plot(acc_train, '-', color='blue')\n",
    "plt.plot(acc_test, '-', color='green')\n",
    "plt.xlabel('epoch')\n",
    "plt.ylabel('accuracy')\n",
    "plt.legend(['Train', 'Test'])\n",
    "plt.title('Model accuracy (Activation function = linear)')\n",
    "\n",
    "plt.show()"
   ],
   "metadata": {
    "collapsed": false,
    "pycharm": {
     "name": "#%%\n"
    }
   }
  }
 ],
 "metadata": {
  "kernelspec": {
   "name": "pycharm-935c16f4",
   "language": "python",
   "display_name": "PyCharm (PyLearn7_MachineLearning_Projects)"
  },
  "language_info": {
   "codemirror_mode": {
    "name": "ipython",
    "version": 2
   },
   "file_extension": ".py",
   "mimetype": "text/x-python",
   "name": "python",
   "nbconvert_exporter": "python",
   "pygments_lexer": "ipython2",
   "version": "2.7.6"
  }
 },
 "nbformat": 4,
 "nbformat_minor": 0
}