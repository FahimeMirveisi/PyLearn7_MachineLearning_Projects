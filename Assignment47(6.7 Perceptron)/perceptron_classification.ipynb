{
 "cells": [
  {
   "cell_type": "code",
   "execution_count": 1,
   "metadata": {
    "collapsed": true
   },
   "outputs": [],
   "source": [
    "import numpy as np\n",
    "import pandas as pd\n",
    "from sklearn.model_selection import train_test_split\n",
    "from tqdm import tqdm\n",
    "# from tqdm import tnrange, tqdm_notebook"
   ]
  },
  {
   "cell_type": "code",
   "execution_count": 3,
   "outputs": [
    {
     "data": {
      "text/plain": "         bmi   Age  asa_status  baseline_cancer  baseline_charlson  \\\n0      19.31  59.2           1                1                  0   \n1      18.73  59.1           0                0                  0   \n2      21.85  59.0           0                0                  0   \n3      18.49  59.0           1                0                  1   \n4      19.70  59.0           1                0                  0   \n...      ...   ...         ...              ...                ...   \n14630  18.79  14.1           1                0                  1   \n14631  19.65  12.6           0                0                  0   \n14632  14.84  12.6           1                0                  0   \n14633  17.75   8.9           0                0                  1   \n14634  14.40   6.1           1                0                  1   \n\n       baseline_cvd  baseline_dementia  baseline_diabetes  baseline_digestive  \\\n0                 0                  0                  0                   0   \n1                 0                  0                  0                   0   \n2                 0                  0                  0                   0   \n3                 0                  0                  1                   1   \n4                 0                  0                  0                   0   \n...             ...                ...                ...                 ...   \n14630             0                  0                  0                   0   \n14631             0                  0                  0                   0   \n14632             0                  0                  0                   0   \n14633             0                  0                  0                   1   \n14634             0                  0                  0                   1   \n\n       baseline_osteoart  ...  complication_rsi  dow  gender   hour  month  \\\n0                      0  ...             -0.57    3       0   7.63      6   \n1                      0  ...              0.21    0       0  12.93      0   \n2                      0  ...              0.00    2       0   7.68      5   \n3                      0  ...             -0.65    2       1   7.58      4   \n4                      0  ...              0.00    0       0   7.88     11   \n...                  ...  ...               ...  ...     ...    ...    ...   \n14630                  0  ...             -0.54    1       0   7.78      0   \n14631                  0  ...             -1.42    4       0   8.40      6   \n14632                  0  ...              0.65    0       0  13.25      3   \n14633                  0  ...             -0.50    0       1   8.30      5   \n14634                  0  ...              0.78    2       0   7.65      4   \n\n       moonphase  mort30  mortality_rsi  race  complication  \n0              1       0          -0.43     1             0  \n1              1       0          -0.41     1             0  \n2              3       0           0.08     1             0  \n3              3       0          -0.32     1             0  \n4              0       0           0.00     1             0  \n...          ...     ...            ...   ...           ...  \n14630          1       0          -0.16     1             1  \n14631          1       0          -0.77     1             1  \n14632          3       0           0.99     1             1  \n14633          0       0           0.17     1             1  \n14634          1       0           1.06     0             1  \n\n[14635 rows x 25 columns]",
      "text/html": "<div>\n<style scoped>\n    .dataframe tbody tr th:only-of-type {\n        vertical-align: middle;\n    }\n\n    .dataframe tbody tr th {\n        vertical-align: top;\n    }\n\n    .dataframe thead th {\n        text-align: right;\n    }\n</style>\n<table border=\"1\" class=\"dataframe\">\n  <thead>\n    <tr style=\"text-align: right;\">\n      <th></th>\n      <th>bmi</th>\n      <th>Age</th>\n      <th>asa_status</th>\n      <th>baseline_cancer</th>\n      <th>baseline_charlson</th>\n      <th>baseline_cvd</th>\n      <th>baseline_dementia</th>\n      <th>baseline_diabetes</th>\n      <th>baseline_digestive</th>\n      <th>baseline_osteoart</th>\n      <th>...</th>\n      <th>complication_rsi</th>\n      <th>dow</th>\n      <th>gender</th>\n      <th>hour</th>\n      <th>month</th>\n      <th>moonphase</th>\n      <th>mort30</th>\n      <th>mortality_rsi</th>\n      <th>race</th>\n      <th>complication</th>\n    </tr>\n  </thead>\n  <tbody>\n    <tr>\n      <th>0</th>\n      <td>19.31</td>\n      <td>59.2</td>\n      <td>1</td>\n      <td>1</td>\n      <td>0</td>\n      <td>0</td>\n      <td>0</td>\n      <td>0</td>\n      <td>0</td>\n      <td>0</td>\n      <td>...</td>\n      <td>-0.57</td>\n      <td>3</td>\n      <td>0</td>\n      <td>7.63</td>\n      <td>6</td>\n      <td>1</td>\n      <td>0</td>\n      <td>-0.43</td>\n      <td>1</td>\n      <td>0</td>\n    </tr>\n    <tr>\n      <th>1</th>\n      <td>18.73</td>\n      <td>59.1</td>\n      <td>0</td>\n      <td>0</td>\n      <td>0</td>\n      <td>0</td>\n      <td>0</td>\n      <td>0</td>\n      <td>0</td>\n      <td>0</td>\n      <td>...</td>\n      <td>0.21</td>\n      <td>0</td>\n      <td>0</td>\n      <td>12.93</td>\n      <td>0</td>\n      <td>1</td>\n      <td>0</td>\n      <td>-0.41</td>\n      <td>1</td>\n      <td>0</td>\n    </tr>\n    <tr>\n      <th>2</th>\n      <td>21.85</td>\n      <td>59.0</td>\n      <td>0</td>\n      <td>0</td>\n      <td>0</td>\n      <td>0</td>\n      <td>0</td>\n      <td>0</td>\n      <td>0</td>\n      <td>0</td>\n      <td>...</td>\n      <td>0.00</td>\n      <td>2</td>\n      <td>0</td>\n      <td>7.68</td>\n      <td>5</td>\n      <td>3</td>\n      <td>0</td>\n      <td>0.08</td>\n      <td>1</td>\n      <td>0</td>\n    </tr>\n    <tr>\n      <th>3</th>\n      <td>18.49</td>\n      <td>59.0</td>\n      <td>1</td>\n      <td>0</td>\n      <td>1</td>\n      <td>0</td>\n      <td>0</td>\n      <td>1</td>\n      <td>1</td>\n      <td>0</td>\n      <td>...</td>\n      <td>-0.65</td>\n      <td>2</td>\n      <td>1</td>\n      <td>7.58</td>\n      <td>4</td>\n      <td>3</td>\n      <td>0</td>\n      <td>-0.32</td>\n      <td>1</td>\n      <td>0</td>\n    </tr>\n    <tr>\n      <th>4</th>\n      <td>19.70</td>\n      <td>59.0</td>\n      <td>1</td>\n      <td>0</td>\n      <td>0</td>\n      <td>0</td>\n      <td>0</td>\n      <td>0</td>\n      <td>0</td>\n      <td>0</td>\n      <td>...</td>\n      <td>0.00</td>\n      <td>0</td>\n      <td>0</td>\n      <td>7.88</td>\n      <td>11</td>\n      <td>0</td>\n      <td>0</td>\n      <td>0.00</td>\n      <td>1</td>\n      <td>0</td>\n    </tr>\n    <tr>\n      <th>...</th>\n      <td>...</td>\n      <td>...</td>\n      <td>...</td>\n      <td>...</td>\n      <td>...</td>\n      <td>...</td>\n      <td>...</td>\n      <td>...</td>\n      <td>...</td>\n      <td>...</td>\n      <td>...</td>\n      <td>...</td>\n      <td>...</td>\n      <td>...</td>\n      <td>...</td>\n      <td>...</td>\n      <td>...</td>\n      <td>...</td>\n      <td>...</td>\n      <td>...</td>\n      <td>...</td>\n    </tr>\n    <tr>\n      <th>14630</th>\n      <td>18.79</td>\n      <td>14.1</td>\n      <td>1</td>\n      <td>0</td>\n      <td>1</td>\n      <td>0</td>\n      <td>0</td>\n      <td>0</td>\n      <td>0</td>\n      <td>0</td>\n      <td>...</td>\n      <td>-0.54</td>\n      <td>1</td>\n      <td>0</td>\n      <td>7.78</td>\n      <td>0</td>\n      <td>1</td>\n      <td>0</td>\n      <td>-0.16</td>\n      <td>1</td>\n      <td>1</td>\n    </tr>\n    <tr>\n      <th>14631</th>\n      <td>19.65</td>\n      <td>12.6</td>\n      <td>0</td>\n      <td>0</td>\n      <td>0</td>\n      <td>0</td>\n      <td>0</td>\n      <td>0</td>\n      <td>0</td>\n      <td>0</td>\n      <td>...</td>\n      <td>-1.42</td>\n      <td>4</td>\n      <td>0</td>\n      <td>8.40</td>\n      <td>6</td>\n      <td>1</td>\n      <td>0</td>\n      <td>-0.77</td>\n      <td>1</td>\n      <td>1</td>\n    </tr>\n    <tr>\n      <th>14632</th>\n      <td>14.84</td>\n      <td>12.6</td>\n      <td>1</td>\n      <td>0</td>\n      <td>0</td>\n      <td>0</td>\n      <td>0</td>\n      <td>0</td>\n      <td>0</td>\n      <td>0</td>\n      <td>...</td>\n      <td>0.65</td>\n      <td>0</td>\n      <td>0</td>\n      <td>13.25</td>\n      <td>3</td>\n      <td>3</td>\n      <td>0</td>\n      <td>0.99</td>\n      <td>1</td>\n      <td>1</td>\n    </tr>\n    <tr>\n      <th>14633</th>\n      <td>17.75</td>\n      <td>8.9</td>\n      <td>0</td>\n      <td>0</td>\n      <td>1</td>\n      <td>0</td>\n      <td>0</td>\n      <td>0</td>\n      <td>1</td>\n      <td>0</td>\n      <td>...</td>\n      <td>-0.50</td>\n      <td>0</td>\n      <td>1</td>\n      <td>8.30</td>\n      <td>5</td>\n      <td>0</td>\n      <td>0</td>\n      <td>0.17</td>\n      <td>1</td>\n      <td>1</td>\n    </tr>\n    <tr>\n      <th>14634</th>\n      <td>14.40</td>\n      <td>6.1</td>\n      <td>1</td>\n      <td>0</td>\n      <td>1</td>\n      <td>0</td>\n      <td>0</td>\n      <td>0</td>\n      <td>1</td>\n      <td>0</td>\n      <td>...</td>\n      <td>0.78</td>\n      <td>2</td>\n      <td>0</td>\n      <td>7.65</td>\n      <td>4</td>\n      <td>1</td>\n      <td>0</td>\n      <td>1.06</td>\n      <td>0</td>\n      <td>1</td>\n    </tr>\n  </tbody>\n</table>\n<p>14635 rows × 25 columns</p>\n</div>"
     },
     "execution_count": 3,
     "metadata": {},
     "output_type": "execute_result"
    }
   ],
   "source": [
    "df = pd.read_csv(\"data/Surgical-deepnet.csv\")\n",
    "df"
   ],
   "metadata": {
    "collapsed": false,
    "pycharm": {
     "name": "#%%\n"
    }
   }
  },
  {
   "cell_type": "code",
   "execution_count": 4,
   "outputs": [
    {
     "data": {
      "text/plain": "bmi                    0\nAge                    0\nasa_status             0\nbaseline_cancer        0\nbaseline_charlson      0\nbaseline_cvd           0\nbaseline_dementia      0\nbaseline_diabetes      0\nbaseline_digestive     0\nbaseline_osteoart      0\nbaseline_psych         0\nbaseline_pulmonary     0\nahrq_ccs               0\nccsComplicationRate    0\nccsMort30Rate          0\ncomplication_rsi       0\ndow                    0\ngender                 0\nhour                   0\nmonth                  0\nmoonphase              0\nmort30                 0\nmortality_rsi          0\nrace                   0\ncomplication           0\ndtype: int64"
     },
     "execution_count": 4,
     "metadata": {},
     "output_type": "execute_result"
    }
   ],
   "source": [
    "df.isnull().sum()"
   ],
   "metadata": {
    "collapsed": false,
    "pycharm": {
     "name": "#%%\n"
    }
   }
  },
  {
   "cell_type": "code",
   "execution_count": 5,
   "outputs": [
    {
     "data": {
      "text/plain": "((11708, 24), (2927, 24), (11708,), (2927,))"
     },
     "execution_count": 5,
     "metadata": {},
     "output_type": "execute_result"
    }
   ],
   "source": [
    "X = df.drop('complication', axis=1).copy().values\n",
    "Y = df['complication'].copy().values\n",
    "\n",
    "X_train, X_test, Y_train, Y_test = train_test_split(X, Y, test_size=0.2)\n",
    "X_train.shape, X_test.shape, Y_train.shape, Y_test.shape"
   ],
   "metadata": {
    "collapsed": false,
    "pycharm": {
     "name": "#%%\n"
    }
   }
  },
  {
   "cell_type": "code",
   "execution_count": 6,
   "outputs": [
    {
     "data": {
      "text/plain": "((11708, 1), (2927, 1))"
     },
     "execution_count": 6,
     "metadata": {},
     "output_type": "execute_result"
    }
   ],
   "source": [
    "Y_train = Y_train.reshape(-1, 1)\n",
    "Y_test = Y_test.reshape(-1, 1)\n",
    "Y_train.shape, Y_test.shape"
   ],
   "metadata": {
    "collapsed": false,
    "pycharm": {
     "name": "#%%\n"
    }
   }
  },
  {
   "cell_type": "code",
   "execution_count": 7,
   "outputs": [],
   "source": [
    "\n",
    "class Perceptron:\n",
    "    def __init__(self, learning_rate, input_length):\n",
    "        self.learning_rate = learning_rate\n",
    "        self.w = np.random.rand(input_length)\n",
    "        self.b = np.random.rand(1)\n",
    "\n",
    "    def activation(self, x, function=\"sigmoid\"):\n",
    "        if function == 'sigmoid':\n",
    "            return 1 / (1 + np.exp(-x))\n",
    "        elif function == 'relu':\n",
    "            return np.maximum(0, x)\n",
    "        elif function == 'tanh':\n",
    "            return np.tanh(x)\n",
    "        elif function == 'linear':\n",
    "            return x\n",
    "        else:\n",
    "            raise Exception(\"Unknown activation function\")\n",
    "\n",
    "    def forward(self, x):\n",
    "      return self.activation(x @ self.w + self.b)\n",
    "\n",
    "    def back_propagation(self, x, y, y_pred):\n",
    "      error = y_pred - y\n",
    "      dw = error * x\n",
    "      db = error\n",
    "      return dw, db\n",
    "\n",
    "    def update(self, dw, db):\n",
    "      self.w = self.w - self.learning_rate * dw\n",
    "      self.b = self.b - self.learning_rate * db\n",
    "\n",
    "    def fit(self, X_train, Y_train, epochs):\n",
    "\n",
    "        for epoch in tqdm(range(epochs)):\n",
    "            for x, y in zip(X_train, Y_train):\n",
    "                # forwarding\n",
    "                y_pred = self.forward(x)\n",
    "\n",
    "                # back propagation\n",
    "                dw, db = self.back_propagation(x, y, y_pred)\n",
    "\n",
    "                # updating\n",
    "                self.update(dw, db)\n",
    "\n",
    "\n",
    "    def calculate_loss(self, X_test, Y_test, metric='mse'):\n",
    "        Y_pred = self.predict(X_test)\n",
    "        if metric == 'mse':\n",
    "            return np.mean(np.square(Y_test - Y_pred))\n",
    "        elif metric == 'mae':\n",
    "            return np.mean(np.abs(Y_test - Y_pred))\n",
    "        else:\n",
    "            raise Exception('Unknown metric')\n",
    "\n",
    "\n",
    "    def calculate_accuracy(self, X_test, Y_test):\n",
    "        Y_pred = self.predict(X_test)\n",
    "        Y_pred = np.where(Y_pred > 0.5, 1, 0)\n",
    "        accuracy = np.mean(Y_pred == Y_test)\n",
    "        return accuracy\n",
    "\n",
    "    def predict(self, X_test):\n",
    "#        Y_pred = []\n",
    "#        for x_test in X_test:\n",
    "        Y_pred = self.forward(X_test)\n",
    "        Y_pred = Y_pred.reshape(-1, 1)\n",
    " #         Y_pred.append(y_pred)\n",
    "        return np.array(Y_pred)\n",
    "\n",
    "    def evaluate(self, X_test, Y_test):\n",
    "        loss = self.calculate_loss(X_test, Y_test)\n",
    "        accuracy = self.calculate_accuracy(X_test, Y_test)\n",
    "        return loss, accuracy"
   ],
   "metadata": {
    "collapsed": false,
    "pycharm": {
     "name": "#%%\n"
    }
   }
  },
  {
   "cell_type": "code",
   "execution_count": 8,
   "outputs": [
    {
     "name": "stderr",
     "output_type": "stream",
     "text": [
      "100%|██████████| 256/256 [01:05<00:00,  3.92it/s]\n"
     ]
    }
   ],
   "source": [
    "model = Perceptron(learning_rate=0.001, input_length=X.shape[1])\n",
    "model.fit(X_train, Y_train, epochs=256)"
   ],
   "metadata": {
    "collapsed": false,
    "pycharm": {
     "name": "#%%\n"
    }
   }
  },
  {
   "cell_type": "code",
   "execution_count": 9,
   "outputs": [
    {
     "data": {
      "text/plain": "(0.16149608724380782, 0.7745131533993851)"
     },
     "execution_count": 9,
     "metadata": {},
     "output_type": "execute_result"
    }
   ],
   "source": [
    "model.evaluate(X_test, Y_test)"
   ],
   "metadata": {
    "collapsed": false,
    "pycharm": {
     "name": "#%%\n"
    }
   }
  },
  {
   "cell_type": "code",
   "execution_count": 10,
   "outputs": [],
   "source": [
    "Y_pred = model.predict(X_test)\n",
    "Y_pred = np.where(Y_pred > 0.5, 1, 0)"
   ],
   "metadata": {
    "collapsed": false,
    "pycharm": {
     "name": "#%%\n"
    }
   }
  },
  {
   "cell_type": "code",
   "execution_count": 11,
   "outputs": [
    {
     "name": "stdout",
     "output_type": "stream",
     "text": [
      "(2927, 1)\n",
      "(2927, 1)\n"
     ]
    },
    {
     "data": {
      "text/plain": "array([[1973,  224],\n       [ 436,  294]], dtype=int64)"
     },
     "execution_count": 11,
     "metadata": {},
     "output_type": "execute_result"
    }
   ],
   "source": [
    "#confusion matrix\n",
    "\n",
    "from sklearn.metrics import confusion_matrix\n",
    "print(Y_test.shape)\n",
    "print(Y_pred.shape)\n",
    "confusion_matrix(Y_test, Y_pred)"
   ],
   "metadata": {
    "collapsed": false,
    "pycharm": {
     "name": "#%%\n"
    }
   }
  },
  {
   "cell_type": "code",
   "execution_count": 12,
   "outputs": [
    {
     "name": "stdout",
     "output_type": "stream",
     "text": [
      "precision_score: 0.5675675675675675\n",
      "recall_score: 0.40273972602739727\n"
     ]
    }
   ],
   "source": [
    "# precision and recall\n",
    "\n",
    "from sklearn.metrics import precision_score, recall_score\n",
    "\n",
    "print('precision_score:', precision_score(Y_test, Y_pred))\n",
    "print('recall_score:', recall_score(Y_test, Y_pred))"
   ],
   "metadata": {
    "collapsed": false,
    "pycharm": {
     "name": "#%%\n"
    }
   }
  },
  {
   "cell_type": "code",
   "execution_count": null,
   "outputs": [],
   "source": [],
   "metadata": {
    "collapsed": false,
    "pycharm": {
     "name": "#%%\n"
    }
   }
  }
 ],
 "metadata": {
  "kernelspec": {
   "display_name": "Python 3",
   "language": "python",
   "name": "python3"
  },
  "language_info": {
   "codemirror_mode": {
    "name": "ipython",
    "version": 2
   },
   "file_extension": ".py",
   "mimetype": "text/x-python",
   "name": "python",
   "nbconvert_exporter": "python",
   "pygments_lexer": "ipython2",
   "version": "2.7.6"
  }
 },
 "nbformat": 4,
 "nbformat_minor": 0
}